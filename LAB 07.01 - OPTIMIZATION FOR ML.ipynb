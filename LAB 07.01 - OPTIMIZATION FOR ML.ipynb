{
  "cells": [
    {
      "attachments": {},
      "cell_type": "markdown",
      "metadata": {
        "id": "4hCQvrtq7c9F"
      },
      "source": [
        "# LAB 07.01 - Optimization for ML"
      ]
    },
    {
      "cell_type": "code",
      "execution_count": 1,
      "metadata": {
        "colab": {
          "base_uri": "https://localhost:8080/",
          "height": 75
        },
        "id": "6GRK-dl07c9I",
        "outputId": "e5d687e6-2820-4aad-f9cc-4958042bcf3e"
      },
      "outputs": [
        {
          "data": {
            "text/html": [
              "\n",
              "<meta name=\"google-signin-client_id\"\n",
              "      content=\"461673936472-kdjosv61up3ac1ajeuq6qqu72upilmls.apps.googleusercontent.com\"/>\n",
              "<script src=\"https://apis.google.com/js/client:platform.js?onload=google_button_start\"></script>\n",
              "    "
            ],
            "text/plain": [
              "<IPython.core.display.HTML object>"
            ]
          },
          "metadata": {},
          "output_type": "display_data"
        },
        {
          "name": "stdout",
          "output_type": "stream",
          "text": [
            "replicating local resources\n"
          ]
        },
        {
          "data": {
            "text/html": [
              "<h3>See <a href='https://m5knaekxo6.execute-api.us-west-2.amazonaws.com/dev-v0001/rlxmooc/web/login' target='_blank'>my courses and progress</a></h2>"
            ],
            "text/plain": [
              "<IPython.core.display.HTML object>"
            ]
          },
          "execution_count": 1,
          "metadata": {},
          "output_type": "execute_result"
        }
      ],
      "source": [
        "!wget --no-cache -O init.py -q https://raw.githubusercontent.com/rramosp/ai4eng.v1/main/content/init.py\n",
        "import init; init.init(force_download=False); init.get_weblink()"
      ]
    },
    {
      "cell_type": "code",
      "execution_count": 2,
      "metadata": {
        "colab": {
          "base_uri": "https://localhost:8080/",
          "height": 135,
          "referenced_widgets": [
            "9a063cef2d11454eb0cc339122270495",
            "04cb0155d70146a8adc6550d32eaaf95",
            "b8017937d20042a98d538bba564fe36a",
            "bd02d6dc04bb44039152db0d290b825f",
            "4a3f637f5cc74f10b2543c744768c192",
            "ab7aad5438a84b76bb99f2b795f688e4",
            "36a96717341a445d8ffac9dbfee19232",
            "d67b3e7943e841baa0b282fdd7cba6d7",
            "b112d9a51e1b429d803635c422d5e4d9",
            "5126f2f6f77e4f719cb9a69e63f707bd",
            "9392d2fa24b04bd892dc1fb81884f35c",
            "fb454d1868c24bfa922bd149615e5e7c",
            "dbf5ca3080f140848375e56bc3fb0fac",
            "0bc20b16a82f4934b655daa16393904c",
            "7891a4369f6f4aeeb30c5ef9f2f00453",
            "8bb58aba60d04cb083f879b14c14f5b2",
            "33cc34b148f6476488ce7e84024c371a",
            "abe8fc2e81b34861a7f6888cd074de6a",
            "1194c3e8b89e4392b4afd48f05f06407"
          ]
        },
        "id": "WU18o9Nr7c9L",
        "outputId": "f976dda6-a0b2-4e30-f62e-ece7d0f40077"
      },
      "outputs": [
        {
          "name": "stdout",
          "output_type": "stream",
          "text": [
            "logging in as santiago.ramirez10@udea.edu.co... please wait\n",
            "using course session ai4eng.v1.udea.r2::2023.1\n",
            "success!! you are logged in\n"
          ]
        }
      ],
      "source": [
        "from local.lib.rlxmoocapi import submit, session\n",
        "session.LoginSequence(endpoint=init.endpoint, course_id=init.course_id, lab_id=\"L07.01\", varname=\"student\");"
      ]
    },
    {
      "cell_type": "code",
      "execution_count": 3,
      "metadata": {
        "id": "zME8vOOo7c9O"
      },
      "outputs": [],
      "source": [
        "from sklearn.datasets import make_moons\n",
        "import numpy as np\n",
        "import matplotlib.pyplot as plt\n",
        "import pandas as pd\n",
        "from local.lib import mlutils\n",
        "%matplotlib inline"
      ]
    },
    {
      "attachments": {},
      "cell_type": "markdown",
      "metadata": {
        "id": "ha2CpcPk7c9Q"
      },
      "source": [
        "## Dataset \n",
        "\n",
        "you have data in a matrix $\\mathbf{X} \\in \\mathbb{R}^{m\\times n}$ and the corresponding labels $\\mathbf{y} \\in \\mathbb{R}^m$.\n",
        "\n",
        "each row in matrix $\\mathbf{X}$ contains one data point $\\mathbf{x}^{(i)}$\n",
        "\n",
        "$$\\begin{bmatrix}\n",
        " x^{(0)}\\\\\n",
        " x^{(1)}\\\\\n",
        " ... \\\\\n",
        " x^{(m-1)} \n",
        "\\end{bmatrix}\n",
        "$$\n",
        "\n",
        "and each data point is a vector $\\mathbf{x}^{(i)}=[x^{(i)}_0, x^{(i)}_1,...,x^{(i)}_{n-1}]$.\n",
        "\n",
        "Also, each data point has an associated label $\\mathbf{y} = [y^{(0)}, y^{(1)},..., y^{(m-1)}]$.\n",
        "\n",
        "We will be doing **binary classification** so $y^{(0)}\\in \\{0,1\\}$"
      ]
    },
    {
      "cell_type": "code",
      "execution_count": 4,
      "metadata": {
        "colab": {
          "base_uri": "https://localhost:8080/"
        },
        "id": "9IJykpFI7c9S",
        "outputId": "7e8e8f58-b5a8-413c-eece-b2b4e5b1c6b1"
      },
      "outputs": [
        {
          "name": "stdout",
          "output_type": "stream",
          "text": [
            "m=200\n",
            "n=2\n"
          ]
        },
        {
          "data": {
            "text/plain": [
              "((200, 2), (200,))"
            ]
          },
          "execution_count": 4,
          "metadata": {},
          "output_type": "execute_result"
        }
      ],
      "source": [
        "d = pd.read_csv(\"local/data/moons.csv\")\n",
        "X = d[[\"col1\", \"col2\"]].values\n",
        "y = d[\"target\"].values\n",
        "print (\"m=%d\\nn=%d\"%(X.shape[0], X.shape[1]))\n",
        "X.shape, y.shape"
      ]
    },
    {
      "cell_type": "code",
      "execution_count": 5,
      "metadata": {
        "colab": {
          "base_uri": "https://localhost:8080/"
        },
        "id": "fn5SARxw7c9U",
        "outputId": "9baa0994-eab1-43cf-996c-a61a060ba73e"
      },
      "outputs": [
        {
          "name": "stdout",
          "output_type": "stream",
          "text": [
            "[[ 1.303374   -0.81478084]\n",
            " [-0.98727894 -0.06456482]\n",
            " [ 2.317555    0.44925394]\n",
            " [ 0.85310268 -0.22083508]\n",
            " [-0.97006406  0.64095693]\n",
            " [ 1.65849049 -0.2342485 ]\n",
            " [ 0.8684624  -0.28940167]\n",
            " [ 0.05631143  0.00296565]\n",
            " [ 0.88824669 -0.12888889]\n",
            " [ 0.9925954   0.31451716]]\n",
            "[1 0 1 1 0 1 1 1 1 0]\n"
          ]
        }
      ],
      "source": [
        "print (X[:10])\n",
        "print (y[:10])"
      ]
    },
    {
      "cell_type": "code",
      "execution_count": 6,
      "metadata": {
        "colab": {
          "base_uri": "https://localhost:8080/",
          "height": 430
        },
        "id": "gzoZqZLe7c9W",
        "outputId": "9fa34416-4f18-48ee-a038-bc842bf62c7b"
      },
      "outputs": [
        {
          "data": {
            "image/png": "[encoded data removed]",
            "text/plain": [
              "<Figure size 640x480 with 1 Axes>"
            ]
          },
          "metadata": {},
          "output_type": "display_data"
        }
      ],
      "source": [
        "plt.scatter(X[:,0][y==0], X[:,1][y==0], color=\"red\", label=\"class 0\")\n",
        "plt.scatter(X[:,0][y==1], X[:,1][y==1], color=\"blue\", label=\"class 1\")\n",
        "plt.legend();"
      ]
    },
    {
      "attachments": {},
      "cell_type": "markdown",
      "metadata": {
        "id": "MySmVNvu7c9Y"
      },
      "source": [
        "## Task 1: Create a prediction function\n",
        "\n",
        "**complete the following prediction function** which accepts:\n",
        "    \n",
        "- $\\mathbf{\\theta} = [\\theta_0, \\theta_1,... \\theta_{n-1}] \\in \\mathbb{R}^n$, a `numpy` vector.\n",
        "- $b  \\in \\mathbb{R}$ , a `float`.\n",
        "- $\\mathbf{X} \\in \\mathbb{R}^{m\\times n}$, a `numpy` 2D array.\n",
        "\n",
        "and returns\n",
        "\n",
        "- $\\hat{\\mathbf{y}} = [\\hat{y}^{(0)}, \\hat{y}^{(1)}, ..., \\hat{y}^{(m-1)}] \\in \\mathbb{R}^m$ defined as follows\n",
        "\n",
        "$$\\hat{y}^{(i)} = \\text{sigm}(\\mathbf{\\theta} \\cdot \\mathbf{x}^{(i)} + b) = \\text{sigm}(\\theta_0 x^{(i)}_0 + \\theta_1 x^{(i)}_1 + b)$$\n",
        "\n",
        "with \n",
        "\n",
        "$$\\text{sigm}(z) = \\frac{1}{1+e^{-z}}$$\n",
        "\n",
        "note that we can also express the prediction vector $\\hat{\\mathbf{y}}$ over the whole dataset as\n",
        "\n",
        "$$\\hat{\\mathbf{y}} = \\text{sigm}(\\mathbf{\\theta} \\cdot \\mathbf{X} + b)$$\n",
        "\n",
        "observe that for any $z$, the sigmoid function squeshes its value between 0 and 1. It can  be simply seen as a continuous **step** function which converts any negative value into 0, and any positive value into 1.\n",
        "\n",
        "**challenge**: use only one line of python code (not counting the $\\text{sigm}$ definition)\n",
        "\n",
        "**warn**: your function must work with any $\\mathbf{X} \\in \\mathbb{R}^{m\\times n}$ and  $\\mathbf{\\theta} \\in \\mathbb{R}^n$, for any $m$ and $n$, not only for $n=2$"
      ]
    },
    {
      "cell_type": "code",
      "execution_count": 8,
      "metadata": {
        "colab": {
          "base_uri": "https://localhost:8080/",
          "height": 466
        },
        "id": "SYsXA5Vi7c9b",
        "outputId": "5890c154-68c5-46a8-81bd-a8a4aaab0d41"
      },
      "outputs": [
        {
          "data": {
            "text/plain": [
              "<matplotlib.lines.Line2D at 0x7f42a477d9f0>"
            ]
          },
          "execution_count": 8,
          "metadata": {},
          "output_type": "execute_result"
        },
        {
          "data": {
            "image/png": "[encoded data removed]",
            "text/plain": [
              "<Figure size 640x480 with 1 Axes>"
            ]
          },
          "metadata": {},
          "output_type": "display_data"
        }
      ],
      "source": [
        "z = np.linspace(-10,10,100)\n",
        "sigm = lambda x: 1/(1+np.exp(-x))\n",
        "plt.plot(z, sigm(z)); plt.grid(); plt.xlabel(\"z\"); plt.ylabel(\"sigm(z)\")\n",
        "plt.axhline(0.5, color=\"black\"); plt.axvline(0, color=\"black\")"
      ]
    },
    {
      "cell_type": "code",
      "execution_count": 7,
      "metadata": {
        "id": "T6iz549R7c9e"
      },
      "outputs": [],
      "source": [
        "def prediction(θ, b, X):\n",
        "    sigm = lambda z: 1 / (1 + np.exp(-z))\n",
        "    return sigm(X @ θ + b)"
      ]
    },
    {
      "attachments": {},
      "cell_type": "markdown",
      "metadata": {
        "id": "b30Ug37d7c9g"
      },
      "source": [
        "check manually your code. The following should yield a vector with 200 elements, whose sum should be 99.97 at its four first elements \n",
        "\n",
        "    [0.02328672 0.91257015 0.03781132 0.16139629 ... ]"
      ]
    },
    {
      "cell_type": "code",
      "execution_count": 9,
      "metadata": {
        "colab": {
          "base_uri": "https://localhost:8080/"
        },
        "id": "F6POmA-P7c9h",
        "outputId": "45475695-287b-4fac-872c-876f71053e72"
      },
      "outputs": [
        {
          "name": "stdout",
          "output_type": "stream",
          "text": [
            "(200,)\n",
            "99.97386377320545\n",
            "[0.02328672 0.91257015 0.03781132 0.16139629 0.97638655 0.03607275\n",
            " 0.13994725 0.59707888 0.17736962 0.29814299 0.65755661 0.1771665\n",
            " 0.10336722 0.36797186 0.04604533 0.09808586 0.56288781 0.13838998\n",
            " 0.85687064 0.05004791 0.02243482 0.10694533 0.66303597 0.05995927\n",
            " 0.5648827  0.03165357 0.17804726 0.98365697 0.08950736 0.17469931\n",
            " 0.03471958 0.93813354 0.05558113 0.6827537  0.10439341 0.0357004\n",
            " 0.19535612 0.97352349 0.58294619 0.11848779 0.64419508 0.94637233\n",
            " 0.4612505  0.96468022 0.1091973  0.9605648  0.04208797 0.86259254\n",
            " 0.02494794 0.8807287  0.24871015 0.94949941 0.97747638 0.06270446\n",
            " 0.97809036 0.5477603  0.05661584 0.98141433 0.02484988 0.94894862\n",
            " 0.58416607 0.76381496 0.36141804 0.84771584 0.16951545 0.88137323\n",
            " 0.96772376 0.0273022  0.43314501 0.89612832 0.86652099 0.9318912\n",
            " 0.66531857 0.98465757 0.01876907 0.0682854  0.91618647 0.96553816\n",
            " 0.67409963 0.43668183 0.3977055  0.24321165 0.69574722 0.04491925\n",
            " 0.1119693  0.02306961 0.04528634 0.10014058 0.04712416 0.30797157\n",
            " 0.95817597 0.03392095 0.60514889 0.06472612 0.34814159 0.9639904\n",
            " 0.63448775 0.95037498 0.95805031 0.97508267 0.89041751 0.87476677\n",
            " 0.05665916 0.97904327 0.11864747 0.55311165 0.81724032 0.94256753\n",
            " 0.07224916 0.04882344 0.97316194 0.85889144 0.94822145 0.06892718\n",
            " 0.61466904 0.01599037 0.91495974 0.81595554 0.20128128 0.78771593\n",
            " 0.76263319 0.68163979 0.94591105 0.0231061  0.54592907 0.79990745\n",
            " 0.80074137 0.34843172 0.07084613 0.9772565  0.30895417 0.95269949\n",
            " 0.1671651  0.70559761 0.00785656 0.33772067 0.03987279 0.94621878\n",
            " 0.88046924 0.03591547 0.96063594 0.94795017 0.80540486 0.03490292\n",
            " 0.26098632 0.21860677 0.55835667 0.12158367 0.98436662 0.02829939\n",
            " 0.94893523 0.88955562 0.82298945 0.96543914 0.04244038 0.96221766\n",
            " 0.57343511 0.09026756 0.07671437 0.96098677 0.54319756 0.61619537\n",
            " 0.03204009 0.96727823 0.0658985  0.11303289 0.64048045 0.80388491\n",
            " 0.22333058 0.84354772 0.92846589 0.26403884 0.97407814 0.97219881\n",
            " 0.97367449 0.2189301  0.06723228 0.81025717 0.02930671 0.03592065\n",
            " 0.88085375 0.95777161 0.95975867 0.85554001 0.96734573 0.76952622\n",
            " 0.04370447 0.82137535 0.03089646 0.52977519 0.06320069 0.60691788\n",
            " 0.22374885 0.38813177 0.16200154 0.01663967 0.54415955 0.97510455\n",
            " 0.28021284 0.97090871]\n"
          ]
        }
      ],
      "source": [
        "t,b = np.r_[[-2,2]], 0.5\n",
        "yhat = prediction(t,b,X)\n",
        "print (yhat.shape)\n",
        "print (np.sum(yhat))\n",
        "print (yhat)"
      ]
    },
    {
      "attachments": {},
      "cell_type": "markdown",
      "metadata": {
        "id": "u3uj9LTh7c9j"
      },
      "source": [
        "**submit your code**"
      ]
    },
    {
      "cell_type": "code",
      "execution_count": 10,
      "metadata": {
        "colab": {
          "base_uri": "https://localhost:8080/",
          "height": 163
        },
        "id": "KoU-eRcA7c9j",
        "outputId": "35b0b472-e512-444b-96a5-f250aa3828ce",
        "scrolled": true
      },
      "outputs": [
        {
          "data": {
            "text/html": [
              "\n",
              "                    <b>task_01 submitted.</b> <b><font color=\"blue\">your grade is 5</font></b> \n",
              "                    <p/><pre>----- grader message -------</pre><br/>testing with 100 random calls<br/><br/><b>correct</b><pre>----------------------------</pre>\n",
              "                    <p/><p/>\n",
              "                    <div style=\"font-size:10px\"><b>SUBMISSION CODE</b> x1Y5IY96c+Ppq4hVl/GwMDjDldsXF67FXhWkIRkBSCYTddnjt1sra5f7fIPQuULhBHh8HP2gJTc0jvuuDW8LQ0KSypjgMofO41uA1cfeE59guL19dspXjZWkKvagyq6W8U5qwdCFPB48/wPQAhM96x8zBzY919Z8V9WoPD7jmGc=</div>\n",
              "                    "
            ],
            "text/plain": [
              "<IPython.core.display.HTML object>"
            ]
          },
          "metadata": {},
          "output_type": "display_data"
        }
      ],
      "source": [
        "student.submit_task(globals(), task_id=\"task_01\");"
      ]
    },
    {
      "attachments": {},
      "cell_type": "markdown",
      "metadata": {
        "id": "73_OyEeC7c9l"
      },
      "source": [
        "## Task 2: Create the loss function\n",
        "\n",
        "accepting the following paramters\n",
        "\n",
        "- $\\mathbf{\\theta} = [\\theta_0, \\theta_1] \\in \\mathbb{R}^n$, a `numpy` vector.\n",
        "- $b  \\in \\mathbb{R}$ , a `float`.\n",
        "- $\\mathbf{X} \\in \\mathbb{R}^{m\\times n}$, a `numpy` 2D array.\n",
        "- $\\mathbf{y} \\in \\mathbb{R}^m$, a `numpy` vector.\n",
        "\n",
        "\n",
        "$$\\text{loss}(\\theta, b, \\mathbf{X} , \\mathbf{y}) = \\frac{1}{m}\\sum_{i=0}^{m-1}(\\hat{y}^{(i)}-y^{(i)})^2$$\n",
        "\n",
        "**challenge**: use only one line of python (not counting the `sigm` and `prediction` functions)."
      ]
    },
    {
      "cell_type": "code",
      "execution_count": 17,
      "metadata": {
        "id": "4jT-O7k87c9l"
      },
      "outputs": [],
      "source": [
        "def loss(θ, b, X, y):\n",
        "    sigm = lambda z: 1/(1+np.exp(-z))\n",
        "    return np.mean((sigm(X @ θ + b) - y)**2)"
      ]
    },
    {
      "attachments": {},
      "cell_type": "markdown",
      "metadata": {
        "id": "6_4TASun7c9m"
      },
      "source": [
        "check manually your code, you should get a loss of 0.664 approx."
      ]
    },
    {
      "cell_type": "code",
      "execution_count": 18,
      "metadata": {
        "colab": {
          "base_uri": "https://localhost:8080/"
        },
        "id": "FGbLWAxI7c9n",
        "outputId": "402e4fa8-5f41-4897-8f68-5dc745f1ddc3"
      },
      "outputs": [
        {
          "data": {
            "text/plain": [
              "0.6640737783637011"
            ]
          },
          "execution_count": 18,
          "metadata": {},
          "output_type": "execute_result"
        }
      ],
      "source": [
        "t,b = np.r_[[-2,2]], 0.5\n",
        "loss(t,b,X,y)"
      ]
    },
    {
      "attachments": {},
      "cell_type": "markdown",
      "metadata": {
        "id": "dm8DZ42o7c9o"
      },
      "source": [
        "**submit your code**"
      ]
    },
    {
      "cell_type": "code",
      "execution_count": 19,
      "metadata": {
        "colab": {
          "base_uri": "https://localhost:8080/",
          "height": 163
        },
        "id": "1WznG-4h7c9p",
        "outputId": "21794e6c-06e0-4d1d-d196-ddc26d103481",
        "scrolled": false
      },
      "outputs": [
        {
          "data": {
            "text/html": [
              "\n",
              "                    <b>task_02 submitted.</b> <b><font color=\"blue\">your grade is 5</font></b> \n",
              "                    <p/><pre>----- grader message -------</pre><br/>testing with 100 random calls<br/><br/><b>correct</b><pre>----------------------------</pre>\n",
              "                    <p/><p/>\n",
              "                    <div style=\"font-size:10px\"><b>SUBMISSION CODE</b> AIXwom8Clmfh5b1IilFWoImD2PDm0skOxmrLBnDckmGmgaoXq5WCSod3OnEKEHW0lkP2iWFC+NROTmAz7kXqsEwp2ec3yRWngicC2Wz5dC7pC7lURTJrBzIH+ea4ghkjEPIzENgDz7PjI5eNAWLQ7xUOTTruXnCNJ1MSWouPUrM=</div>\n",
              "                    "
            ],
            "text/plain": [
              "<IPython.core.display.HTML object>"
            ]
          },
          "metadata": {},
          "output_type": "display_data"
        }
      ],
      "source": [
        "student.submit_task(globals(), task_id=\"task_02\");"
      ]
    },
    {
      "attachments": {},
      "cell_type": "markdown",
      "metadata": {
        "id": "ENyqYVV87c9q"
      },
      "source": [
        "## Task 3: Obtain the best $\\theta$ and $b$ with black box optimization\n",
        "\n",
        "Complete the following function so that it returns the best $\\theta$ and $b$ for a given data set.\n",
        "\n",
        "Observe that \n",
        "\n",
        "- `x0` in `scipy.optimize.minimize` must be a vector of three items, the first two corresponding to $\\theta_0$ and $\\theta_1$, and the last one to $b$. \n",
        "- the return value of the optimizer `r.x` will also contain three items, and you will have to separate the first two into `t` and the last one into `b`. \n",
        "- you will have to adapt your `loss` function created before so that it extracts $\\theta$ and $b$ from the variable `params`."
      ]
    },
    {
      "cell_type": "code",
      "execution_count": 35,
      "metadata": {
        "id": "jA9Dz_Gk7c9r"
      },
      "outputs": [],
      "source": [
        "def fit(X, y):\n",
        "    from scipy.optimize import minimize\n",
        "    def loss(params, X, y):\n",
        "        t, b = params[:-1], params[-1]\n",
        "        y_pred = sigm(X @ t + b)\n",
        "        return np.mean((y_pred - y) ** 2)\n",
        "    def sigm(z):\n",
        "        return 1 / (1 + np.exp(-z))\n",
        "    x0 = np.zeros(X.shape[1] + 1)\n",
        "    result = minimize(loss, x0, args=(X, y), method='BFGS')\n",
        "    t, b = result.x[:-1], result.x[-1]\n",
        "    return t, b"
      ]
    },
    {
      "cell_type": "code",
      "execution_count": 32,
      "metadata": {
        "id": "pp-xfnrX7c9r"
      },
      "outputs": [],
      "source": [
        "t, b = fit(X,y)"
      ]
    },
    {
      "attachments": {},
      "cell_type": "markdown",
      "metadata": {
        "id": "kJ_6efP27c9s"
      },
      "source": [
        "check manually your code, you should get an accuracy of about 84%-87%, and a classification frontier similar to this one.\n",
        "\n",
        "**Observe** how we convert the sigmoid output which can be any number $\\in [0,1]$, into a discrete classification (0 or 1) by thresholding on 0.5"
      ]
    },
    {
      "cell_type": "code",
      "execution_count": 20,
      "metadata": {
        "colab": {
          "base_uri": "https://localhost:8080/",
          "height": 265
        },
        "id": "ItCMmhfB7c9t",
        "outputId": "ecacb122-acf6-4a12-e210-a17861e76b73"
      },
      "outputs": [
        {
          "data": {
            "image/png": "[encoded data removed]",
            "text/plain": [
              "<IPython.core.display.Image object>"
            ]
          },
          "execution_count": 20,
          "metadata": {},
          "output_type": "execute_result"
        }
      ],
      "source": [
        "from IPython.display import Image\n",
        "Image(filename='local/imgs/logregmoons.png')"
      ]
    },
    {
      "cell_type": "code",
      "execution_count": 21,
      "metadata": {
        "colab": {
          "base_uri": "https://localhost:8080/"
        },
        "id": "W2AhePsQ7c9u",
        "outputId": "60f3e865-b68e-4303-a6a9-709186c6f79f"
      },
      "outputs": [
        {
          "data": {
            "text/plain": [
              "(array([-2,  2]), 0.5)"
            ]
          },
          "execution_count": 21,
          "metadata": {},
          "output_type": "execute_result"
        }
      ],
      "source": [
        "t, b"
      ]
    },
    {
      "cell_type": "code",
      "execution_count": 22,
      "metadata": {
        "colab": {
          "base_uri": "https://localhost:8080/",
          "height": 447
        },
        "id": "K2H6rkjh7c9v",
        "outputId": "e7c3a5b7-1371-43a6-e89b-1e1d9a22f9e1"
      },
      "outputs": [
        {
          "data": {
            "text/plain": [
              "(0.5099, 0.4901)"
            ]
          },
          "execution_count": 22,
          "metadata": {},
          "output_type": "execute_result"
        },
        {
          "data": {
            "image/png": "[encoded data removed]",
            "text/plain": [
              "<Figure size 640x480 with 1 Axes>"
            ]
          },
          "metadata": {},
          "output_type": "display_data"
        }
      ],
      "source": [
        "mlutils.plot_2Ddata_with_boundary(lambda X: prediction(t,b,X)>.5, X, y)"
      ]
    },
    {
      "cell_type": "code",
      "execution_count": 23,
      "metadata": {
        "colab": {
          "base_uri": "https://localhost:8080/"
        },
        "id": "4SMVN0-i7c9x",
        "outputId": "5a862d83-e5ee-4026-f3dd-492ea8b82d81"
      },
      "outputs": [
        {
          "name": "stdout",
          "output_type": "stream",
          "text": [
            "accuracy 0.185\n"
          ]
        }
      ],
      "source": [
        "acc = np.mean( (prediction(t,b,X)>.5)==y)\n",
        "print (\"accuracy %.3f\"%acc)"
      ]
    },
    {
      "attachments": {},
      "cell_type": "markdown",
      "metadata": {
        "id": "z7i5OuPZ7c9y"
      },
      "source": [
        "**submit your code**"
      ]
    },
    {
      "cell_type": "code",
      "execution_count": 36,
      "metadata": {
        "colab": {
          "base_uri": "https://localhost:8080/",
          "height": 163
        },
        "id": "tXhKb00U7c9y",
        "outputId": "e9048c6e-f257-4bd3-f2a8-1098248b0af5",
        "scrolled": false
      },
      "outputs": [
        {
          "data": {
            "text/html": [
              "\n",
              "                    <b>task_03 submitted.</b> <b><font color=\"blue\">your grade is 5</font></b> \n",
              "                    <p/><pre>----- grader message -------</pre><br/>testing with 100 random calls<br/><br/><b>correct</b><pre>----------------------------</pre>\n",
              "                    <p/><p/>\n",
              "                    <div style=\"font-size:10px\"><b>SUBMISSION CODE</b> 7BsgrG0aXIbKRSIVSX0B52u+fMalO/EWbfNfw/KigftHp3KvCjXqEDPqV7VFNP9XBcEfj+TIWk25G9oDyT6S4A47GtUPTNexNckospYq0XM58z5n0ipK5nrO+Dtf7wNGw48SsLJjegBUbGVcNpQv39H9RtJQo+vYBTlcCYZ+QGM=</div>\n",
              "                    "
            ],
            "text/plain": [
              "<IPython.core.display.HTML object>"
            ]
          },
          "metadata": {},
          "output_type": "display_data"
        }
      ],
      "source": [
        "student.submit_task(globals(), task_id=\"task_03\");"
      ]
    }
  ],
  "metadata": {
    "colab": {
      "provenance": []
    },
    "kernelspec": {
      "display_name": "Python 3",
      "language": "python",
      "name": "python3"
    },
    "language_info": {
      "codemirror_mode": {
        "name": "ipython",
        "version": 3
      },
      "file_extension": ".py",
      "mimetype": "text/x-python",
      "name": "python",
      "nbconvert_exporter": "python",
      "pygments_lexer": "ipython3",
      "version": "3.7.3"
    },
    "widgets": {
      "application/vnd.jupyter.widget-state+json": {
        "04cb0155d70146a8adc6550d32eaaf95": {
          "model_module": "@jupyter-widgets/controls",
          "model_module_version": "1.5.0",
          "model_name": "VBoxModel",
          "state": {
            "_dom_classes": [],
            "_model_module": "@jupyter-widgets/controls",
            "_model_module_version": "1.5.0",
            "_model_name": "VBoxModel",
            "_view_count": null,
            "_view_module": "@jupyter-widgets/controls",
            "_view_module_version": "1.5.0",
            "_view_name": "VBoxView",
            "box_style": "",
            "children": [
              "IPY_MODEL_36a96717341a445d8ffac9dbfee19232",
              "IPY_MODEL_d67b3e7943e841baa0b282fdd7cba6d7"
            ],
            "layout": "IPY_MODEL_b112d9a51e1b429d803635c422d5e4d9"
          }
        },
        "0bc20b16a82f4934b655daa16393904c": {
          "model_module": "@jupyter-widgets/base",
          "model_module_version": "1.2.0",
          "model_name": "LayoutModel",
          "state": {
            "_model_module": "@jupyter-widgets/base",
            "_model_module_version": "1.2.0",
            "_model_name": "LayoutModel",
            "_view_count": null,
            "_view_module": "@jupyter-widgets/base",
            "_view_module_version": "1.2.0",
            "_view_name": "LayoutView",
            "align_content": null,
            "align_items": null,
            "align_self": null,
            "border": null,
            "bottom": null,
            "display": null,
            "flex": null,
            "flex_flow": null,
            "grid_area": null,
            "grid_auto_columns": null,
            "grid_auto_flow": null,
            "grid_auto_rows": null,
            "grid_column": null,
            "grid_gap": null,
            "grid_row": null,
            "grid_template_areas": null,
            "grid_template_columns": null,
            "grid_template_rows": null,
            "height": "53px",
            "justify_content": null,
            "justify_items": null,
            "left": null,
            "margin": null,
            "max_height": null,
            "max_width": null,
            "min_height": null,
            "min_width": null,
            "object_fit": null,
            "object_position": null,
            "order": null,
            "overflow": null,
            "overflow_x": null,
            "overflow_y": null,
            "padding": null,
            "right": null,
            "top": null,
            "visibility": null,
            "width": "200px"
          }
        },
        "1194c3e8b89e4392b4afd48f05f06407": {
          "model_module": "@jupyter-widgets/controls",
          "model_module_version": "1.5.0",
          "model_name": "DescriptionStyleModel",
          "state": {
            "_model_module": "@jupyter-widgets/controls",
            "_model_module_version": "1.5.0",
            "_model_name": "DescriptionStyleModel",
            "_view_count": null,
            "_view_module": "@jupyter-widgets/base",
            "_view_module_version": "1.2.0",
            "_view_name": "StyleView",
            "description_width": ""
          }
        },
        "33cc34b148f6476488ce7e84024c371a": {
          "model_module": "@jupyter-widgets/controls",
          "model_module_version": "1.5.0",
          "model_name": "DescriptionStyleModel",
          "state": {
            "_model_module": "@jupyter-widgets/controls",
            "_model_module_version": "1.5.0",
            "_model_name": "DescriptionStyleModel",
            "_view_count": null,
            "_view_module": "@jupyter-widgets/base",
            "_view_module_version": "1.2.0",
            "_view_name": "StyleView",
            "description_width": ""
          }
        },
        "36a96717341a445d8ffac9dbfee19232": {
          "model_module": "@jupyter-widgets/controls",
          "model_module_version": "1.5.0",
          "model_name": "TextModel",
          "state": {
            "_dom_classes": [],
            "_model_module": "@jupyter-widgets/controls",
            "_model_module_version": "1.5.0",
            "_model_name": "TextModel",
            "_view_count": null,
            "_view_module": "@jupyter-widgets/controls",
            "_view_module_version": "1.5.0",
            "_view_name": "TextView",
            "continuous_update": true,
            "description": "email",
            "description_tooltip": null,
            "disabled": false,
            "layout": "IPY_MODEL_8bb58aba60d04cb083f879b14c14f5b2",
            "placeholder": "​",
            "style": "IPY_MODEL_33cc34b148f6476488ce7e84024c371a",
            "value": ""
          }
        },
        "4a3f637f5cc74f10b2543c744768c192": {
          "model_module": "@jupyter-widgets/controls",
          "model_module_version": "1.5.0",
          "model_name": "ButtonModel",
          "state": {
            "_dom_classes": [
              "google_button"
            ],
            "_model_module": "@jupyter-widgets/controls",
            "_model_module_version": "1.5.0",
            "_model_name": "ButtonModel",
            "_view_count": null,
            "_view_module": "@jupyter-widgets/controls",
            "_view_module_version": "1.5.0",
            "_view_name": "ButtonView",
            "button_style": "",
            "description": "Login with Google",
            "disabled": false,
            "icon": "",
            "layout": "IPY_MODEL_0bc20b16a82f4934b655daa16393904c",
            "style": "IPY_MODEL_7891a4369f6f4aeeb30c5ef9f2f00453",
            "tooltip": ""
          }
        },
        "5126f2f6f77e4f719cb9a69e63f707bd": {
          "model_module": "@jupyter-widgets/base",
          "model_module_version": "1.2.0",
          "model_name": "LayoutModel",
          "state": {
            "_model_module": "@jupyter-widgets/base",
            "_model_module_version": "1.2.0",
            "_model_name": "LayoutModel",
            "_view_count": null,
            "_view_module": "@jupyter-widgets/base",
            "_view_module_version": "1.2.0",
            "_view_name": "LayoutView",
            "align_content": null,
            "align_items": null,
            "align_self": null,
            "border": null,
            "bottom": null,
            "display": null,
            "flex": null,
            "flex_flow": null,
            "grid_area": null,
            "grid_auto_columns": null,
            "grid_auto_flow": null,
            "grid_auto_rows": null,
            "grid_column": null,
            "grid_gap": null,
            "grid_row": null,
            "grid_template_areas": null,
            "grid_template_columns": null,
            "grid_template_rows": null,
            "height": "53px",
            "justify_content": null,
            "justify_items": null,
            "left": null,
            "margin": null,
            "max_height": null,
            "max_width": null,
            "min_height": null,
            "min_width": null,
            "object_fit": null,
            "object_position": null,
            "order": null,
            "overflow": null,
            "overflow_x": null,
            "overflow_y": null,
            "padding": null,
            "right": null,
            "top": null,
            "visibility": null,
            "width": "150px"
          }
        },
        "7891a4369f6f4aeeb30c5ef9f2f00453": {
          "model_module": "@jupyter-widgets/controls",
          "model_module_version": "1.5.0",
          "model_name": "ButtonStyleModel",
          "state": {
            "_model_module": "@jupyter-widgets/controls",
            "_model_module_version": "1.5.0",
            "_model_name": "ButtonStyleModel",
            "_view_count": null,
            "_view_module": "@jupyter-widgets/base",
            "_view_module_version": "1.2.0",
            "_view_name": "StyleView",
            "button_color": null,
            "font_weight": ""
          }
        },
        "8bb58aba60d04cb083f879b14c14f5b2": {
          "model_module": "@jupyter-widgets/base",
          "model_module_version": "1.2.0",
          "model_name": "LayoutModel",
          "state": {
            "_model_module": "@jupyter-widgets/base",
            "_model_module_version": "1.2.0",
            "_model_name": "LayoutModel",
            "_view_count": null,
            "_view_module": "@jupyter-widgets/base",
            "_view_module_version": "1.2.0",
            "_view_name": "LayoutView",
            "align_content": null,
            "align_items": null,
            "align_self": null,
            "border": null,
            "bottom": null,
            "display": null,
            "flex": null,
            "flex_flow": null,
            "grid_area": null,
            "grid_auto_columns": null,
            "grid_auto_flow": null,
            "grid_auto_rows": null,
            "grid_column": null,
            "grid_gap": null,
            "grid_row": null,
            "grid_template_areas": null,
            "grid_template_columns": null,
            "grid_template_rows": null,
            "height": "25px",
            "justify_content": null,
            "justify_items": null,
            "left": null,
            "margin": null,
            "max_height": null,
            "max_width": null,
            "min_height": null,
            "min_width": null,
            "object_fit": null,
            "object_position": null,
            "order": null,
            "overflow": null,
            "overflow_x": null,
            "overflow_y": null,
            "padding": null,
            "right": null,
            "top": null,
            "visibility": null,
            "width": "300px"
          }
        },
        "9392d2fa24b04bd892dc1fb81884f35c": {
          "model_module": "@jupyter-widgets/controls",
          "model_module_version": "1.5.0",
          "model_name": "ButtonStyleModel",
          "state": {
            "_model_module": "@jupyter-widgets/controls",
            "_model_module_version": "1.5.0",
            "_model_name": "ButtonStyleModel",
            "_view_count": null,
            "_view_module": "@jupyter-widgets/base",
            "_view_module_version": "1.2.0",
            "_view_name": "StyleView",
            "button_color": null,
            "font_weight": ""
          }
        },
        "9a063cef2d11454eb0cc339122270495": {
          "model_module": "@jupyter-widgets/controls",
          "model_module_version": "1.5.0",
          "model_name": "HBoxModel",
          "state": {
            "_dom_classes": [],
            "_model_module": "@jupyter-widgets/controls",
            "_model_module_version": "1.5.0",
            "_model_name": "HBoxModel",
            "_view_count": null,
            "_view_module": "@jupyter-widgets/controls",
            "_view_module_version": "1.5.0",
            "_view_name": "HBoxView",
            "box_style": "",
            "children": [
              "IPY_MODEL_04cb0155d70146a8adc6550d32eaaf95",
              "IPY_MODEL_b8017937d20042a98d538bba564fe36a",
              "IPY_MODEL_bd02d6dc04bb44039152db0d290b825f",
              "IPY_MODEL_4a3f637f5cc74f10b2543c744768c192"
            ],
            "layout": "IPY_MODEL_ab7aad5438a84b76bb99f2b795f688e4"
          }
        },
        "ab7aad5438a84b76bb99f2b795f688e4": {
          "model_module": "@jupyter-widgets/base",
          "model_module_version": "1.2.0",
          "model_name": "LayoutModel",
          "state": {
            "_model_module": "@jupyter-widgets/base",
            "_model_module_version": "1.2.0",
            "_model_name": "LayoutModel",
            "_view_count": null,
            "_view_module": "@jupyter-widgets/base",
            "_view_module_version": "1.2.0",
            "_view_name": "LayoutView",
            "align_content": null,
            "align_items": null,
            "align_self": null,
            "border": null,
            "bottom": null,
            "display": null,
            "flex": null,
            "flex_flow": null,
            "grid_area": null,
            "grid_auto_columns": null,
            "grid_auto_flow": null,
            "grid_auto_rows": null,
            "grid_column": null,
            "grid_gap": null,
            "grid_row": null,
            "grid_template_areas": null,
            "grid_template_columns": null,
            "grid_template_rows": null,
            "height": null,
            "justify_content": null,
            "justify_items": null,
            "left": null,
            "margin": null,
            "max_height": null,
            "max_width": null,
            "min_height": null,
            "min_width": null,
            "object_fit": null,
            "object_position": null,
            "order": null,
            "overflow": null,
            "overflow_x": null,
            "overflow_y": null,
            "padding": null,
            "right": null,
            "top": null,
            "visibility": null,
            "width": null
          }
        },
        "abe8fc2e81b34861a7f6888cd074de6a": {
          "model_module": "@jupyter-widgets/base",
          "model_module_version": "1.2.0",
          "model_name": "LayoutModel",
          "state": {
            "_model_module": "@jupyter-widgets/base",
            "_model_module_version": "1.2.0",
            "_model_name": "LayoutModel",
            "_view_count": null,
            "_view_module": "@jupyter-widgets/base",
            "_view_module_version": "1.2.0",
            "_view_name": "LayoutView",
            "align_content": null,
            "align_items": null,
            "align_self": null,
            "border": null,
            "bottom": null,
            "display": null,
            "flex": null,
            "flex_flow": null,
            "grid_area": null,
            "grid_auto_columns": null,
            "grid_auto_flow": null,
            "grid_auto_rows": null,
            "grid_column": null,
            "grid_gap": null,
            "grid_row": null,
            "grid_template_areas": null,
            "grid_template_columns": null,
            "grid_template_rows": null,
            "height": "24px",
            "justify_content": null,
            "justify_items": null,
            "left": null,
            "margin": null,
            "max_height": null,
            "max_width": null,
            "min_height": null,
            "min_width": null,
            "object_fit": null,
            "object_position": null,
            "order": null,
            "overflow": null,
            "overflow_x": null,
            "overflow_y": null,
            "padding": null,
            "right": null,
            "top": null,
            "visibility": null,
            "width": "300px"
          }
        },
        "b112d9a51e1b429d803635c422d5e4d9": {
          "model_module": "@jupyter-widgets/base",
          "model_module_version": "1.2.0",
          "model_name": "LayoutModel",
          "state": {
            "_model_module": "@jupyter-widgets/base",
            "_model_module_version": "1.2.0",
            "_model_name": "LayoutModel",
            "_view_count": null,
            "_view_module": "@jupyter-widgets/base",
            "_view_module_version": "1.2.0",
            "_view_name": "LayoutView",
            "align_content": null,
            "align_items": null,
            "align_self": null,
            "border": null,
            "bottom": null,
            "display": null,
            "flex": null,
            "flex_flow": null,
            "grid_area": null,
            "grid_auto_columns": null,
            "grid_auto_flow": null,
            "grid_auto_rows": null,
            "grid_column": null,
            "grid_gap": null,
            "grid_row": null,
            "grid_template_areas": null,
            "grid_template_columns": null,
            "grid_template_rows": null,
            "height": null,
            "justify_content": null,
            "justify_items": null,
            "left": null,
            "margin": null,
            "max_height": null,
            "max_width": null,
            "min_height": null,
            "min_width": null,
            "object_fit": null,
            "object_position": null,
            "order": null,
            "overflow": null,
            "overflow_x": null,
            "overflow_y": null,
            "padding": null,
            "right": null,
            "top": null,
            "visibility": null,
            "width": null
          }
        },
        "b8017937d20042a98d538bba564fe36a": {
          "model_module": "@jupyter-widgets/controls",
          "model_module_version": "1.5.0",
          "model_name": "ButtonModel",
          "state": {
            "_dom_classes": [
              "login_button"
            ],
            "_model_module": "@jupyter-widgets/controls",
            "_model_module_version": "1.5.0",
            "_model_name": "ButtonModel",
            "_view_count": null,
            "_view_module": "@jupyter-widgets/controls",
            "_view_module_version": "1.5.0",
            "_view_name": "ButtonView",
            "button_style": "",
            "description": "Login with email",
            "disabled": false,
            "icon": "",
            "layout": "IPY_MODEL_5126f2f6f77e4f719cb9a69e63f707bd",
            "style": "IPY_MODEL_9392d2fa24b04bd892dc1fb81884f35c",
            "tooltip": ""
          }
        },
        "bd02d6dc04bb44039152db0d290b825f": {
          "model_module": "@jupyter-widgets/controls",
          "model_module_version": "1.5.0",
          "model_name": "HTMLModel",
          "state": {
            "_dom_classes": [],
            "_model_module": "@jupyter-widgets/controls",
            "_model_module_version": "1.5.0",
            "_model_name": "HTMLModel",
            "_view_count": null,
            "_view_module": "@jupyter-widgets/controls",
            "_view_module_version": "1.5.0",
            "_view_name": "HTMLView",
            "description": "",
            "description_tooltip": null,
            "layout": "IPY_MODEL_fb454d1868c24bfa922bd149615e5e7c",
            "placeholder": "​",
            "style": "IPY_MODEL_dbf5ca3080f140848375e56bc3fb0fac",
            "value": "<center><big>or</big></center>"
          }
        },
        "d67b3e7943e841baa0b282fdd7cba6d7": {
          "model_module": "@jupyter-widgets/controls",
          "model_module_version": "1.5.0",
          "model_name": "PasswordModel",
          "state": {
            "_dom_classes": [],
            "_model_module": "@jupyter-widgets/controls",
            "_model_module_version": "1.5.0",
            "_model_name": "PasswordModel",
            "_view_count": null,
            "_view_module": "@jupyter-widgets/controls",
            "_view_module_version": "1.5.0",
            "_view_name": "PasswordView",
            "continuous_update": true,
            "description": "password",
            "description_tooltip": null,
            "disabled": false,
            "layout": "IPY_MODEL_abe8fc2e81b34861a7f6888cd074de6a",
            "placeholder": "​",
            "style": "IPY_MODEL_1194c3e8b89e4392b4afd48f05f06407",
            "value": ""
          }
        },
        "dbf5ca3080f140848375e56bc3fb0fac": {
          "model_module": "@jupyter-widgets/controls",
          "model_module_version": "1.5.0",
          "model_name": "DescriptionStyleModel",
          "state": {
            "_model_module": "@jupyter-widgets/controls",
            "_model_module_version": "1.5.0",
            "_model_name": "DescriptionStyleModel",
            "_view_count": null,
            "_view_module": "@jupyter-widgets/base",
            "_view_module_version": "1.2.0",
            "_view_name": "StyleView",
            "description_width": ""
          }
        },
        "fb454d1868c24bfa922bd149615e5e7c": {
          "model_module": "@jupyter-widgets/base",
          "model_module_version": "1.2.0",
          "model_name": "LayoutModel",
          "state": {
            "_model_module": "@jupyter-widgets/base",
            "_model_module_version": "1.2.0",
            "_model_name": "LayoutModel",
            "_view_count": null,
            "_view_module": "@jupyter-widgets/base",
            "_view_module_version": "1.2.0",
            "_view_name": "LayoutView",
            "align_content": null,
            "align_items": null,
            "align_self": null,
            "border": null,
            "bottom": null,
            "display": null,
            "flex": null,
            "flex_flow": null,
            "grid_area": null,
            "grid_auto_columns": null,
            "grid_auto_flow": null,
            "grid_auto_rows": null,
            "grid_column": null,
            "grid_gap": null,
            "grid_row": null,
            "grid_template_areas": null,
            "grid_template_columns": null,
            "grid_template_rows": null,
            "height": null,
            "justify_content": null,
            "justify_items": null,
            "left": null,
            "margin": null,
            "max_height": null,
            "max_width": null,
            "min_height": null,
            "min_width": null,
            "object_fit": null,
            "object_position": null,
            "order": null,
            "overflow": null,
            "overflow_x": null,
            "overflow_y": null,
            "padding": null,
            "right": null,
            "top": null,
            "visibility": null,
            "width": "100px"
          }
        }
      }
    }
  },
  "nbformat": 4,
  "nbformat_minor": 0
}

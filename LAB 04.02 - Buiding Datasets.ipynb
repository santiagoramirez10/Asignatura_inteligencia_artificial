{
  "cells": [
    {
      "cell_type": "markdown",
      "metadata": {
        "id": "RZNwTn_BCwsW"
      },
      "source": [
        "# LAB 04.02 - Buiding Datasets"
      ]
    },
    {
      "cell_type": "code",
      "execution_count": 302,
      "metadata": {
        "id": "AhdM51NJCwsZ",
        "colab": {
          "base_uri": "https://localhost:8080/",
          "height": 35
        },
        "outputId": "9df1664c-6ac6-48d2-f1f1-9328f57c6673"
      },
      "outputs": [
        {
          "output_type": "display_data",
          "data": {
            "text/plain": [
              "<IPython.core.display.HTML object>"
            ],
            "text/html": [
              "\n",
              "<meta name=\"google-signin-client_id\"\n",
              "      content=\"461673936472-kdjosv61up3ac1ajeuq6qqu72upilmls.apps.googleusercontent.com\"/>\n",
              "<script src=\"https://apis.google.com/js/client:platform.js?onload=google_button_start\"></script>\n",
              "    "
            ]
          },
          "metadata": {}
        },
        {
          "output_type": "execute_result",
          "data": {
            "text/plain": [
              "'https://m5knaekxo6.execute-api.us-west-2.amazonaws.com/dev-v0001/rlxmooc'"
            ],
            "application/vnd.google.colaboratory.intrinsic+json": {
              "type": "string"
            }
          },
          "metadata": {},
          "execution_count": 302
        }
      ],
      "source": [
        "!wget --no-cache -O init.py -q https://raw.githubusercontent.com/rramosp/ai4eng.v1/main/content/init.py\n",
        "import init; init.init(force_download=False); init.get_weblink()\n",
        "init.endpoint"
      ]
    },
    {
      "cell_type": "code",
      "execution_count": 303,
      "metadata": {
        "id": "1_SQFVH_Cwsa",
        "colab": {
          "base_uri": "https://localhost:8080/",
          "height": 135,
          "referenced_widgets": [
            "bace667bcb6d442b934e412555b79491",
            "579cb61079464ab1ba0bb28cee8f3751",
            "2f85ec4037864749863058253c0ce787",
            "b2bb7b9b8f384d85989fc6cab269d124",
            "7cabe3abdc1c417ca0dd9c7d3662304f",
            "211a447194214838957f7a9fac524096",
            "0072c065ffc9459da86cbe4b188fc836",
            "1d6a5fd66b744e30962b50b5495b96e6",
            "1175b603dbf342c6a701ad13f5f53fe4",
            "b25da97892ce4e9895509f633592e1c4",
            "2220aab450864bbbaa795f1576a8363f",
            "0c394f2277e846c1a1cafdc33eeb9cd1",
            "cd5adf98564e4abfbebac0908056189c",
            "0a24125960fe46018334f6a062033f1f",
            "0d27993574bd452c99d77418e872cbe7",
            "1525163c59a54c09834b8292111ea5ee",
            "64197082860a4fba9bb9c834834cb9d3",
            "1af13c1e8eb541da8e284989cc20f154",
            "8d0d08693eec4afc8d1e08eefd95c045"
          ]
        },
        "outputId": "170fc287-b285-46c6-d22e-29e3409cb9ba"
      },
      "outputs": [
        {
          "output_type": "stream",
          "name": "stdout",
          "text": [
            "logging in as santiago.ramirez10@udea.edu.co... please wait\n",
            "using course session ai4eng.v1.udea.r2::2023.1\n",
            "success!! you are logged in\n"
          ]
        }
      ],
      "source": [
        "from local.lib.rlxmoocapi import submit, session\n",
        "session.LoginSequence(endpoint=init.endpoint, course_id=init.course_id, lab_id=\"L04.02\", varname=\"student\");"
      ]
    },
    {
      "cell_type": "markdown",
      "metadata": {
        "id": "3lvQ8fisCwsb"
      },
      "source": [
        "## Understand the ASHRAE Energy Prediction in Kaggle\n",
        "\n",
        "Follow this link: [https://www.kaggle.com/c/ashrae-energy-prediction](https://www.kaggle.com/c/ashrae-energy-prediction), register for the task and download the data.\n",
        "\n",
        "In particular, understand:\n",
        "\n",
        "- The machine learning task they define (what they want to predict)\n",
        "- How the data is provided\n",
        "- The structure and relation between the files `train.csv`, `weather_train.csv` and `building_metadata.csv`"
      ]
    },
    {
      "cell_type": "markdown",
      "metadata": {
        "id": "q9tb9OyNCwsc"
      },
      "source": [
        "## Task 1: Build a training dataset\n",
        "\n",
        "Execute the cell below and you will be given a **building_id** and a **date**. You will have to:\n",
        "\n",
        "1. Build a table containing one row per hour and the following columns **only for that building_id and date**: \n",
        "       'meter_reading', 'site_id', 'air_temperature', 'cloud_coverage',\n",
        "       'dew_temperature', 'precip_depth_1_hr', 'sea_level_pressure',\n",
        "       'wind_direction', 'wind_speed', 'square_feet', 'year_built'\n",
        "   Note that you will have to gather this information from the different csv sources.\n",
        "   \n",
        "1. use only measures with `meter`=0\n",
        "1. Fill any missing values with zero.\n",
        "1. Extract the column of the target variable and sum all values.\n",
        "1. Sum all the values of the rest of the columns.\n",
        "1. Fill in those values in the variables below.\n",
        "1. Submit your answer.\n",
        "\n",
        "Observe that, with this dataset, we could train a model to make predictions of the target variable, taking the rest of the variables as input.\n",
        "\n",
        "For instance, for building number 900, on 2016-02-01:\n",
        "- there are 24 records\n",
        "- the sum of all values of the target variable is 4941 (cropping decimals)\n",
        "- the sum of all values of the rest of the variables is 2705422 (cropping decimals)"
      ]
    },
    {
      "cell_type": "code",
      "execution_count": 304,
      "metadata": {
        "id": "e2fVUfueCwsd",
        "colab": {
          "base_uri": "https://localhost:8080/"
        },
        "outputId": "44870a00-1e8b-4ff0-f75b-0e354429b10c"
      },
      "outputs": [
        {
          "output_type": "stream",
          "name": "stdout",
          "text": [
            "your building_id 990\n",
            "your date        2016-02-04\n"
          ]
        }
      ],
      "source": [
        "from IPython.display import Image\n",
        "from local.lib import labutils\n",
        "import numpy as np\n",
        "bid, date = labutils.biddate_for_student(student.user_id)\n",
        "print (\"your building_id\", bid)\n",
        "print (\"your date       \", date)"
      ]
    },
    {
      "cell_type": "code",
      "execution_count": 305,
      "metadata": {
        "id": "zMLUPh-1Cwse",
        "colab": {
          "base_uri": "https://localhost:8080/"
        },
        "outputId": "c4b33006-9df9-425b-9177-73df9d94ddec"
      },
      "outputs": [
        {
          "output_type": "stream",
          "name": "stdout",
          "text": [
            "Drive already mounted at /content/drive; to attempt to forcibly remount, call drive.mount(\"/content/drive\", force_remount=True).\n"
          ]
        }
      ],
      "source": [
        "from google.colab import drive\n",
        "drive.mount(\"/content/drive\")"
      ]
    },
    {
      "cell_type": "code",
      "source": [
        "import pandas as pd"
      ],
      "metadata": {
        "id": "51E025IRC14G"
      },
      "execution_count": 306,
      "outputs": []
    },
    {
      "cell_type": "code",
      "source": [
        "d1 = pd.read_csv('/content/drive/MyDrive/Colab Notebooks/train.csv')\n",
        "d2 = pd.read_csv('/content/drive/MyDrive/Colab Notebooks/weather_train.csv')\n",
        "d3 = pd.read_csv('/content/drive/MyDrive/Colab Notebooks/building_metadata.csv')"
      ],
      "metadata": {
        "id": "Tt1JBU06C_7O"
      },
      "execution_count": 307,
      "outputs": []
    },
    {
      "cell_type": "code",
      "source": [
        "d_i = d1[(d1['meter']==0) & (d1['building_id']==990)]\n",
        "ubicacion1 = d_i[d_i['timestamp']== '2016-02-04 00:00:00']"
      ],
      "metadata": {
        "id": "exRksReID4TK"
      },
      "execution_count": 308,
      "outputs": []
    },
    {
      "cell_type": "code",
      "source": [
        "d_i=d_i[815:839]"
      ],
      "metadata": {
        "id": "ABUleLeTH_A9"
      },
      "execution_count": 309,
      "outputs": []
    },
    {
      "cell_type": "code",
      "source": [
        "d2_i = d2[(d2['site_id']==9)]\n",
        "ubicacion2 = d2_i[d2_i['timestamp']=='2016-02-04 00:00:00']"
      ],
      "metadata": {
        "id": "GTMiadyVHoZ9"
      },
      "execution_count": 310,
      "outputs": []
    },
    {
      "cell_type": "code",
      "source": [
        "d2_i=d2_i[815:839]"
      ],
      "metadata": {
        "id": "NfQKzPEkHtCs"
      },
      "execution_count": 312,
      "outputs": []
    },
    {
      "cell_type": "code",
      "source": [
        "d2_i"
      ],
      "metadata": {
        "colab": {
          "base_uri": "https://localhost:8080/",
          "height": 802
        },
        "id": "RtOTi35hJCs7",
        "outputId": "f6092de8-317e-4cd1-b18e-f316eaef362f"
      },
      "execution_count": 313,
      "outputs": [
        {
          "output_type": "execute_result",
          "data": {
            "text/plain": [
              "       site_id            timestamp  air_temperature  cloud_coverage  \\\n",
              "79643        9  2016-02-04 00:00:00             11.7             0.0   \n",
              "79644        9  2016-02-04 01:00:00             10.0             0.0   \n",
              "79645        9  2016-02-04 02:00:00              9.4             0.0   \n",
              "79646        9  2016-02-04 03:00:00              7.8             0.0   \n",
              "79647        9  2016-02-04 04:00:00              6.7             0.0   \n",
              "79648        9  2016-02-04 05:00:00              5.0             0.0   \n",
              "79649        9  2016-02-04 06:00:00              4.4             0.0   \n",
              "79650        9  2016-02-04 07:00:00              4.4             0.0   \n",
              "79651        9  2016-02-04 08:00:00              3.9             0.0   \n",
              "79652        9  2016-02-04 09:00:00              3.3             0.0   \n",
              "79653        9  2016-02-04 10:00:00              2.8             0.0   \n",
              "79654        9  2016-02-04 11:00:00              2.8             0.0   \n",
              "79655        9  2016-02-04 12:00:00              2.2             0.0   \n",
              "79656        9  2016-02-04 13:00:00              1.1             0.0   \n",
              "79657        9  2016-02-04 14:00:00              1.1             0.0   \n",
              "79658        9  2016-02-04 15:00:00              3.9             0.0   \n",
              "79659        9  2016-02-04 16:00:00              7.2             0.0   \n",
              "79660        9  2016-02-04 17:00:00             10.0             0.0   \n",
              "79661        9  2016-02-04 18:00:00             11.7             0.0   \n",
              "79662        9  2016-02-04 19:00:00             12.8             0.0   \n",
              "79663        9  2016-02-04 20:00:00             13.3             0.0   \n",
              "79664        9  2016-02-04 21:00:00             13.9             NaN   \n",
              "79665        9  2016-02-04 22:00:00             14.4             0.0   \n",
              "79666        9  2016-02-04 23:00:00             13.3             0.0   \n",
              "\n",
              "       dew_temperature  precip_depth_1_hr  sea_level_pressure  wind_direction  \\\n",
              "79643             -4.4                0.0              1023.8           360.0   \n",
              "79644             -5.0                0.0              1024.6           350.0   \n",
              "79645             -4.4                0.0              1025.6            10.0   \n",
              "79646             -5.0                0.0              1026.6            20.0   \n",
              "79647             -5.0                0.0              1027.7             0.0   \n",
              "79648             -4.4                0.0              1029.1             0.0   \n",
              "79649             -3.9                0.0              1029.4            10.0   \n",
              "79650             -5.0                0.0              1029.9             0.0   \n",
              "79651             -5.0                0.0              1030.1           330.0   \n",
              "79652             -5.0                0.0              1030.1           330.0   \n",
              "79653             -5.0                0.0              1030.3           330.0   \n",
              "79654             -5.6                0.0              1030.4             0.0   \n",
              "79655             -5.0                0.0              1031.2           330.0   \n",
              "79656             -3.3                0.0              1032.5             NaN   \n",
              "79657             -2.8                0.0              1033.5           300.0   \n",
              "79658             -2.2                0.0              1034.0           300.0   \n",
              "79659             -2.8                0.0              1034.3             0.0   \n",
              "79660             -5.6                0.0              1034.3             NaN   \n",
              "79661             -5.6                0.0              1033.6            10.0   \n",
              "79662             -6.1                0.0              1032.1             NaN   \n",
              "79663             -5.6                0.0              1031.0             NaN   \n",
              "79664             -6.7                0.0              1030.1             NaN   \n",
              "79665             -6.7                0.0              1029.7           350.0   \n",
              "79666             -7.2                0.0              1029.6           280.0   \n",
              "\n",
              "       wind_speed  \n",
              "79643         3.1  \n",
              "79644         2.6  \n",
              "79645         2.1  \n",
              "79646         1.5  \n",
              "79647         0.0  \n",
              "79648         0.0  \n",
              "79649         1.5  \n",
              "79650         0.0  \n",
              "79651         1.5  \n",
              "79652         1.5  \n",
              "79653         1.5  \n",
              "79654         0.0  \n",
              "79655         1.5  \n",
              "79656         1.5  \n",
              "79657         2.1  \n",
              "79658         2.1  \n",
              "79659         0.0  \n",
              "79660         1.5  \n",
              "79661         2.6  \n",
              "79662         2.1  \n",
              "79663         1.5  \n",
              "79664         NaN  \n",
              "79665         2.6  \n",
              "79666         2.1  "
            ],
            "text/html": [
              "\n",
              "  <div id=\"df-ba699846-02ab-4436-bd07-fd64fca0e166\">\n",
              "    <div class=\"colab-df-container\">\n",
              "      <div>\n",
              "<style scoped>\n",
              "    .dataframe tbody tr th:only-of-type {\n",
              "        vertical-align: middle;\n",
              "    }\n",
              "\n",
              "    .dataframe tbody tr th {\n",
              "        vertical-align: top;\n",
              "    }\n",
              "\n",
              "    .dataframe thead th {\n",
              "        text-align: right;\n",
              "    }\n",
              "</style>\n",
              "<table border=\"1\" class=\"dataframe\">\n",
              "  <thead>\n",
              "    <tr style=\"text-align: right;\">\n",
              "      <th></th>\n",
              "      <th>site_id</th>\n",
              "      <th>timestamp</th>\n",
              "      <th>air_temperature</th>\n",
              "      <th>cloud_coverage</th>\n",
              "      <th>dew_temperature</th>\n",
              "      <th>precip_depth_1_hr</th>\n",
              "      <th>sea_level_pressure</th>\n",
              "      <th>wind_direction</th>\n",
              "      <th>wind_speed</th>\n",
              "    </tr>\n",
              "  </thead>\n",
              "  <tbody>\n",
              "    <tr>\n",
              "      <th>79643</th>\n",
              "      <td>9</td>\n",
              "      <td>2016-02-04 00:00:00</td>\n",
              "      <td>11.7</td>\n",
              "      <td>0.0</td>\n",
              "      <td>-4.4</td>\n",
              "      <td>0.0</td>\n",
              "      <td>1023.8</td>\n",
              "      <td>360.0</td>\n",
              "      <td>3.1</td>\n",
              "    </tr>\n",
              "    <tr>\n",
              "      <th>79644</th>\n",
              "      <td>9</td>\n",
              "      <td>2016-02-04 01:00:00</td>\n",
              "      <td>10.0</td>\n",
              "      <td>0.0</td>\n",
              "      <td>-5.0</td>\n",
              "      <td>0.0</td>\n",
              "      <td>1024.6</td>\n",
              "      <td>350.0</td>\n",
              "      <td>2.6</td>\n",
              "    </tr>\n",
              "    <tr>\n",
              "      <th>79645</th>\n",
              "      <td>9</td>\n",
              "      <td>2016-02-04 02:00:00</td>\n",
              "      <td>9.4</td>\n",
              "      <td>0.0</td>\n",
              "      <td>-4.4</td>\n",
              "      <td>0.0</td>\n",
              "      <td>1025.6</td>\n",
              "      <td>10.0</td>\n",
              "      <td>2.1</td>\n",
              "    </tr>\n",
              "    <tr>\n",
              "      <th>79646</th>\n",
              "      <td>9</td>\n",
              "      <td>2016-02-04 03:00:00</td>\n",
              "      <td>7.8</td>\n",
              "      <td>0.0</td>\n",
              "      <td>-5.0</td>\n",
              "      <td>0.0</td>\n",
              "      <td>1026.6</td>\n",
              "      <td>20.0</td>\n",
              "      <td>1.5</td>\n",
              "    </tr>\n",
              "    <tr>\n",
              "      <th>79647</th>\n",
              "      <td>9</td>\n",
              "      <td>2016-02-04 04:00:00</td>\n",
              "      <td>6.7</td>\n",
              "      <td>0.0</td>\n",
              "      <td>-5.0</td>\n",
              "      <td>0.0</td>\n",
              "      <td>1027.7</td>\n",
              "      <td>0.0</td>\n",
              "      <td>0.0</td>\n",
              "    </tr>\n",
              "    <tr>\n",
              "      <th>79648</th>\n",
              "      <td>9</td>\n",
              "      <td>2016-02-04 05:00:00</td>\n",
              "      <td>5.0</td>\n",
              "      <td>0.0</td>\n",
              "      <td>-4.4</td>\n",
              "      <td>0.0</td>\n",
              "      <td>1029.1</td>\n",
              "      <td>0.0</td>\n",
              "      <td>0.0</td>\n",
              "    </tr>\n",
              "    <tr>\n",
              "      <th>79649</th>\n",
              "      <td>9</td>\n",
              "      <td>2016-02-04 06:00:00</td>\n",
              "      <td>4.4</td>\n",
              "      <td>0.0</td>\n",
              "      <td>-3.9</td>\n",
              "      <td>0.0</td>\n",
              "      <td>1029.4</td>\n",
              "      <td>10.0</td>\n",
              "      <td>1.5</td>\n",
              "    </tr>\n",
              "    <tr>\n",
              "      <th>79650</th>\n",
              "      <td>9</td>\n",
              "      <td>2016-02-04 07:00:00</td>\n",
              "      <td>4.4</td>\n",
              "      <td>0.0</td>\n",
              "      <td>-5.0</td>\n",
              "      <td>0.0</td>\n",
              "      <td>1029.9</td>\n",
              "      <td>0.0</td>\n",
              "      <td>0.0</td>\n",
              "    </tr>\n",
              "    <tr>\n",
              "      <th>79651</th>\n",
              "      <td>9</td>\n",
              "      <td>2016-02-04 08:00:00</td>\n",
              "      <td>3.9</td>\n",
              "      <td>0.0</td>\n",
              "      <td>-5.0</td>\n",
              "      <td>0.0</td>\n",
              "      <td>1030.1</td>\n",
              "      <td>330.0</td>\n",
              "      <td>1.5</td>\n",
              "    </tr>\n",
              "    <tr>\n",
              "      <th>79652</th>\n",
              "      <td>9</td>\n",
              "      <td>2016-02-04 09:00:00</td>\n",
              "      <td>3.3</td>\n",
              "      <td>0.0</td>\n",
              "      <td>-5.0</td>\n",
              "      <td>0.0</td>\n",
              "      <td>1030.1</td>\n",
              "      <td>330.0</td>\n",
              "      <td>1.5</td>\n",
              "    </tr>\n",
              "    <tr>\n",
              "      <th>79653</th>\n",
              "      <td>9</td>\n",
              "      <td>2016-02-04 10:00:00</td>\n",
              "      <td>2.8</td>\n",
              "      <td>0.0</td>\n",
              "      <td>-5.0</td>\n",
              "      <td>0.0</td>\n",
              "      <td>1030.3</td>\n",
              "      <td>330.0</td>\n",
              "      <td>1.5</td>\n",
              "    </tr>\n",
              "    <tr>\n",
              "      <th>79654</th>\n",
              "      <td>9</td>\n",
              "      <td>2016-02-04 11:00:00</td>\n",
              "      <td>2.8</td>\n",
              "      <td>0.0</td>\n",
              "      <td>-5.6</td>\n",
              "      <td>0.0</td>\n",
              "      <td>1030.4</td>\n",
              "      <td>0.0</td>\n",
              "      <td>0.0</td>\n",
              "    </tr>\n",
              "    <tr>\n",
              "      <th>79655</th>\n",
              "      <td>9</td>\n",
              "      <td>2016-02-04 12:00:00</td>\n",
              "      <td>2.2</td>\n",
              "      <td>0.0</td>\n",
              "      <td>-5.0</td>\n",
              "      <td>0.0</td>\n",
              "      <td>1031.2</td>\n",
              "      <td>330.0</td>\n",
              "      <td>1.5</td>\n",
              "    </tr>\n",
              "    <tr>\n",
              "      <th>79656</th>\n",
              "      <td>9</td>\n",
              "      <td>2016-02-04 13:00:00</td>\n",
              "      <td>1.1</td>\n",
              "      <td>0.0</td>\n",
              "      <td>-3.3</td>\n",
              "      <td>0.0</td>\n",
              "      <td>1032.5</td>\n",
              "      <td>NaN</td>\n",
              "      <td>1.5</td>\n",
              "    </tr>\n",
              "    <tr>\n",
              "      <th>79657</th>\n",
              "      <td>9</td>\n",
              "      <td>2016-02-04 14:00:00</td>\n",
              "      <td>1.1</td>\n",
              "      <td>0.0</td>\n",
              "      <td>-2.8</td>\n",
              "      <td>0.0</td>\n",
              "      <td>1033.5</td>\n",
              "      <td>300.0</td>\n",
              "      <td>2.1</td>\n",
              "    </tr>\n",
              "    <tr>\n",
              "      <th>79658</th>\n",
              "      <td>9</td>\n",
              "      <td>2016-02-04 15:00:00</td>\n",
              "      <td>3.9</td>\n",
              "      <td>0.0</td>\n",
              "      <td>-2.2</td>\n",
              "      <td>0.0</td>\n",
              "      <td>1034.0</td>\n",
              "      <td>300.0</td>\n",
              "      <td>2.1</td>\n",
              "    </tr>\n",
              "    <tr>\n",
              "      <th>79659</th>\n",
              "      <td>9</td>\n",
              "      <td>2016-02-04 16:00:00</td>\n",
              "      <td>7.2</td>\n",
              "      <td>0.0</td>\n",
              "      <td>-2.8</td>\n",
              "      <td>0.0</td>\n",
              "      <td>1034.3</td>\n",
              "      <td>0.0</td>\n",
              "      <td>0.0</td>\n",
              "    </tr>\n",
              "    <tr>\n",
              "      <th>79660</th>\n",
              "      <td>9</td>\n",
              "      <td>2016-02-04 17:00:00</td>\n",
              "      <td>10.0</td>\n",
              "      <td>0.0</td>\n",
              "      <td>-5.6</td>\n",
              "      <td>0.0</td>\n",
              "      <td>1034.3</td>\n",
              "      <td>NaN</td>\n",
              "      <td>1.5</td>\n",
              "    </tr>\n",
              "    <tr>\n",
              "      <th>79661</th>\n",
              "      <td>9</td>\n",
              "      <td>2016-02-04 18:00:00</td>\n",
              "      <td>11.7</td>\n",
              "      <td>0.0</td>\n",
              "      <td>-5.6</td>\n",
              "      <td>0.0</td>\n",
              "      <td>1033.6</td>\n",
              "      <td>10.0</td>\n",
              "      <td>2.6</td>\n",
              "    </tr>\n",
              "    <tr>\n",
              "      <th>79662</th>\n",
              "      <td>9</td>\n",
              "      <td>2016-02-04 19:00:00</td>\n",
              "      <td>12.8</td>\n",
              "      <td>0.0</td>\n",
              "      <td>-6.1</td>\n",
              "      <td>0.0</td>\n",
              "      <td>1032.1</td>\n",
              "      <td>NaN</td>\n",
              "      <td>2.1</td>\n",
              "    </tr>\n",
              "    <tr>\n",
              "      <th>79663</th>\n",
              "      <td>9</td>\n",
              "      <td>2016-02-04 20:00:00</td>\n",
              "      <td>13.3</td>\n",
              "      <td>0.0</td>\n",
              "      <td>-5.6</td>\n",
              "      <td>0.0</td>\n",
              "      <td>1031.0</td>\n",
              "      <td>NaN</td>\n",
              "      <td>1.5</td>\n",
              "    </tr>\n",
              "    <tr>\n",
              "      <th>79664</th>\n",
              "      <td>9</td>\n",
              "      <td>2016-02-04 21:00:00</td>\n",
              "      <td>13.9</td>\n",
              "      <td>NaN</td>\n",
              "      <td>-6.7</td>\n",
              "      <td>0.0</td>\n",
              "      <td>1030.1</td>\n",
              "      <td>NaN</td>\n",
              "      <td>NaN</td>\n",
              "    </tr>\n",
              "    <tr>\n",
              "      <th>79665</th>\n",
              "      <td>9</td>\n",
              "      <td>2016-02-04 22:00:00</td>\n",
              "      <td>14.4</td>\n",
              "      <td>0.0</td>\n",
              "      <td>-6.7</td>\n",
              "      <td>0.0</td>\n",
              "      <td>1029.7</td>\n",
              "      <td>350.0</td>\n",
              "      <td>2.6</td>\n",
              "    </tr>\n",
              "    <tr>\n",
              "      <th>79666</th>\n",
              "      <td>9</td>\n",
              "      <td>2016-02-04 23:00:00</td>\n",
              "      <td>13.3</td>\n",
              "      <td>0.0</td>\n",
              "      <td>-7.2</td>\n",
              "      <td>0.0</td>\n",
              "      <td>1029.6</td>\n",
              "      <td>280.0</td>\n",
              "      <td>2.1</td>\n",
              "    </tr>\n",
              "  </tbody>\n",
              "</table>\n",
              "</div>\n",
              "      <button class=\"colab-df-convert\" onclick=\"convertToInteractive('df-ba699846-02ab-4436-bd07-fd64fca0e166')\"\n",
              "              title=\"Convert this dataframe to an interactive table.\"\n",
              "              style=\"display:none;\">\n",
              "        \n",
              "  <svg xmlns=\"http://www.w3.org/2000/svg\" height=\"24px\"viewBox=\"0 0 24 24\"\n",
              "       width=\"24px\">\n",
              "    <path d=\"M0 0h24v24H0V0z\" fill=\"none\"/>\n",
              "    <path d=\"M18.56 5.44l.94 2.06.94-2.06 2.06-.94-2.06-.94-.94-2.06-.94 2.06-2.06.94zm-11 1L8.5 8.5l.94-2.06 2.06-.94-2.06-.94L8.5 2.5l-.94 2.06-2.06.94zm10 10l.94 2.06.94-2.06 2.06-.94-2.06-.94-.94-2.06-.94 2.06-2.06.94z\"/><path d=\"M17.41 7.96l-1.37-1.37c-.4-.4-.92-.59-1.43-.59-.52 0-1.04.2-1.43.59L10.3 9.45l-7.72 7.72c-.78.78-.78 2.05 0 2.83L4 21.41c.39.39.9.59 1.41.59.51 0 1.02-.2 1.41-.59l7.78-7.78 2.81-2.81c.8-.78.8-2.07 0-2.86zM5.41 20L4 18.59l7.72-7.72 1.47 1.35L5.41 20z\"/>\n",
              "  </svg>\n",
              "      </button>\n",
              "      \n",
              "  <style>\n",
              "    .colab-df-container {\n",
              "      display:flex;\n",
              "      flex-wrap:wrap;\n",
              "      gap: 12px;\n",
              "    }\n",
              "\n",
              "    .colab-df-convert {\n",
              "      background-color: #E8F0FE;\n",
              "      border: none;\n",
              "      border-radius: 50%;\n",
              "      cursor: pointer;\n",
              "      display: none;\n",
              "      fill: #1967D2;\n",
              "      height: 32px;\n",
              "      padding: 0 0 0 0;\n",
              "      width: 32px;\n",
              "    }\n",
              "\n",
              "    .colab-df-convert:hover {\n",
              "      background-color: #E2EBFA;\n",
              "      box-shadow: 0px 1px 2px rgba(60, 64, 67, 0.3), 0px 1px 3px 1px rgba(60, 64, 67, 0.15);\n",
              "      fill: #174EA6;\n",
              "    }\n",
              "\n",
              "    [theme=dark] .colab-df-convert {\n",
              "      background-color: #3B4455;\n",
              "      fill: #D2E3FC;\n",
              "    }\n",
              "\n",
              "    [theme=dark] .colab-df-convert:hover {\n",
              "      background-color: #434B5C;\n",
              "      box-shadow: 0px 1px 3px 1px rgba(0, 0, 0, 0.15);\n",
              "      filter: drop-shadow(0px 1px 2px rgba(0, 0, 0, 0.3));\n",
              "      fill: #FFFFFF;\n",
              "    }\n",
              "  </style>\n",
              "\n",
              "      <script>\n",
              "        const buttonEl =\n",
              "          document.querySelector('#df-ba699846-02ab-4436-bd07-fd64fca0e166 button.colab-df-convert');\n",
              "        buttonEl.style.display =\n",
              "          google.colab.kernel.accessAllowed ? 'block' : 'none';\n",
              "\n",
              "        async function convertToInteractive(key) {\n",
              "          const element = document.querySelector('#df-ba699846-02ab-4436-bd07-fd64fca0e166');\n",
              "          const dataTable =\n",
              "            await google.colab.kernel.invokeFunction('convertToInteractive',\n",
              "                                                     [key], {});\n",
              "          if (!dataTable) return;\n",
              "\n",
              "          const docLinkHtml = 'Like what you see? Visit the ' +\n",
              "            '<a target=\"_blank\" href=https://colab.research.google.com/notebooks/data_table.ipynb>data table notebook</a>'\n",
              "            + ' to learn more about interactive tables.';\n",
              "          element.innerHTML = '';\n",
              "          dataTable['output_type'] = 'display_data';\n",
              "          await google.colab.output.renderOutput(dataTable, element);\n",
              "          const docLink = document.createElement('div');\n",
              "          docLink.innerHTML = docLinkHtml;\n",
              "          element.appendChild(docLink);\n",
              "        }\n",
              "      </script>\n",
              "    </div>\n",
              "  </div>\n",
              "  "
            ]
          },
          "metadata": {},
          "execution_count": 313
        }
      ]
    },
    {
      "cell_type": "code",
      "source": [
        "d3_i = d3[d3['building_id']==990]"
      ],
      "metadata": {
        "id": "rMtiEvltIMSB"
      },
      "execution_count": 314,
      "outputs": []
    },
    {
      "cell_type": "code",
      "source": [
        "d3_i"
      ],
      "metadata": {
        "colab": {
          "base_uri": "https://localhost:8080/",
          "height": 81
        },
        "id": "m-hpAiJ9KrJa",
        "outputId": "05af0f59-da7e-4f33-b2a3-de65396bc655"
      },
      "execution_count": 315,
      "outputs": [
        {
          "output_type": "execute_result",
          "data": {
            "text/plain": [
              "     site_id  building_id primary_use  square_feet  year_built  floor_count\n",
              "990        9          990      Office        82939         NaN          NaN"
            ],
            "text/html": [
              "\n",
              "  <div id=\"df-837fc4b1-d4d3-48c5-9ad6-75e382fabb0d\">\n",
              "    <div class=\"colab-df-container\">\n",
              "      <div>\n",
              "<style scoped>\n",
              "    .dataframe tbody tr th:only-of-type {\n",
              "        vertical-align: middle;\n",
              "    }\n",
              "\n",
              "    .dataframe tbody tr th {\n",
              "        vertical-align: top;\n",
              "    }\n",
              "\n",
              "    .dataframe thead th {\n",
              "        text-align: right;\n",
              "    }\n",
              "</style>\n",
              "<table border=\"1\" class=\"dataframe\">\n",
              "  <thead>\n",
              "    <tr style=\"text-align: right;\">\n",
              "      <th></th>\n",
              "      <th>site_id</th>\n",
              "      <th>building_id</th>\n",
              "      <th>primary_use</th>\n",
              "      <th>square_feet</th>\n",
              "      <th>year_built</th>\n",
              "      <th>floor_count</th>\n",
              "    </tr>\n",
              "  </thead>\n",
              "  <tbody>\n",
              "    <tr>\n",
              "      <th>990</th>\n",
              "      <td>9</td>\n",
              "      <td>990</td>\n",
              "      <td>Office</td>\n",
              "      <td>82939</td>\n",
              "      <td>NaN</td>\n",
              "      <td>NaN</td>\n",
              "    </tr>\n",
              "  </tbody>\n",
              "</table>\n",
              "</div>\n",
              "      <button class=\"colab-df-convert\" onclick=\"convertToInteractive('df-837fc4b1-d4d3-48c5-9ad6-75e382fabb0d')\"\n",
              "              title=\"Convert this dataframe to an interactive table.\"\n",
              "              style=\"display:none;\">\n",
              "        \n",
              "  <svg xmlns=\"http://www.w3.org/2000/svg\" height=\"24px\"viewBox=\"0 0 24 24\"\n",
              "       width=\"24px\">\n",
              "    <path d=\"M0 0h24v24H0V0z\" fill=\"none\"/>\n",
              "    <path d=\"M18.56 5.44l.94 2.06.94-2.06 2.06-.94-2.06-.94-.94-2.06-.94 2.06-2.06.94zm-11 1L8.5 8.5l.94-2.06 2.06-.94-2.06-.94L8.5 2.5l-.94 2.06-2.06.94zm10 10l.94 2.06.94-2.06 2.06-.94-2.06-.94-.94-2.06-.94 2.06-2.06.94z\"/><path d=\"M17.41 7.96l-1.37-1.37c-.4-.4-.92-.59-1.43-.59-.52 0-1.04.2-1.43.59L10.3 9.45l-7.72 7.72c-.78.78-.78 2.05 0 2.83L4 21.41c.39.39.9.59 1.41.59.51 0 1.02-.2 1.41-.59l7.78-7.78 2.81-2.81c.8-.78.8-2.07 0-2.86zM5.41 20L4 18.59l7.72-7.72 1.47 1.35L5.41 20z\"/>\n",
              "  </svg>\n",
              "      </button>\n",
              "      \n",
              "  <style>\n",
              "    .colab-df-container {\n",
              "      display:flex;\n",
              "      flex-wrap:wrap;\n",
              "      gap: 12px;\n",
              "    }\n",
              "\n",
              "    .colab-df-convert {\n",
              "      background-color: #E8F0FE;\n",
              "      border: none;\n",
              "      border-radius: 50%;\n",
              "      cursor: pointer;\n",
              "      display: none;\n",
              "      fill: #1967D2;\n",
              "      height: 32px;\n",
              "      padding: 0 0 0 0;\n",
              "      width: 32px;\n",
              "    }\n",
              "\n",
              "    .colab-df-convert:hover {\n",
              "      background-color: #E2EBFA;\n",
              "      box-shadow: 0px 1px 2px rgba(60, 64, 67, 0.3), 0px 1px 3px 1px rgba(60, 64, 67, 0.15);\n",
              "      fill: #174EA6;\n",
              "    }\n",
              "\n",
              "    [theme=dark] .colab-df-convert {\n",
              "      background-color: #3B4455;\n",
              "      fill: #D2E3FC;\n",
              "    }\n",
              "\n",
              "    [theme=dark] .colab-df-convert:hover {\n",
              "      background-color: #434B5C;\n",
              "      box-shadow: 0px 1px 3px 1px rgba(0, 0, 0, 0.15);\n",
              "      filter: drop-shadow(0px 1px 2px rgba(0, 0, 0, 0.3));\n",
              "      fill: #FFFFFF;\n",
              "    }\n",
              "  </style>\n",
              "\n",
              "      <script>\n",
              "        const buttonEl =\n",
              "          document.querySelector('#df-837fc4b1-d4d3-48c5-9ad6-75e382fabb0d button.colab-df-convert');\n",
              "        buttonEl.style.display =\n",
              "          google.colab.kernel.accessAllowed ? 'block' : 'none';\n",
              "\n",
              "        async function convertToInteractive(key) {\n",
              "          const element = document.querySelector('#df-837fc4b1-d4d3-48c5-9ad6-75e382fabb0d');\n",
              "          const dataTable =\n",
              "            await google.colab.kernel.invokeFunction('convertToInteractive',\n",
              "                                                     [key], {});\n",
              "          if (!dataTable) return;\n",
              "\n",
              "          const docLinkHtml = 'Like what you see? Visit the ' +\n",
              "            '<a target=\"_blank\" href=https://colab.research.google.com/notebooks/data_table.ipynb>data table notebook</a>'\n",
              "            + ' to learn more about interactive tables.';\n",
              "          element.innerHTML = '';\n",
              "          dataTable['output_type'] = 'display_data';\n",
              "          await google.colab.output.renderOutput(dataTable, element);\n",
              "          const docLink = document.createElement('div');\n",
              "          docLink.innerHTML = docLinkHtml;\n",
              "          element.appendChild(docLink);\n",
              "        }\n",
              "      </script>\n",
              "    </div>\n",
              "  </div>\n",
              "  "
            ]
          },
          "metadata": {},
          "execution_count": 315
        }
      ]
    },
    {
      "cell_type": "code",
      "source": [
        "site_id = np.ones(24)*9\n",
        "square_feet = np.ones(24)*82939"
      ],
      "metadata": {
        "id": "shivXiwGIO3R"
      },
      "execution_count": null,
      "outputs": []
    },
    {
      "cell_type": "code",
      "source": [
        "square_feet"
      ],
      "metadata": {
        "id": "zcp0zxizKYwi"
      },
      "execution_count": null,
      "outputs": []
    },
    {
      "cell_type": "code",
      "source": [
        "meter_reading = np.array(d_i['meter_reading'])\n",
        "air_temperature =np.array(d2_i['air_temperature'])\n",
        "cloud_coverage= np.array(d2_i['cloud_coverage'])\n",
        "dew_temperature=np.array(d2_i['dew_temperature'])"
      ],
      "metadata": {
        "id": "6C8AYeNcIQUK"
      },
      "execution_count": null,
      "outputs": []
    },
    {
      "cell_type": "code",
      "source": [
        "df_final = pd.DataFrame([meter_reading,site_id,air_temperature,cloud_coverage,dew_temperature,d2_i['precip_depth_1_hr'],d2_i['sea_level_pressure'],d2_i['wind_direction'],d2_i['wind_speed'],square_feet,d3_i['year_built']],['meter_reading','site_id','air_temperature','cloud_coverage','dew_temperature','precip_depth_1_hr', 'sea_level_pressure','wind_direction','wind_speed','square_feet', 'year_built']).T\n",
        "df_final = df_final.fillna(0)"
      ],
      "metadata": {
        "id": "6w7raeWsJ7AQ"
      },
      "execution_count": null,
      "outputs": []
    },
    {
      "cell_type": "markdown",
      "metadata": {
        "id": "k3Kd75AfCwse"
      },
      "source": [
        "#### provide your answer here, drop the decimals"
      ]
    },
    {
      "cell_type": "code",
      "execution_count": null,
      "metadata": {
        "id": "CSGX8yavCwsf",
        "colab": {
          "base_uri": "https://localhost:8080/"
        },
        "outputId": "508aa9da-62a8-442d-c01f-53b7b7186520"
      },
      "outputs": [
        {
          "output_type": "execute_result",
          "data": {
            "text/plain": [
              "(2018880, 2427)"
            ]
          },
          "metadata": {},
          "execution_count": 291
        }
      ],
      "source": [
        "# target variable sum\n",
        "sumY = int(sum(df_final['meter_reading']))\n",
        "\n",
        "# input variables sum\n",
        "sumX = int(df_final['site_id'].sum()+df_final['air_temperature'].sum()+df_final['cloud_coverage'].sum()+df_final['dew_temperature'].sum()+df_final[ 'precip_depth_1_hr'].sum()+df_final[ 'sea_level_pressure'].sum()+df_final['wind_direction'].sum()+df_final['wind_speed'].sum()+df_final['square_feet'].sum()+df_final['year_built'].sum())\n",
        "\n",
        "sumX, sumY"
      ]
    },
    {
      "cell_type": "markdown",
      "metadata": {
        "id": "_iUT608ZCwsh"
      },
      "source": [
        "**submit your answer**"
      ]
    },
    {
      "cell_type": "code",
      "execution_count": null,
      "metadata": {
        "scrolled": true,
        "id": "2vKEWQ_6Cwsh",
        "colab": {
          "base_uri": "https://localhost:8080/",
          "height": 128
        },
        "outputId": "7d2109d5-8d0f-4412-b408-56343d6b4064"
      },
      "outputs": [
        {
          "output_type": "display_data",
          "data": {
            "text/plain": [
              "<IPython.core.display.HTML object>"
            ],
            "text/html": [
              "\n",
              "                    <b>task_01 submitted.</b> <b><font color=\"blue\">your grade is 5</font></b> \n",
              "                    <p/><pre>----- grader message -------</pre>checking for building_id=990 and date='2016-02-04'<br/><b>correct</b><pre>----------------------------</pre>\n",
              "                    <p/><p/>\n",
              "                    <div style=\"font-size:10px\"><b>SUBMISSION CODE</b> DDHlYpgTEsDwgFPc+9gHpUsJePH62vSBSvaqiZuN3XSZwJ8znIQBXpIk09w01oGfp31y6kQOT0+WjXPikDFCdxXEoO6Etd1wz3U6EgTlBP1q/IwedKE+QofslncwTF/2+ELCHpl5rKsSS6i9OQU1UgBqXX3v1i3jKiRMPmsmvc8=</div>\n",
              "                    "
            ]
          },
          "metadata": {}
        }
      ],
      "source": [
        "student.submit_task(globals(), task_id=\"task_01\");"
      ]
    },
    {
      "cell_type": "markdown",
      "metadata": {
        "id": "M7M4jPOeCwsi"
      },
      "source": [
        "## Task 2. Time series missing data fix\n",
        "\n",
        "Observe how we can fill in missing data in a time series, by simply repeating the last seen value in the missing places."
      ]
    },
    {
      "cell_type": "code",
      "execution_count": null,
      "metadata": {
        "id": "qMqZxyfkCwsj",
        "outputId": "0781169a-59ff-498b-bc9e-c3bc3397e801",
        "colab": {
          "base_uri": "https://localhost:8080/",
          "height": 214
        }
      },
      "outputs": [
        {
          "output_type": "execute_result",
          "data": {
            "image/png": "[encoded data removed]",
            "text/plain": [
              "<IPython.core.display.Image object>"
            ]
          },
          "metadata": {},
          "execution_count": 144
        }
      ],
      "source": [
        "Image(\"local/imgs/timeseries-ffill.png\")"
      ]
    },
    {
      "cell_type": "markdown",
      "metadata": {
        "id": "O5fefrkHCwsj"
      },
      "source": [
        "Using the weather data from the ASHRAE Kaggle competition that you must have downloaded in the previous task you will have to:\n",
        "\n",
        "1. Extract the time series for the variable `cloud_coverage` for **site_id=3** and for the **date assigned to you** (execute the cell below). This time series will have 24 values (including missing values).\n",
        "1. Fill in the missing data by repeating the last seen value as in the example above\n",
        "1. Report the time series as a Pyton list in the variable `fixed_ts` below\n",
        "\n",
        "Again, use any tool of your choice to generate your result"
      ]
    },
    {
      "cell_type": "code",
      "execution_count": 360,
      "metadata": {
        "id": "dNFfIk8QCwsk",
        "colab": {
          "base_uri": "https://localhost:8080/"
        },
        "outputId": "8fdfaf21-b4e1-436a-98bd-f6f7f7c1254d"
      },
      "outputs": [
        {
          "output_type": "stream",
          "name": "stdout",
          "text": [
            "your date        2016-02-04\n"
          ]
        }
      ],
      "source": [
        "from local.lib import labutils\n",
        "_, date = labutils.biddate_for_student(student.user_id)\n",
        "print (\"your date       \", date)"
      ]
    },
    {
      "cell_type": "markdown",
      "metadata": {
        "id": "l3a39TTcCwsk"
      },
      "source": [
        "#### fill in your fixed time series"
      ]
    },
    {
      "cell_type": "code",
      "source": [
        "d2_i = d2[(d2['site_id']==3)]\n",
        "ubicacion2 = d2_i[d2_i['timestamp']=='2016-02-04 00:00:00']"
      ],
      "metadata": {
        "id": "5cJAAllEMD1p"
      },
      "execution_count": 361,
      "outputs": []
    },
    {
      "cell_type": "code",
      "source": [
        "cloud_coverage = np.array(d2_i['cloud_coverage'])\n",
        "d2_inan = d2_i.isnull()"
      ],
      "metadata": {
        "id": "TUidpex3MiJN"
      },
      "execution_count": 362,
      "outputs": []
    },
    {
      "cell_type": "code",
      "source": [
        "np.array(d2_inan['cloud_coverage'])[1]==True"
      ],
      "metadata": {
        "colab": {
          "base_uri": "https://localhost:8080/"
        },
        "id": "IZvTzuPdqbB3",
        "outputId": "26d54d74-baba-4c83-99f2-d683a88faa61"
      },
      "execution_count": 363,
      "outputs": [
        {
          "output_type": "execute_result",
          "data": {
            "text/plain": [
              "True"
            ]
          },
          "metadata": {},
          "execution_count": 363
        }
      ]
    },
    {
      "cell_type": "code",
      "source": [
        "l=[]\n",
        "a = 0\n",
        "for i in range(len(d2_i['cloud_coverage'])):  \n",
        "  if np.array(d2_inan['cloud_coverage'])[i]==False : \n",
        "    l.append(np.array(d2_i['cloud_coverage'])[i])\n",
        "    a = np.array(d2_i['cloud_coverage'])[i]\n",
        "  else:\n",
        "    if np.array(d2_inan['cloud_coverage'])[i-1] == True:\n",
        "      l.append(a)\n",
        "    else:\n",
        "      l.append(np.array(d2_i['cloud_coverage'])[i-1])\n",
        "      a = np.array(d2_i['cloud_coverage'])[i-1]"
      ],
      "metadata": {
        "id": "K_hdY57hMrwS"
      },
      "execution_count": 373,
      "outputs": []
    },
    {
      "cell_type": "code",
      "source": [
        "m=[]\n",
        "a = 0\n",
        "for i in range(len(d2_i['sea_level_pressure'])):  \n",
        "  if np.array(d2_inan['sea_level_pressure'])[i]==False : \n",
        "    m.append(np.array(d2_i['sea_level_pressure'])[i])\n",
        "    a = np.array(d2_i['sea_level_pressure'])[i]\n",
        "  else:\n",
        "    if np.array(d2_inan['sea_level_pressure'])[i-1] == True:\n",
        "      m.append(a)\n",
        "    else:\n",
        "      m.append(np.array(d2_i['sea_level_pressure'])[i-1])\n",
        "      a = np.array(d2_i['sea_level_pressure'])[i-1]"
      ],
      "metadata": {
        "id": "EL5pmNMKMwYr"
      },
      "execution_count": 374,
      "outputs": []
    },
    {
      "cell_type": "code",
      "source": [
        "D2_i=d2_i.copy()\n",
        "D2_i['cloud_coverage']=l\n",
        "D2_i['sea_level_pressure']=m"
      ],
      "metadata": {
        "id": "brP1JCXtM6Jx"
      },
      "execution_count": 375,
      "outputs": []
    },
    {
      "cell_type": "code",
      "source": [
        " D2_i=D2_i[816:840]"
      ],
      "metadata": {
        "id": "9-3aTTVjNAtM"
      },
      "execution_count": 376,
      "outputs": []
    },
    {
      "cell_type": "code",
      "source": [
        "D2_i"
      ],
      "metadata": {
        "id": "-OVQCw3Arvbo"
      },
      "execution_count": null,
      "outputs": []
    },
    {
      "cell_type": "code",
      "source": [
        "fixed_ts = list(D2_i[\"cloud_coverage\"])"
      ],
      "metadata": {
        "id": "xAo8mdMOs0Fm"
      },
      "execution_count": 382,
      "outputs": []
    },
    {
      "cell_type": "markdown",
      "metadata": {
        "id": "3KAA0hFQCwsl"
      },
      "source": [
        "**submit your answer**"
      ]
    },
    {
      "cell_type": "code",
      "execution_count": 383,
      "metadata": {
        "scrolled": false,
        "id": "qG35--7HCwsl",
        "colab": {
          "base_uri": "https://localhost:8080/",
          "height": 128
        },
        "outputId": "7f951744-47ec-46ac-e31c-6f732cd55dbe"
      },
      "outputs": [
        {
          "output_type": "display_data",
          "data": {
            "text/plain": [
              "<IPython.core.display.HTML object>"
            ],
            "text/html": [
              "\n",
              "                    <b>task_02 submitted.</b> <b><font color=\"blue\">your grade is 5</font></b> \n",
              "                    <p/><pre>----- grader message -------</pre>checking for date='2016-02-04'<br/><b>correct</b><pre>----------------------------</pre>\n",
              "                    <p/><p/>\n",
              "                    <div style=\"font-size:10px\"><b>SUBMISSION CODE</b> ZfHIfNfUOaaVIrGVQTz5mHGw4KCiILtZx4bJKew+CUfZsnX3cbxsjU6kqOyO7CidvaZLFJwEWu3kuWr6fzJ2XSUclI5w+R1DzZT5M/QH/Sc7sJ4DfwrA7vZUI3lfFzpEiVnp6H32tfutiD/4tufMMWx0sb/gTOvYSYzf4ypkzKs=</div>\n",
              "                    "
            ]
          },
          "metadata": {}
        }
      ],
      "source": [
        "student.submit_task(globals(), task_id=\"task_02\");"
      ]
    },
    {
      "cell_type": "markdown",
      "metadata": {
        "id": "rj0bWzV6Cwsl"
      },
      "source": [
        "## Task 3. Build a time series predictive dataset\n",
        "\n",
        "You will now build a predictive dataset for a single time series. This dataset can later be used with predictive models. The machine learning task we will try to adress is the following:\n",
        "\n",
        "> **Given three consecutive points of a time series, we want a model to predict the next one.**\n",
        "\n",
        "Starting from a time series (a list of of $n$ numbers) you will have to build a dataset such as in the following example\n",
        "\n"
      ]
    },
    {
      "cell_type": "code",
      "execution_count": 348,
      "metadata": {
        "id": "5WvOeixPCwsm",
        "outputId": "0e5c44ff-2acb-4f95-faa6-8af867710343",
        "colab": {
          "base_uri": "https://localhost:8080/",
          "height": 231
        }
      },
      "outputs": [
        {
          "output_type": "stream",
          "name": "stdout",
          "text": [
            "[44 45 42 38 47 45 46 44 47 52 53 48 46 42 42 34 30 27 24 24]\n"
          ]
        },
        {
          "output_type": "display_data",
          "data": {
            "text/plain": [
              "<Figure size 1000x200 with 1 Axes>"
            ],
            "image/png": "[encoded data removed]"
          },
          "metadata": {}
        }
      ],
      "source": [
        "\n",
        "import numpy as np\n",
        "import matplotlib.pyplot as plt\n",
        "%matplotlib inline\n",
        "\n",
        "ts = np.r_[44, 45, 42, 38, 47, 45, 46, 44, 47, 52, 53, 48, 46, 42, 42, 34, 30, 27, 24, 24]\n",
        "plt.figure(figsize=(10,2))\n",
        "plt.xticks(range(len(ts)), range(len(ts)))\n",
        "plt.grid();\n",
        "plt.plot(ts)\n",
        "print (ts)\n"
      ]
    },
    {
      "cell_type": "markdown",
      "metadata": {
        "id": "EDa2RJJqCwsm"
      },
      "source": [
        "dataset:\n",
        "\n",
        "    [[[44, 45, 42], 38],\n",
        "     [[45, 42, 38], 47],\n",
        "     [[42, 38, 47], 45],\n",
        "     [[38, 47, 45], 46],\n",
        "     [[47, 45, 46], 44],\n",
        "     [[45, 46, 44], 47],\n",
        "     [[46, 44, 47], 52],\n",
        "     [[44, 47, 52], 53],\n",
        "     [[47, 52, 53], 48],\n",
        "     [[52, 53, 48], 46],\n",
        "     [[53, 48, 46], 42],\n",
        "     [[48, 46, 42], 42],\n",
        "     [[46, 42, 42], 34],\n",
        "     [[42, 42, 34], 30],\n",
        "     [[42, 34, 30], 27],\n",
        "     [[34, 30, 27], 24],\n",
        "     [[30, 27, 24], 24]]"
      ]
    },
    {
      "cell_type": "markdown",
      "metadata": {
        "id": "Rb69dBlxCwsm"
      },
      "source": [
        "observe that each line in the dataset represents one input-output pair, like a sliding window over the time series. \n",
        "\n",
        "We created two components:\n",
        "\n",
        "- a matrix $X$ of dimensions `(len(ts)-n,3)` gathering all inputs, in the case above with dimensions `(17,3)`\n",
        "- a vector $y$ of dimension `(len(ts)-n)` gathering each corresponding expected output, in the case above with dimensions `(17)`.\n",
        "\n",
        "In this task, you will have to:\n",
        "\n",
        "1. Take the time series you created in the previous task, where you fixed the missing values.\n",
        "1. Build $X$, $y$ such as above with $n=3$. If your time series has 24 data points, then X dimensions will be (21,3) and y dimensions will be (21)\n",
        "\n",
        "Again, use any tool of your choice to generate your result."
      ]
    },
    {
      "cell_type": "code",
      "execution_count": 349,
      "metadata": {
        "id": "9Dlc8YVWCwsn"
      },
      "outputs": [],
      "source": [
        "t_s=list(D2_i[\"cloud_coverage\"])"
      ]
    },
    {
      "cell_type": "code",
      "source": [
        "t_s"
      ],
      "metadata": {
        "id": "IL_SF1L5o17x",
        "colab": {
          "base_uri": "https://localhost:8080/"
        },
        "outputId": "bc9670a9-a1a5-414c-d8f5-abd46cba8874"
      },
      "execution_count": 350,
      "outputs": [
        {
          "output_type": "execute_result",
          "data": {
            "text/plain": [
              "[6.0,\n",
              " 6.0,\n",
              " 6.0,\n",
              " 8.0,\n",
              " 9.0,\n",
              " 9.0,\n",
              " 8.0,\n",
              " 8.0,\n",
              " 9.0,\n",
              " 8.0,\n",
              " 8.0,\n",
              " 8.0,\n",
              " 8.0,\n",
              " 8.0,\n",
              " 8.0,\n",
              " 8.0,\n",
              " 8.0,\n",
              " 8.0,\n",
              " 8.0,\n",
              " 8.0,\n",
              " 8.0,\n",
              " 8.0,\n",
              " 8.0,\n",
              " 8.0]"
            ]
          },
          "metadata": {},
          "execution_count": 350
        }
      ]
    },
    {
      "cell_type": "code",
      "source": [
        "len(t_s)"
      ],
      "metadata": {
        "colab": {
          "base_uri": "https://localhost:8080/"
        },
        "id": "TkvxZqhRdxs2",
        "outputId": "38179469-6883-4702-da4d-6a730c4bf701"
      },
      "execution_count": 351,
      "outputs": [
        {
          "output_type": "execute_result",
          "data": {
            "text/plain": [
              "24"
            ]
          },
          "metadata": {},
          "execution_count": 351
        }
      ]
    },
    {
      "cell_type": "code",
      "source": [
        "t_s[0:3],t_s[1:4],t_s[2:5]"
      ],
      "metadata": {
        "id": "hBH31axrdGgB",
        "colab": {
          "base_uri": "https://localhost:8080/"
        },
        "outputId": "a4568052-838c-4865-dda7-692a2661693e"
      },
      "execution_count": 352,
      "outputs": [
        {
          "output_type": "execute_result",
          "data": {
            "text/plain": [
              "([6.0, 6.0, 6.0], [6.0, 6.0, 8.0], [6.0, 8.0, 9.0])"
            ]
          },
          "metadata": {},
          "execution_count": 352
        }
      ]
    },
    {
      "cell_type": "code",
      "source": [
        "x = []\n",
        "for i in range(len(t_s)-3):\n",
        "  x.append(t_s[i:i+3])\n",
        "\n",
        "x"
      ],
      "metadata": {
        "id": "atryLyuddIi5",
        "colab": {
          "base_uri": "https://localhost:8080/"
        },
        "outputId": "56a9ff5a-07d3-4258-e2f6-1e1f84ea62a4"
      },
      "execution_count": 353,
      "outputs": [
        {
          "output_type": "execute_result",
          "data": {
            "text/plain": [
              "[[6.0, 6.0, 6.0],\n",
              " [6.0, 6.0, 8.0],\n",
              " [6.0, 8.0, 9.0],\n",
              " [8.0, 9.0, 9.0],\n",
              " [9.0, 9.0, 8.0],\n",
              " [9.0, 8.0, 8.0],\n",
              " [8.0, 8.0, 9.0],\n",
              " [8.0, 9.0, 8.0],\n",
              " [9.0, 8.0, 8.0],\n",
              " [8.0, 8.0, 8.0],\n",
              " [8.0, 8.0, 8.0],\n",
              " [8.0, 8.0, 8.0],\n",
              " [8.0, 8.0, 8.0],\n",
              " [8.0, 8.0, 8.0],\n",
              " [8.0, 8.0, 8.0],\n",
              " [8.0, 8.0, 8.0],\n",
              " [8.0, 8.0, 8.0],\n",
              " [8.0, 8.0, 8.0],\n",
              " [8.0, 8.0, 8.0],\n",
              " [8.0, 8.0, 8.0],\n",
              " [8.0, 8.0, 8.0]]"
            ]
          },
          "metadata": {},
          "execution_count": 353
        }
      ]
    },
    {
      "cell_type": "code",
      "source": [
        "y = t_s[3:]\n",
        "y"
      ],
      "metadata": {
        "id": "tKTzQXqQdKml",
        "colab": {
          "base_uri": "https://localhost:8080/"
        },
        "outputId": "83b98bf7-0f5e-48de-f7c8-0d8d50348b08"
      },
      "execution_count": 354,
      "outputs": [
        {
          "output_type": "execute_result",
          "data": {
            "text/plain": [
              "[8.0,\n",
              " 9.0,\n",
              " 9.0,\n",
              " 8.0,\n",
              " 8.0,\n",
              " 9.0,\n",
              " 8.0,\n",
              " 8.0,\n",
              " 8.0,\n",
              " 8.0,\n",
              " 8.0,\n",
              " 8.0,\n",
              " 8.0,\n",
              " 8.0,\n",
              " 8.0,\n",
              " 8.0,\n",
              " 8.0,\n",
              " 8.0,\n",
              " 8.0,\n",
              " 8.0,\n",
              " 8.0]"
            ]
          },
          "metadata": {},
          "execution_count": 354
        }
      ]
    },
    {
      "cell_type": "code",
      "source": [
        "len(y)"
      ],
      "metadata": {
        "id": "OWit2oD_dNfe"
      },
      "execution_count": null,
      "outputs": []
    },
    {
      "cell_type": "code",
      "source": [
        "X = x\n",
        "\n",
        "y = y"
      ],
      "metadata": {
        "id": "GnvYjIGgdPSx"
      },
      "execution_count": 355,
      "outputs": []
    },
    {
      "cell_type": "markdown",
      "metadata": {
        "id": "xCRgUfq6Cwsn"
      },
      "source": [
        "#### fill in your answer\n"
      ]
    },
    {
      "cell_type": "markdown",
      "metadata": {
        "id": "H7sjvL5TCwso"
      },
      "source": [
        "**submit your answer**"
      ]
    },
    {
      "cell_type": "code",
      "execution_count": 356,
      "metadata": {
        "scrolled": false,
        "id": "bDgbjqzrCwso",
        "colab": {
          "base_uri": "https://localhost:8080/",
          "height": 128
        },
        "outputId": "1e040963-438a-40b8-d850-ff83d3846fb1"
      },
      "outputs": [
        {
          "output_type": "display_data",
          "data": {
            "text/plain": [
              "<IPython.core.display.HTML object>"
            ],
            "text/html": [
              "\n",
              "                    <b>task_03 submitted.</b> <b><font color=\"blue\">your grade is 5</font></b> \n",
              "                    <p/><pre>----- grader message -------</pre>checking for date='2016-02-04'<br/><b>correct</b><pre>----------------------------</pre>\n",
              "                    <p/><p/>\n",
              "                    <div style=\"font-size:10px\"><b>SUBMISSION CODE</b> km8TCQ0nbayDZedHM+ulIVwE56ARPn2uYcKsvWCdrzWLwqDleLwSQVD4XxeugeToCcrtaFw9L36Iwp+sv7jEKodbJHKnWSZEwtlZp6ZiBdO1LQha3ezzskUDYO41uwUXZo/11OJ6TFmKSydWAw1qyfsmY1JQEa3LrGde3BwfI3Y=</div>\n",
              "                    "
            ]
          },
          "metadata": {}
        }
      ],
      "source": [
        "student.submit_task(globals(), task_id=\"task_03\");"
      ]
    }
  ],
  "metadata": {
    "kernelspec": {
      "display_name": "Python 3 (ipykernel)",
      "language": "python",
      "name": "python3"
    },
    "language_info": {
      "codemirror_mode": {
        "name": "ipython",
        "version": 3
      },
      "file_extension": ".py",
      "mimetype": "text/x-python",
      "name": "python",
      "nbconvert_exporter": "python",
      "pygments_lexer": "ipython3",
      "version": "3.9.5"
    },
    "colab": {
      "provenance": []
    },
    "widgets": {
      "application/vnd.jupyter.widget-state+json": {
        "bace667bcb6d442b934e412555b79491": {
          "model_module": "@jupyter-widgets/controls",
          "model_name": "HBoxModel",
          "model_module_version": "1.5.0",
          "state": {
            "_dom_classes": [],
            "_model_module": "@jupyter-widgets/controls",
            "_model_module_version": "1.5.0",
            "_model_name": "HBoxModel",
            "_view_count": null,
            "_view_module": "@jupyter-widgets/controls",
            "_view_module_version": "1.5.0",
            "_view_name": "HBoxView",
            "box_style": "",
            "children": [
              "IPY_MODEL_579cb61079464ab1ba0bb28cee8f3751",
              "IPY_MODEL_2f85ec4037864749863058253c0ce787",
              "IPY_MODEL_b2bb7b9b8f384d85989fc6cab269d124",
              "IPY_MODEL_7cabe3abdc1c417ca0dd9c7d3662304f"
            ],
            "layout": "IPY_MODEL_211a447194214838957f7a9fac524096"
          }
        },
        "579cb61079464ab1ba0bb28cee8f3751": {
          "model_module": "@jupyter-widgets/controls",
          "model_name": "VBoxModel",
          "model_module_version": "1.5.0",
          "state": {
            "_dom_classes": [],
            "_model_module": "@jupyter-widgets/controls",
            "_model_module_version": "1.5.0",
            "_model_name": "VBoxModel",
            "_view_count": null,
            "_view_module": "@jupyter-widgets/controls",
            "_view_module_version": "1.5.0",
            "_view_name": "VBoxView",
            "box_style": "",
            "children": [
              "IPY_MODEL_0072c065ffc9459da86cbe4b188fc836",
              "IPY_MODEL_1d6a5fd66b744e30962b50b5495b96e6"
            ],
            "layout": "IPY_MODEL_1175b603dbf342c6a701ad13f5f53fe4"
          }
        },
        "2f85ec4037864749863058253c0ce787": {
          "model_module": "@jupyter-widgets/controls",
          "model_name": "ButtonModel",
          "model_module_version": "1.5.0",
          "state": {
            "_dom_classes": [
              "login_button"
            ],
            "_model_module": "@jupyter-widgets/controls",
            "_model_module_version": "1.5.0",
            "_model_name": "ButtonModel",
            "_view_count": null,
            "_view_module": "@jupyter-widgets/controls",
            "_view_module_version": "1.5.0",
            "_view_name": "ButtonView",
            "button_style": "",
            "description": "Login with email",
            "disabled": false,
            "icon": "",
            "layout": "IPY_MODEL_b25da97892ce4e9895509f633592e1c4",
            "style": "IPY_MODEL_2220aab450864bbbaa795f1576a8363f",
            "tooltip": ""
          }
        },
        "b2bb7b9b8f384d85989fc6cab269d124": {
          "model_module": "@jupyter-widgets/controls",
          "model_name": "HTMLModel",
          "model_module_version": "1.5.0",
          "state": {
            "_dom_classes": [],
            "_model_module": "@jupyter-widgets/controls",
            "_model_module_version": "1.5.0",
            "_model_name": "HTMLModel",
            "_view_count": null,
            "_view_module": "@jupyter-widgets/controls",
            "_view_module_version": "1.5.0",
            "_view_name": "HTMLView",
            "description": "",
            "description_tooltip": null,
            "layout": "IPY_MODEL_0c394f2277e846c1a1cafdc33eeb9cd1",
            "placeholder": "​",
            "style": "IPY_MODEL_cd5adf98564e4abfbebac0908056189c",
            "value": "<center><big>or</big></center>"
          }
        },
        "7cabe3abdc1c417ca0dd9c7d3662304f": {
          "model_module": "@jupyter-widgets/controls",
          "model_name": "ButtonModel",
          "model_module_version": "1.5.0",
          "state": {
            "_dom_classes": [
              "google_button"
            ],
            "_model_module": "@jupyter-widgets/controls",
            "_model_module_version": "1.5.0",
            "_model_name": "ButtonModel",
            "_view_count": null,
            "_view_module": "@jupyter-widgets/controls",
            "_view_module_version": "1.5.0",
            "_view_name": "ButtonView",
            "button_style": "",
            "description": "Login with Google",
            "disabled": false,
            "icon": "",
            "layout": "IPY_MODEL_0a24125960fe46018334f6a062033f1f",
            "style": "IPY_MODEL_0d27993574bd452c99d77418e872cbe7",
            "tooltip": ""
          }
        },
        "211a447194214838957f7a9fac524096": {
          "model_module": "@jupyter-widgets/base",
          "model_name": "LayoutModel",
          "model_module_version": "1.2.0",
          "state": {
            "_model_module": "@jupyter-widgets/base",
            "_model_module_version": "1.2.0",
            "_model_name": "LayoutModel",
            "_view_count": null,
            "_view_module": "@jupyter-widgets/base",
            "_view_module_version": "1.2.0",
            "_view_name": "LayoutView",
            "align_content": null,
            "align_items": null,
            "align_self": null,
            "border": null,
            "bottom": null,
            "display": null,
            "flex": null,
            "flex_flow": null,
            "grid_area": null,
            "grid_auto_columns": null,
            "grid_auto_flow": null,
            "grid_auto_rows": null,
            "grid_column": null,
            "grid_gap": null,
            "grid_row": null,
            "grid_template_areas": null,
            "grid_template_columns": null,
            "grid_template_rows": null,
            "height": null,
            "justify_content": null,
            "justify_items": null,
            "left": null,
            "margin": null,
            "max_height": null,
            "max_width": null,
            "min_height": null,
            "min_width": null,
            "object_fit": null,
            "object_position": null,
            "order": null,
            "overflow": null,
            "overflow_x": null,
            "overflow_y": null,
            "padding": null,
            "right": null,
            "top": null,
            "visibility": null,
            "width": null
          }
        },
        "0072c065ffc9459da86cbe4b188fc836": {
          "model_module": "@jupyter-widgets/controls",
          "model_name": "TextModel",
          "model_module_version": "1.5.0",
          "state": {
            "_dom_classes": [],
            "_model_module": "@jupyter-widgets/controls",
            "_model_module_version": "1.5.0",
            "_model_name": "TextModel",
            "_view_count": null,
            "_view_module": "@jupyter-widgets/controls",
            "_view_module_version": "1.5.0",
            "_view_name": "TextView",
            "continuous_update": true,
            "description": "email",
            "description_tooltip": null,
            "disabled": false,
            "layout": "IPY_MODEL_1525163c59a54c09834b8292111ea5ee",
            "placeholder": "​",
            "style": "IPY_MODEL_64197082860a4fba9bb9c834834cb9d3",
            "value": ""
          }
        },
        "1d6a5fd66b744e30962b50b5495b96e6": {
          "model_module": "@jupyter-widgets/controls",
          "model_name": "PasswordModel",
          "model_module_version": "1.5.0",
          "state": {
            "_dom_classes": [],
            "_model_module": "@jupyter-widgets/controls",
            "_model_module_version": "1.5.0",
            "_model_name": "PasswordModel",
            "_view_count": null,
            "_view_module": "@jupyter-widgets/controls",
            "_view_module_version": "1.5.0",
            "_view_name": "PasswordView",
            "continuous_update": true,
            "description": "password",
            "description_tooltip": null,
            "disabled": false,
            "layout": "IPY_MODEL_1af13c1e8eb541da8e284989cc20f154",
            "placeholder": "​",
            "style": "IPY_MODEL_8d0d08693eec4afc8d1e08eefd95c045",
            "value": ""
          }
        },
        "1175b603dbf342c6a701ad13f5f53fe4": {
          "model_module": "@jupyter-widgets/base",
          "model_name": "LayoutModel",
          "model_module_version": "1.2.0",
          "state": {
            "_model_module": "@jupyter-widgets/base",
            "_model_module_version": "1.2.0",
            "_model_name": "LayoutModel",
            "_view_count": null,
            "_view_module": "@jupyter-widgets/base",
            "_view_module_version": "1.2.0",
            "_view_name": "LayoutView",
            "align_content": null,
            "align_items": null,
            "align_self": null,
            "border": null,
            "bottom": null,
            "display": null,
            "flex": null,
            "flex_flow": null,
            "grid_area": null,
            "grid_auto_columns": null,
            "grid_auto_flow": null,
            "grid_auto_rows": null,
            "grid_column": null,
            "grid_gap": null,
            "grid_row": null,
            "grid_template_areas": null,
            "grid_template_columns": null,
            "grid_template_rows": null,
            "height": null,
            "justify_content": null,
            "justify_items": null,
            "left": null,
            "margin": null,
            "max_height": null,
            "max_width": null,
            "min_height": null,
            "min_width": null,
            "object_fit": null,
            "object_position": null,
            "order": null,
            "overflow": null,
            "overflow_x": null,
            "overflow_y": null,
            "padding": null,
            "right": null,
            "top": null,
            "visibility": null,
            "width": null
          }
        },
        "b25da97892ce4e9895509f633592e1c4": {
          "model_module": "@jupyter-widgets/base",
          "model_name": "LayoutModel",
          "model_module_version": "1.2.0",
          "state": {
            "_model_module": "@jupyter-widgets/base",
            "_model_module_version": "1.2.0",
            "_model_name": "LayoutModel",
            "_view_count": null,
            "_view_module": "@jupyter-widgets/base",
            "_view_module_version": "1.2.0",
            "_view_name": "LayoutView",
            "align_content": null,
            "align_items": null,
            "align_self": null,
            "border": null,
            "bottom": null,
            "display": null,
            "flex": null,
            "flex_flow": null,
            "grid_area": null,
            "grid_auto_columns": null,
            "grid_auto_flow": null,
            "grid_auto_rows": null,
            "grid_column": null,
            "grid_gap": null,
            "grid_row": null,
            "grid_template_areas": null,
            "grid_template_columns": null,
            "grid_template_rows": null,
            "height": "53px",
            "justify_content": null,
            "justify_items": null,
            "left": null,
            "margin": null,
            "max_height": null,
            "max_width": null,
            "min_height": null,
            "min_width": null,
            "object_fit": null,
            "object_position": null,
            "order": null,
            "overflow": null,
            "overflow_x": null,
            "overflow_y": null,
            "padding": null,
            "right": null,
            "top": null,
            "visibility": null,
            "width": "150px"
          }
        },
        "2220aab450864bbbaa795f1576a8363f": {
          "model_module": "@jupyter-widgets/controls",
          "model_name": "ButtonStyleModel",
          "model_module_version": "1.5.0",
          "state": {
            "_model_module": "@jupyter-widgets/controls",
            "_model_module_version": "1.5.0",
            "_model_name": "ButtonStyleModel",
            "_view_count": null,
            "_view_module": "@jupyter-widgets/base",
            "_view_module_version": "1.2.0",
            "_view_name": "StyleView",
            "button_color": null,
            "font_weight": ""
          }
        },
        "0c394f2277e846c1a1cafdc33eeb9cd1": {
          "model_module": "@jupyter-widgets/base",
          "model_name": "LayoutModel",
          "model_module_version": "1.2.0",
          "state": {
            "_model_module": "@jupyter-widgets/base",
            "_model_module_version": "1.2.0",
            "_model_name": "LayoutModel",
            "_view_count": null,
            "_view_module": "@jupyter-widgets/base",
            "_view_module_version": "1.2.0",
            "_view_name": "LayoutView",
            "align_content": null,
            "align_items": null,
            "align_self": null,
            "border": null,
            "bottom": null,
            "display": null,
            "flex": null,
            "flex_flow": null,
            "grid_area": null,
            "grid_auto_columns": null,
            "grid_auto_flow": null,
            "grid_auto_rows": null,
            "grid_column": null,
            "grid_gap": null,
            "grid_row": null,
            "grid_template_areas": null,
            "grid_template_columns": null,
            "grid_template_rows": null,
            "height": null,
            "justify_content": null,
            "justify_items": null,
            "left": null,
            "margin": null,
            "max_height": null,
            "max_width": null,
            "min_height": null,
            "min_width": null,
            "object_fit": null,
            "object_position": null,
            "order": null,
            "overflow": null,
            "overflow_x": null,
            "overflow_y": null,
            "padding": null,
            "right": null,
            "top": null,
            "visibility": null,
            "width": "100px"
          }
        },
        "cd5adf98564e4abfbebac0908056189c": {
          "model_module": "@jupyter-widgets/controls",
          "model_name": "DescriptionStyleModel",
          "model_module_version": "1.5.0",
          "state": {
            "_model_module": "@jupyter-widgets/controls",
            "_model_module_version": "1.5.0",
            "_model_name": "DescriptionStyleModel",
            "_view_count": null,
            "_view_module": "@jupyter-widgets/base",
            "_view_module_version": "1.2.0",
            "_view_name": "StyleView",
            "description_width": ""
          }
        },
        "0a24125960fe46018334f6a062033f1f": {
          "model_module": "@jupyter-widgets/base",
          "model_name": "LayoutModel",
          "model_module_version": "1.2.0",
          "state": {
            "_model_module": "@jupyter-widgets/base",
            "_model_module_version": "1.2.0",
            "_model_name": "LayoutModel",
            "_view_count": null,
            "_view_module": "@jupyter-widgets/base",
            "_view_module_version": "1.2.0",
            "_view_name": "LayoutView",
            "align_content": null,
            "align_items": null,
            "align_self": null,
            "border": null,
            "bottom": null,
            "display": null,
            "flex": null,
            "flex_flow": null,
            "grid_area": null,
            "grid_auto_columns": null,
            "grid_auto_flow": null,
            "grid_auto_rows": null,
            "grid_column": null,
            "grid_gap": null,
            "grid_row": null,
            "grid_template_areas": null,
            "grid_template_columns": null,
            "grid_template_rows": null,
            "height": "53px",
            "justify_content": null,
            "justify_items": null,
            "left": null,
            "margin": null,
            "max_height": null,
            "max_width": null,
            "min_height": null,
            "min_width": null,
            "object_fit": null,
            "object_position": null,
            "order": null,
            "overflow": null,
            "overflow_x": null,
            "overflow_y": null,
            "padding": null,
            "right": null,
            "top": null,
            "visibility": null,
            "width": "200px"
          }
        },
        "0d27993574bd452c99d77418e872cbe7": {
          "model_module": "@jupyter-widgets/controls",
          "model_name": "ButtonStyleModel",
          "model_module_version": "1.5.0",
          "state": {
            "_model_module": "@jupyter-widgets/controls",
            "_model_module_version": "1.5.0",
            "_model_name": "ButtonStyleModel",
            "_view_count": null,
            "_view_module": "@jupyter-widgets/base",
            "_view_module_version": "1.2.0",
            "_view_name": "StyleView",
            "button_color": null,
            "font_weight": ""
          }
        },
        "1525163c59a54c09834b8292111ea5ee": {
          "model_module": "@jupyter-widgets/base",
          "model_name": "LayoutModel",
          "model_module_version": "1.2.0",
          "state": {
            "_model_module": "@jupyter-widgets/base",
            "_model_module_version": "1.2.0",
            "_model_name": "LayoutModel",
            "_view_count": null,
            "_view_module": "@jupyter-widgets/base",
            "_view_module_version": "1.2.0",
            "_view_name": "LayoutView",
            "align_content": null,
            "align_items": null,
            "align_self": null,
            "border": null,
            "bottom": null,
            "display": null,
            "flex": null,
            "flex_flow": null,
            "grid_area": null,
            "grid_auto_columns": null,
            "grid_auto_flow": null,
            "grid_auto_rows": null,
            "grid_column": null,
            "grid_gap": null,
            "grid_row": null,
            "grid_template_areas": null,
            "grid_template_columns": null,
            "grid_template_rows": null,
            "height": "25px",
            "justify_content": null,
            "justify_items": null,
            "left": null,
            "margin": null,
            "max_height": null,
            "max_width": null,
            "min_height": null,
            "min_width": null,
            "object_fit": null,
            "object_position": null,
            "order": null,
            "overflow": null,
            "overflow_x": null,
            "overflow_y": null,
            "padding": null,
            "right": null,
            "top": null,
            "visibility": null,
            "width": "300px"
          }
        },
        "64197082860a4fba9bb9c834834cb9d3": {
          "model_module": "@jupyter-widgets/controls",
          "model_name": "DescriptionStyleModel",
          "model_module_version": "1.5.0",
          "state": {
            "_model_module": "@jupyter-widgets/controls",
            "_model_module_version": "1.5.0",
            "_model_name": "DescriptionStyleModel",
            "_view_count": null,
            "_view_module": "@jupyter-widgets/base",
            "_view_module_version": "1.2.0",
            "_view_name": "StyleView",
            "description_width": ""
          }
        },
        "1af13c1e8eb541da8e284989cc20f154": {
          "model_module": "@jupyter-widgets/base",
          "model_name": "LayoutModel",
          "model_module_version": "1.2.0",
          "state": {
            "_model_module": "@jupyter-widgets/base",
            "_model_module_version": "1.2.0",
            "_model_name": "LayoutModel",
            "_view_count": null,
            "_view_module": "@jupyter-widgets/base",
            "_view_module_version": "1.2.0",
            "_view_name": "LayoutView",
            "align_content": null,
            "align_items": null,
            "align_self": null,
            "border": null,
            "bottom": null,
            "display": null,
            "flex": null,
            "flex_flow": null,
            "grid_area": null,
            "grid_auto_columns": null,
            "grid_auto_flow": null,
            "grid_auto_rows": null,
            "grid_column": null,
            "grid_gap": null,
            "grid_row": null,
            "grid_template_areas": null,
            "grid_template_columns": null,
            "grid_template_rows": null,
            "height": "24px",
            "justify_content": null,
            "justify_items": null,
            "left": null,
            "margin": null,
            "max_height": null,
            "max_width": null,
            "min_height": null,
            "min_width": null,
            "object_fit": null,
            "object_position": null,
            "order": null,
            "overflow": null,
            "overflow_x": null,
            "overflow_y": null,
            "padding": null,
            "right": null,
            "top": null,
            "visibility": null,
            "width": "300px"
          }
        },
        "8d0d08693eec4afc8d1e08eefd95c045": {
          "model_module": "@jupyter-widgets/controls",
          "model_name": "DescriptionStyleModel",
          "model_module_version": "1.5.0",
          "state": {
            "_model_module": "@jupyter-widgets/controls",
            "_model_module_version": "1.5.0",
            "_model_name": "DescriptionStyleModel",
            "_view_count": null,
            "_view_module": "@jupyter-widgets/base",
            "_view_module_version": "1.2.0",
            "_view_name": "StyleView",
            "description_width": ""
          }
        }
      }
    }
  },
  "nbformat": 4,
  "nbformat_minor": 0
}
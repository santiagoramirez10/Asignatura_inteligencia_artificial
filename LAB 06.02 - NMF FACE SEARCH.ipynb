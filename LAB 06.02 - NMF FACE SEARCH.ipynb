{
  "cells": [
    {
      "cell_type": "markdown",
      "metadata": {
        "id": "XYEsCVfdspl2"
      },
      "source": [
        "# LAB 06.02 - NMF face search"
      ]
    },
    {
      "cell_type": "code",
      "execution_count": 1,
      "metadata": {
        "id": "WRuOn9gHspl5",
        "outputId": "7c106522-5ada-4333-e708-54102306ef11",
        "colab": {
          "base_uri": "https://localhost:8080/",
          "height": 75
        }
      },
      "outputs": [
        {
          "output_type": "display_data",
          "data": {
            "text/plain": [
              "<IPython.core.display.HTML object>"
            ],
            "text/html": [
              "\n",
              "<meta name=\"google-signin-client_id\"\n",
              "      content=\"461673936472-kdjosv61up3ac1ajeuq6qqu72upilmls.apps.googleusercontent.com\"/>\n",
              "<script src=\"https://apis.google.com/js/client:platform.js?onload=google_button_start\"></script>\n",
              "    "
            ]
          },
          "metadata": {}
        },
        {
          "output_type": "stream",
          "name": "stdout",
          "text": [
            "replicating local resources\n"
          ]
        },
        {
          "output_type": "execute_result",
          "data": {
            "text/plain": [
              "<IPython.core.display.HTML object>"
            ],
            "text/html": [
              "<h3>See <a href='https://m5knaekxo6.execute-api.us-west-2.amazonaws.com/dev-v0001/rlxmooc/web/login' target='_blank'>my courses and progress</a></h2>"
            ]
          },
          "metadata": {},
          "execution_count": 1
        }
      ],
      "source": [
        "!wget --no-cache -O init.py -q https://raw.githubusercontent.com/rramosp/ai4eng.v1/main/content/init.py\n",
        "import init; init.init(force_download=False); init.get_weblink()\n"
      ]
    },
    {
      "cell_type": "code",
      "execution_count": 2,
      "metadata": {
        "id": "TnKfzAqmspl8",
        "outputId": "0dbf92e0-fada-47f7-adbe-93d097e0c076",
        "colab": {
          "base_uri": "https://localhost:8080/",
          "height": 135,
          "referenced_widgets": [
            "0c7bdd45135746fa9c87dc32afe21568",
            "f29fad281ee44f56ae52040abb7c99fe",
            "3b94c6ee5d3b4618ba06cf58599f7968",
            "403ce886160d483f8d8a7194d474aa96",
            "6eaeef24c9a148359ba8c60bae15ee7b",
            "98dea6dbb5ba4642a9fd464a05150cda",
            "88cdaea0272949b7bb615619be2da4b1",
            "66e4da959a5e4a02981b8324137ecdc0",
            "574b649f287f4a4eb2c7af3ed2c3cb93",
            "1adc69dabb324701a0d6013a5b5fa375",
            "49d445e80d56409e82a1265a9b27fadb",
            "cfd904ce8c4e4e96afe7c1e068c7802f",
            "1f3919bd0a3b467789aee536c439636f",
            "551bef7b7e93488189b216762e29de32",
            "8f89e27a02ba43538ca4335bcfda687f",
            "b414f3c1cc044efebe0e1f21838382e0",
            "4fe268217c58493089dd399cc0476d41",
            "b5300c4437554717b3b01c97a33bc7ac",
            "02984167eb2c4447a418d07fc11bc8eb"
          ]
        }
      },
      "outputs": [
        {
          "output_type": "stream",
          "name": "stdout",
          "text": [
            "logging in as santiago.ramirez10@udea.edu.co... please wait\n",
            "using course session ai4eng.v1.udea.r2::2023.1\n",
            "success!! you are logged in\n"
          ]
        }
      ],
      "source": [
        "from local.lib.rlxmoocapi import submit, session\n",
        "session.LoginSequence(endpoint=init.endpoint, course_id=init.course_id, lab_id=\"L06.02\", varname=\"student\");"
      ]
    },
    {
      "cell_type": "markdown",
      "metadata": {
        "id": "OyBWf8Rispl-"
      },
      "source": [
        "## Dataset\n",
        "\n",
        "we will use the faces dataset"
      ]
    },
    {
      "cell_type": "code",
      "execution_count": 3,
      "metadata": {
        "id": "UTZPY4SUspmA"
      },
      "outputs": [],
      "source": [
        "import pandas as pd\n",
        "import numpy as np\n",
        "import matplotlib.pyplot as plt\n",
        "from IPython.display import Image\n",
        "%matplotlib inline"
      ]
    },
    {
      "cell_type": "code",
      "execution_count": 4,
      "metadata": {
        "id": "RoiJvfBgspmB",
        "outputId": "b0eb1bec-dba2-494c-c91b-1769a377d1d0",
        "colab": {
          "base_uri": "https://localhost:8080/"
        }
      },
      "outputs": [
        {
          "output_type": "execute_result",
          "data": {
            "text/plain": [
              "(535, 361)"
            ]
          },
          "metadata": {},
          "execution_count": 4
        }
      ],
      "source": [
        "import numpy as np\n",
        "faces = np.load(\"local/data/faces.npy\")\n",
        "faces.shape"
      ]
    },
    {
      "cell_type": "code",
      "execution_count": 5,
      "metadata": {
        "id": "ALkYhERhspmD"
      },
      "outputs": [],
      "source": [
        "def plot_faces(faces):\n",
        "    assert len(faces)<=30, \"can only plot at most 30 faces\"\n",
        "    plt.figure(figsize=(15,2))\n",
        "    for i in range(len(faces)):\n",
        "        plt.subplot(2,15,i+1)\n",
        "        plt.imshow(faces[i].reshape(19,19), cmap=plt.cm.Greys_r)\n",
        "        plt.xticks([]); plt.yticks([])"
      ]
    },
    {
      "cell_type": "code",
      "execution_count": 6,
      "metadata": {
        "id": "57MpeelJspmE",
        "outputId": "87e0ae21-801c-41c4-e79b-0aa763171e2a",
        "colab": {
          "base_uri": "https://localhost:8080/",
          "height": 186
        }
      },
      "outputs": [
        {
          "output_type": "display_data",
          "data": {
            "text/plain": [
              "<Figure size 1500x200 with 30 Axes>"
            ],
            "image/png": "[encoded data removed]"
          },
          "metadata": {}
        }
      ],
      "source": [
        "plot_faces(np.random.permutation(faces)[:30])"
      ]
    },
    {
      "cell_type": "markdown",
      "metadata": {
        "id": "FS8TSJh2spmG"
      },
      "source": [
        "## Task 1: Distance function for a vector\n",
        "\n",
        "complete the following function so that given a vector $v \\in \\mathbb{R}^n$ and a `numpy` array $X \\in \\mathbb{R}^{m\\times n}$ (whose rows are vectors of the same size as $v$) returns a new array $\\in \\mathbb{R}^m$ with the Euclidean distance between $v$ and each vector in $X$.\n",
        "\n",
        "Recall that the Euclidean distance between vectors $z=[z_0,...z_{n-1}]$ and $w=[w_0,...,w_{n-1}]$ is given by\n",
        "\n",
        "$$\\text{distance}(z,w) = \\sqrt{\\sum_{i=0}^{n-1} (z_i-w_i)^2}$$\n",
        "\n",
        "\n",
        "**hint**: use [`np.linalg.norm`](https://numpy.org/doc/stable/reference/generated/numpy.linalg.norm.html) to compute a distance between two vectors\n",
        "\n",
        "**challenge**: solve it using one line of code.\n",
        "\n",
        "**note**: your function must return a 1D numpy array of dimension $m$, not a list.\n",
        "\n",
        "for instance, for the following values of $v$ and $X$\n",
        "\n",
        "    X = array([[9, 5, 1, 3, 8, 3, 3, 3, 9, 2],\n",
        "               [9, 7, 0, 7, 9, 1, 4, 7, 3, 6],\n",
        "               [8, 0, 0, 5, 0, 5, 5, 1, 1, 5],\n",
        "               [8, 2, 9, 5, 6, 0, 8, 7, 2, 8],\n",
        "               [0, 6, 3, 0, 6, 6, 1, 2, 8, 0]])\n",
        "                  \n",
        "    v = np.array([9, 7, 0, 7, 9, 1, 4, 7, 3, 6])\n",
        "\n",
        "\n",
        "you should get the following result\n",
        "\n",
        "    array([ 9.74679434,  0.        , 13.89244399, 11.91637529, 16.40121947])\n"
      ]
    },
    {
      "cell_type": "code",
      "execution_count": 7,
      "metadata": {
        "id": "fXpBtuX4spmI"
      },
      "outputs": [],
      "source": [
        "def distances(v, X):\n",
        "    result=np.linalg.norm(X - v, axis=1)\n",
        "    return result"
      ]
    },
    {
      "cell_type": "markdown",
      "metadata": {
        "id": "WtL1AIlvspmJ"
      },
      "source": [
        "check manually your code"
      ]
    },
    {
      "cell_type": "code",
      "execution_count": 8,
      "metadata": {
        "scrolled": true,
        "id": "FoPuygMCspmJ",
        "outputId": "af05195f-924c-4ccf-a6a7-6c5eee9aec06",
        "colab": {
          "base_uri": "https://localhost:8080/"
        }
      },
      "outputs": [
        {
          "output_type": "stream",
          "name": "stdout",
          "text": [
            "X=\n",
            " [[4 9 4 4 0 2 0 9 1 4]\n",
            " [6 0 2 3 5 9 5 8 6 5]\n",
            " [6 1 6 1 9 0 2 4 7 1]\n",
            " [6 8 7 8 1 6 9 4 2 0]\n",
            " [0 3 3 1 1 5 3 0 2 1]]\n",
            "\n",
            "v= [6 0 2 3 5 9 5 8 6 5]\n"
          ]
        },
        {
          "output_type": "execute_result",
          "data": {
            "text/plain": [
              "array([14.69693846,  0.        , 12.64911064, 14.56021978, 13.49073756])"
            ]
          },
          "metadata": {},
          "execution_count": 8
        }
      ],
      "source": [
        "X = np.random.randint(10, size=(5,10))\n",
        "v = X[1]\n",
        "print (\"X=\\n\", X)\n",
        "print (\"\\nv=\", v)\n",
        "distances(v, X)"
      ]
    },
    {
      "cell_type": "markdown",
      "metadata": {
        "id": "f52qWlu-spmK"
      },
      "source": [
        "**submit your code**"
      ]
    },
    {
      "cell_type": "code",
      "execution_count": 9,
      "metadata": {
        "scrolled": true,
        "id": "2lD_yOwGspmK",
        "outputId": "a4f62be0-4293-4525-bb71-4399fca4890f",
        "colab": {
          "base_uri": "https://localhost:8080/",
          "height": 163
        }
      },
      "outputs": [
        {
          "output_type": "display_data",
          "data": {
            "text/plain": [
              "<IPython.core.display.HTML object>"
            ],
            "text/html": [
              "\n",
              "                    <b>task_01 submitted.</b> <b><font color=\"blue\">your grade is 5</font></b> \n",
              "                    <p/><pre>----- grader message -------</pre><br/>testing with 100 random calls<br/><br/><b>correct</b><pre>----------------------------</pre>\n",
              "                    <p/><p/>\n",
              "                    <div style=\"font-size:10px\"><b>SUBMISSION CODE</b> Lw7TJ9b8KW4vcub58Had6zJ+WJ2vaY3uAPxNRoCbNuD2NXmVLxx4ZT6yvOQ9DeqHNJJqzIICABam5UNSRTsFbeMtuqTXQsq2dHoK4vM292LbTmTZlGlYU2PMPX4KLl0POI2DoOtbBT1e21AoZMN0wJBoTO5txnbbDnilCYF3Dsg=</div>\n",
              "                    "
            ]
          },
          "metadata": {}
        }
      ],
      "source": [
        "student.submit_task(globals(), task_id=\"task_01\");"
      ]
    },
    {
      "cell_type": "markdown",
      "metadata": {
        "id": "sr5M0fnjspmM"
      },
      "source": [
        "## Task 2: Positions of closest vectors\n",
        "\n",
        "complete the following function so that given $v$ and $X$ as previously, returns the positions of the $n$ closest vectors to $v$ in $X$.\n",
        "\n",
        "**hint**: use the [`np.argsort`](https://numpy.org/doc/stable/reference/generated/numpy.argsort.html) function\n",
        "\n",
        "**challenge**: solve it using one line of code\n",
        "\n",
        "for the example $v$ and $X$ above you should get the following outputs\n",
        "\n",
        "    >> closest(v, X, 2)\n",
        "    array([1, 0])\n",
        "\n",
        "    >> closest(v, X, 3)\n",
        "    array([1, 0, 3])\n"
      ]
    },
    {
      "cell_type": "code",
      "execution_count": 10,
      "metadata": {
        "id": "whinP70dspmN"
      },
      "outputs": [],
      "source": [
        "def closest(v, X, n):\n",
        "    assert n<len(X), \"n must at most the number of vectors in X\"\n",
        "    result = np.argsort(np.linalg.norm(X - v, axis=1))[:n]\n",
        "    return result"
      ]
    },
    {
      "cell_type": "markdown",
      "metadata": {
        "id": "DqHpaC4ospmN"
      },
      "source": [
        "check manually your code"
      ]
    },
    {
      "cell_type": "code",
      "execution_count": 11,
      "metadata": {
        "id": "-5mKGHo9spmO",
        "outputId": "4e4aa83f-cf4c-424d-dbd1-80c1c0fac189",
        "colab": {
          "base_uri": "https://localhost:8080/"
        }
      },
      "outputs": [
        {
          "output_type": "stream",
          "name": "stdout",
          "text": [
            "X=\n",
            " [[8 3 2 0 5 8 0 8 2 2]\n",
            " [6 9 1 2 8 5 1 2 0 9]\n",
            " [7 2 6 5 2 0 4 3 2 6]\n",
            " [0 1 3 9 3 7 5 3 4 6]\n",
            " [3 6 2 9 1 7 6 0 7 3]]\n",
            "\n",
            "v= [6 9 1 2 8 5 1 2 0 9] \n",
            "\n",
            "\n",
            "[1 0]\n",
            "[1 0 2]\n"
          ]
        }
      ],
      "source": [
        "X = np.random.randint(10, size=(5,10))\n",
        "v = X[1]\n",
        "print (\"X=\\n\", X)\n",
        "print (\"\\nv=\", v,\"\\n\\n\")\n",
        "print (closest(v, X, 2))\n",
        "print (closest(v, X, 3))"
      ]
    },
    {
      "cell_type": "markdown",
      "metadata": {
        "id": "e6yvwDfcspmP"
      },
      "source": [
        "### observe now how we can use your functions to search for faces similar to any other face"
      ]
    },
    {
      "cell_type": "code",
      "execution_count": 12,
      "metadata": {
        "id": "VoibF7xHspmP",
        "outputId": "42a4f152-dcbf-4ae2-9445-495ac8c0aa29",
        "colab": {
          "base_uri": "https://localhost:8080/",
          "height": 158
        }
      },
      "outputs": [
        {
          "output_type": "stream",
          "name": "stdout",
          "text": [
            "TARGET FACE\n"
          ]
        },
        {
          "output_type": "display_data",
          "data": {
            "text/plain": [
              "<Figure size 100x100 with 1 Axes>"
            ],
            "image/png": "[encoded data removed]"
          },
          "metadata": {}
        }
      ],
      "source": [
        "plt.figure(figsize=(1,1))\n",
        "fi = 314 # np.random.randint(len(faces)) # 314 \n",
        "face = faces[fi]\n",
        "plt.imshow(faces[fi].reshape(19,19), cmap=plt.cm.Greys_r)\n",
        "print (\"TARGET FACE\")"
      ]
    },
    {
      "cell_type": "code",
      "execution_count": 13,
      "metadata": {
        "id": "RJ-VG__LspmQ",
        "outputId": "69ffa268-3cd1-43c5-bcb1-1bef7ece4100",
        "colab": {
          "base_uri": "https://localhost:8080/",
          "height": 203
        }
      },
      "outputs": [
        {
          "output_type": "stream",
          "name": "stdout",
          "text": [
            "SIMILAR FACES\n"
          ]
        },
        {
          "output_type": "display_data",
          "data": {
            "text/plain": [
              "<Figure size 1500x200 with 30 Axes>"
            ],
            "image/png": "[encoded data removed]"
          },
          "metadata": {}
        }
      ],
      "source": [
        "plot_faces(faces[closest(face, faces, 30)])\n",
        "print (\"SIMILAR FACES\")"
      ]
    },
    {
      "cell_type": "markdown",
      "metadata": {
        "id": "b2tzcELVspmQ"
      },
      "source": [
        "But they do not look so similar, this is because we are doing comparison **pixel by pixel**. We will fix this in the next task"
      ]
    },
    {
      "cell_type": "markdown",
      "metadata": {
        "id": "oFZN_LSEspmR"
      },
      "source": [
        "**submit your code**"
      ]
    },
    {
      "cell_type": "code",
      "execution_count": 14,
      "metadata": {
        "scrolled": false,
        "id": "kBXnfa7wspmR",
        "outputId": "b4e00318-6875-4f05-9bad-7dcdac48cecc",
        "colab": {
          "base_uri": "https://localhost:8080/",
          "height": 163
        }
      },
      "outputs": [
        {
          "output_type": "display_data",
          "data": {
            "text/plain": [
              "<IPython.core.display.HTML object>"
            ],
            "text/html": [
              "\n",
              "                    <b>task_02 submitted.</b> <b><font color=\"blue\">your grade is 5</font></b> \n",
              "                    <p/><pre>----- grader message -------</pre><br/>testing with 100 random calls<br/><br/><b>correct</b><pre>----------------------------</pre>\n",
              "                    <p/><p/>\n",
              "                    <div style=\"font-size:10px\"><b>SUBMISSION CODE</b> g0xzT95FLrvJSLoyQk7C9fTd0v0UBOP0rkxtTHcLHewOZGlyo/HL9pWaCLbp4vRiwk4UJv3Zhh6JGSNnZ/hQtbTGMDzpCmeDZRP4pWgoik900R+AfdlJPymj2nxLEgiDaUpvYg5LGauh6+RVszTyGASFzpBuWDpHL+S+RRFf64k=</div>\n",
              "                    "
            ]
          },
          "metadata": {}
        }
      ],
      "source": [
        "student.submit_task(globals(), task_id=\"task_02\");"
      ]
    },
    {
      "cell_type": "markdown",
      "metadata": {
        "id": "VyzMcgjhspmS"
      },
      "source": [
        "## Task 3: Use NMF to find similar faces\n",
        "\n",
        "Make the comparison in the faces space resulting from transforming them using NMF. For this you have to:\n",
        "\n",
        "- create an instance of NMF with `n_components=30, init=\"random\", random_state=0`\n",
        "- fit the instance with $X$\n",
        "- transform $X$\n",
        "- transform $v$\n",
        "- return the positions of closest $n$ vectors in the transformed $X$ to the transformed $v$\n",
        "\n",
        "For the target face above, you should get the following"
      ]
    },
    {
      "cell_type": "code",
      "execution_count": 16,
      "metadata": {
        "id": "m663bgv1spmS",
        "outputId": "29a27637-1fb6-4b56-a4ad-bb4b8348c76d",
        "colab": {
          "base_uri": "https://localhost:8080/",
          "height": 141
        }
      },
      "outputs": [
        {
          "output_type": "execute_result",
          "data": {
            "image/png": "[encoded data removed]",
            "text/plain": [
              "<IPython.core.display.Image object>"
            ]
          },
          "metadata": {},
          "execution_count": 16
        }
      ],
      "source": [
        "from IPython.display import Image\n",
        "Image(filename='local/imgs/similar-images2.png')"
      ]
    },
    {
      "cell_type": "code",
      "execution_count": 17,
      "metadata": {
        "id": "R0TGEOYSspmS"
      },
      "outputs": [],
      "source": [
        "def find_similar(v,X,n):\n",
        "    from sklearn.decomposition import NMF\n",
        "    from numpy import linalg as LA\n",
        "    def distances(vi, Xi):\n",
        "      assert Xi.shape[1] == vi.shape[1], f\"X.shape={Xi.shape}, len(v)={vi.shape}\"\n",
        "      return np.asarray([LA.norm(x-vi) for x in Xi])\n",
        "    def closest(vi, Xi, n):\n",
        "      assert n<len(Xi), f\"n must at most the number of vectors in X. lenX = {len(X)}, n={n}\" \n",
        "      return np.argsort(distances(vi,Xi))[:n]\n",
        "    nmf = NMF(n_components=30, init=\"random\", random_state=0)\n",
        "    nmf.fit(X)\n",
        "    Xt = nmf.transform(X)\n",
        "    vt = nmf.transform(v.reshape(1,-1))\n",
        "    return closest(vt,Xt,n)"
      ]
    },
    {
      "cell_type": "markdown",
      "metadata": {
        "id": "tc8JFke3spmT"
      },
      "source": [
        "check manually your answer"
      ]
    },
    {
      "cell_type": "code",
      "execution_count": 18,
      "metadata": {
        "id": "HkFoy7LXspmT",
        "colab": {
          "base_uri": "https://localhost:8080/",
          "height": 221
        },
        "outputId": "1cda8ebc-5a38-461c-f09d-3de4284ad17b"
      },
      "outputs": [
        {
          "output_type": "stream",
          "name": "stderr",
          "text": [
            "/usr/local/lib/python3.10/dist-packages/sklearn/decomposition/_nmf.py:1665: ConvergenceWarning: Maximum number of iterations 200 reached. Increase it to improve convergence.\n",
            "  warnings.warn(\n"
          ]
        },
        {
          "output_type": "display_data",
          "data": {
            "text/plain": [
              "<Figure size 1500x200 with 30 Axes>"
            ],
            "image/png": "[encoded data removed]"
          },
          "metadata": {}
        }
      ],
      "source": [
        "plot_faces(faces[find_similar(face, faces, 30)])"
      ]
    },
    {
      "cell_type": "markdown",
      "metadata": {
        "id": "kl8uH-RAspmX"
      },
      "source": [
        "**submit your code**"
      ]
    },
    {
      "cell_type": "code",
      "execution_count": 19,
      "metadata": {
        "scrolled": false,
        "id": "WluxZBeispmX",
        "colab": {
          "base_uri": "https://localhost:8080/",
          "height": 163
        },
        "outputId": "163c7430-0c76-4af2-f7d2-cf99886092d6"
      },
      "outputs": [
        {
          "output_type": "display_data",
          "data": {
            "text/plain": [
              "<IPython.core.display.HTML object>"
            ],
            "text/html": [
              "\n",
              "                    <b>task_03 submitted.</b> <b><font color=\"blue\">your grade is 5</font></b> \n",
              "                    <p/><pre>----- grader message -------</pre><br/>testing with 100 random calls<br/><br/><b>correct</b><pre>----------------------------</pre>\n",
              "                    <p/><p/>\n",
              "                    <div style=\"font-size:10px\"><b>SUBMISSION CODE</b> KP1/VVkNDzjm96dfNg+ZFeNb/Lk9PiWPgnIp+adTc6OkikTKKFj38reKswcsWHCqHladm5wtTxZaJ80FrLUoGYh9MRwCfu9wvNas2Co6rau7ra0TC7rgCmYDqex+qVoumCVDNIJt7VNE+epGBx9ENKvHcmH9H74jB8bUeoBbNLU=</div>\n",
              "                    "
            ]
          },
          "metadata": {}
        }
      ],
      "source": [
        "student.submit_task(globals(), task_id=\"task_03\");"
      ]
    }
  ],
  "metadata": {
    "kernelspec": {
      "display_name": "Python 3",
      "language": "python",
      "name": "python3"
    },
    "language_info": {
      "codemirror_mode": {
        "name": "ipython",
        "version": 3
      },
      "file_extension": ".py",
      "mimetype": "text/x-python",
      "name": "python",
      "nbconvert_exporter": "python",
      "pygments_lexer": "ipython3",
      "version": "3.7.3"
    },
    "colab": {
      "provenance": []
    },
    "widgets": {
      "application/vnd.jupyter.widget-state+json": {
        "0c7bdd45135746fa9c87dc32afe21568": {
          "model_module": "@jupyter-widgets/controls",
          "model_name": "HBoxModel",
          "model_module_version": "1.5.0",
          "state": {
            "_dom_classes": [],
            "_model_module": "@jupyter-widgets/controls",
            "_model_module_version": "1.5.0",
            "_model_name": "HBoxModel",
            "_view_count": null,
            "_view_module": "@jupyter-widgets/controls",
            "_view_module_version": "1.5.0",
            "_view_name": "HBoxView",
            "box_style": "",
            "children": [
              "IPY_MODEL_f29fad281ee44f56ae52040abb7c99fe",
              "IPY_MODEL_3b94c6ee5d3b4618ba06cf58599f7968",
              "IPY_MODEL_403ce886160d483f8d8a7194d474aa96",
              "IPY_MODEL_6eaeef24c9a148359ba8c60bae15ee7b"
            ],
            "layout": "IPY_MODEL_98dea6dbb5ba4642a9fd464a05150cda"
          }
        },
        "f29fad281ee44f56ae52040abb7c99fe": {
          "model_module": "@jupyter-widgets/controls",
          "model_name": "VBoxModel",
          "model_module_version": "1.5.0",
          "state": {
            "_dom_classes": [],
            "_model_module": "@jupyter-widgets/controls",
            "_model_module_version": "1.5.0",
            "_model_name": "VBoxModel",
            "_view_count": null,
            "_view_module": "@jupyter-widgets/controls",
            "_view_module_version": "1.5.0",
            "_view_name": "VBoxView",
            "box_style": "",
            "children": [
              "IPY_MODEL_88cdaea0272949b7bb615619be2da4b1",
              "IPY_MODEL_66e4da959a5e4a02981b8324137ecdc0"
            ],
            "layout": "IPY_MODEL_574b649f287f4a4eb2c7af3ed2c3cb93"
          }
        },
        "3b94c6ee5d3b4618ba06cf58599f7968": {
          "model_module": "@jupyter-widgets/controls",
          "model_name": "ButtonModel",
          "model_module_version": "1.5.0",
          "state": {
            "_dom_classes": [
              "login_button"
            ],
            "_model_module": "@jupyter-widgets/controls",
            "_model_module_version": "1.5.0",
            "_model_name": "ButtonModel",
            "_view_count": null,
            "_view_module": "@jupyter-widgets/controls",
            "_view_module_version": "1.5.0",
            "_view_name": "ButtonView",
            "button_style": "",
            "description": "Login with email",
            "disabled": false,
            "icon": "",
            "layout": "IPY_MODEL_1adc69dabb324701a0d6013a5b5fa375",
            "style": "IPY_MODEL_49d445e80d56409e82a1265a9b27fadb",
            "tooltip": ""
          }
        },
        "403ce886160d483f8d8a7194d474aa96": {
          "model_module": "@jupyter-widgets/controls",
          "model_name": "HTMLModel",
          "model_module_version": "1.5.0",
          "state": {
            "_dom_classes": [],
            "_model_module": "@jupyter-widgets/controls",
            "_model_module_version": "1.5.0",
            "_model_name": "HTMLModel",
            "_view_count": null,
            "_view_module": "@jupyter-widgets/controls",
            "_view_module_version": "1.5.0",
            "_view_name": "HTMLView",
            "description": "",
            "description_tooltip": null,
            "layout": "IPY_MODEL_cfd904ce8c4e4e96afe7c1e068c7802f",
            "placeholder": "​",
            "style": "IPY_MODEL_1f3919bd0a3b467789aee536c439636f",
            "value": "<center><big>or</big></center>"
          }
        },
        "6eaeef24c9a148359ba8c60bae15ee7b": {
          "model_module": "@jupyter-widgets/controls",
          "model_name": "ButtonModel",
          "model_module_version": "1.5.0",
          "state": {
            "_dom_classes": [
              "google_button"
            ],
            "_model_module": "@jupyter-widgets/controls",
            "_model_module_version": "1.5.0",
            "_model_name": "ButtonModel",
            "_view_count": null,
            "_view_module": "@jupyter-widgets/controls",
            "_view_module_version": "1.5.0",
            "_view_name": "ButtonView",
            "button_style": "",
            "description": "Login with Google",
            "disabled": false,
            "icon": "",
            "layout": "IPY_MODEL_551bef7b7e93488189b216762e29de32",
            "style": "IPY_MODEL_8f89e27a02ba43538ca4335bcfda687f",
            "tooltip": ""
          }
        },
        "98dea6dbb5ba4642a9fd464a05150cda": {
          "model_module": "@jupyter-widgets/base",
          "model_name": "LayoutModel",
          "model_module_version": "1.2.0",
          "state": {
            "_model_module": "@jupyter-widgets/base",
            "_model_module_version": "1.2.0",
            "_model_name": "LayoutModel",
            "_view_count": null,
            "_view_module": "@jupyter-widgets/base",
            "_view_module_version": "1.2.0",
            "_view_name": "LayoutView",
            "align_content": null,
            "align_items": null,
            "align_self": null,
            "border": null,
            "bottom": null,
            "display": null,
            "flex": null,
            "flex_flow": null,
            "grid_area": null,
            "grid_auto_columns": null,
            "grid_auto_flow": null,
            "grid_auto_rows": null,
            "grid_column": null,
            "grid_gap": null,
            "grid_row": null,
            "grid_template_areas": null,
            "grid_template_columns": null,
            "grid_template_rows": null,
            "height": null,
            "justify_content": null,
            "justify_items": null,
            "left": null,
            "margin": null,
            "max_height": null,
            "max_width": null,
            "min_height": null,
            "min_width": null,
            "object_fit": null,
            "object_position": null,
            "order": null,
            "overflow": null,
            "overflow_x": null,
            "overflow_y": null,
            "padding": null,
            "right": null,
            "top": null,
            "visibility": null,
            "width": null
          }
        },
        "88cdaea0272949b7bb615619be2da4b1": {
          "model_module": "@jupyter-widgets/controls",
          "model_name": "TextModel",
          "model_module_version": "1.5.0",
          "state": {
            "_dom_classes": [],
            "_model_module": "@jupyter-widgets/controls",
            "_model_module_version": "1.5.0",
            "_model_name": "TextModel",
            "_view_count": null,
            "_view_module": "@jupyter-widgets/controls",
            "_view_module_version": "1.5.0",
            "_view_name": "TextView",
            "continuous_update": true,
            "description": "email",
            "description_tooltip": null,
            "disabled": false,
            "layout": "IPY_MODEL_b414f3c1cc044efebe0e1f21838382e0",
            "placeholder": "​",
            "style": "IPY_MODEL_4fe268217c58493089dd399cc0476d41",
            "value": ""
          }
        },
        "66e4da959a5e4a02981b8324137ecdc0": {
          "model_module": "@jupyter-widgets/controls",
          "model_name": "PasswordModel",
          "model_module_version": "1.5.0",
          "state": {
            "_dom_classes": [],
            "_model_module": "@jupyter-widgets/controls",
            "_model_module_version": "1.5.0",
            "_model_name": "PasswordModel",
            "_view_count": null,
            "_view_module": "@jupyter-widgets/controls",
            "_view_module_version": "1.5.0",
            "_view_name": "PasswordView",
            "continuous_update": true,
            "description": "password",
            "description_tooltip": null,
            "disabled": false,
            "layout": "IPY_MODEL_b5300c4437554717b3b01c97a33bc7ac",
            "placeholder": "​",
            "style": "IPY_MODEL_02984167eb2c4447a418d07fc11bc8eb",
            "value": ""
          }
        },
        "574b649f287f4a4eb2c7af3ed2c3cb93": {
          "model_module": "@jupyter-widgets/base",
          "model_name": "LayoutModel",
          "model_module_version": "1.2.0",
          "state": {
            "_model_module": "@jupyter-widgets/base",
            "_model_module_version": "1.2.0",
            "_model_name": "LayoutModel",
            "_view_count": null,
            "_view_module": "@jupyter-widgets/base",
            "_view_module_version": "1.2.0",
            "_view_name": "LayoutView",
            "align_content": null,
            "align_items": null,
            "align_self": null,
            "border": null,
            "bottom": null,
            "display": null,
            "flex": null,
            "flex_flow": null,
            "grid_area": null,
            "grid_auto_columns": null,
            "grid_auto_flow": null,
            "grid_auto_rows": null,
            "grid_column": null,
            "grid_gap": null,
            "grid_row": null,
            "grid_template_areas": null,
            "grid_template_columns": null,
            "grid_template_rows": null,
            "height": null,
            "justify_content": null,
            "justify_items": null,
            "left": null,
            "margin": null,
            "max_height": null,
            "max_width": null,
            "min_height": null,
            "min_width": null,
            "object_fit": null,
            "object_position": null,
            "order": null,
            "overflow": null,
            "overflow_x": null,
            "overflow_y": null,
            "padding": null,
            "right": null,
            "top": null,
            "visibility": null,
            "width": null
          }
        },
        "1adc69dabb324701a0d6013a5b5fa375": {
          "model_module": "@jupyter-widgets/base",
          "model_name": "LayoutModel",
          "model_module_version": "1.2.0",
          "state": {
            "_model_module": "@jupyter-widgets/base",
            "_model_module_version": "1.2.0",
            "_model_name": "LayoutModel",
            "_view_count": null,
            "_view_module": "@jupyter-widgets/base",
            "_view_module_version": "1.2.0",
            "_view_name": "LayoutView",
            "align_content": null,
            "align_items": null,
            "align_self": null,
            "border": null,
            "bottom": null,
            "display": null,
            "flex": null,
            "flex_flow": null,
            "grid_area": null,
            "grid_auto_columns": null,
            "grid_auto_flow": null,
            "grid_auto_rows": null,
            "grid_column": null,
            "grid_gap": null,
            "grid_row": null,
            "grid_template_areas": null,
            "grid_template_columns": null,
            "grid_template_rows": null,
            "height": "53px",
            "justify_content": null,
            "justify_items": null,
            "left": null,
            "margin": null,
            "max_height": null,
            "max_width": null,
            "min_height": null,
            "min_width": null,
            "object_fit": null,
            "object_position": null,
            "order": null,
            "overflow": null,
            "overflow_x": null,
            "overflow_y": null,
            "padding": null,
            "right": null,
            "top": null,
            "visibility": null,
            "width": "150px"
          }
        },
        "49d445e80d56409e82a1265a9b27fadb": {
          "model_module": "@jupyter-widgets/controls",
          "model_name": "ButtonStyleModel",
          "model_module_version": "1.5.0",
          "state": {
            "_model_module": "@jupyter-widgets/controls",
            "_model_module_version": "1.5.0",
            "_model_name": "ButtonStyleModel",
            "_view_count": null,
            "_view_module": "@jupyter-widgets/base",
            "_view_module_version": "1.2.0",
            "_view_name": "StyleView",
            "button_color": null,
            "font_weight": ""
          }
        },
        "cfd904ce8c4e4e96afe7c1e068c7802f": {
          "model_module": "@jupyter-widgets/base",
          "model_name": "LayoutModel",
          "model_module_version": "1.2.0",
          "state": {
            "_model_module": "@jupyter-widgets/base",
            "_model_module_version": "1.2.0",
            "_model_name": "LayoutModel",
            "_view_count": null,
            "_view_module": "@jupyter-widgets/base",
            "_view_module_version": "1.2.0",
            "_view_name": "LayoutView",
            "align_content": null,
            "align_items": null,
            "align_self": null,
            "border": null,
            "bottom": null,
            "display": null,
            "flex": null,
            "flex_flow": null,
            "grid_area": null,
            "grid_auto_columns": null,
            "grid_auto_flow": null,
            "grid_auto_rows": null,
            "grid_column": null,
            "grid_gap": null,
            "grid_row": null,
            "grid_template_areas": null,
            "grid_template_columns": null,
            "grid_template_rows": null,
            "height": null,
            "justify_content": null,
            "justify_items": null,
            "left": null,
            "margin": null,
            "max_height": null,
            "max_width": null,
            "min_height": null,
            "min_width": null,
            "object_fit": null,
            "object_position": null,
            "order": null,
            "overflow": null,
            "overflow_x": null,
            "overflow_y": null,
            "padding": null,
            "right": null,
            "top": null,
            "visibility": null,
            "width": "100px"
          }
        },
        "1f3919bd0a3b467789aee536c439636f": {
          "model_module": "@jupyter-widgets/controls",
          "model_name": "DescriptionStyleModel",
          "model_module_version": "1.5.0",
          "state": {
            "_model_module": "@jupyter-widgets/controls",
            "_model_module_version": "1.5.0",
            "_model_name": "DescriptionStyleModel",
            "_view_count": null,
            "_view_module": "@jupyter-widgets/base",
            "_view_module_version": "1.2.0",
            "_view_name": "StyleView",
            "description_width": ""
          }
        },
        "551bef7b7e93488189b216762e29de32": {
          "model_module": "@jupyter-widgets/base",
          "model_name": "LayoutModel",
          "model_module_version": "1.2.0",
          "state": {
            "_model_module": "@jupyter-widgets/base",
            "_model_module_version": "1.2.0",
            "_model_name": "LayoutModel",
            "_view_count": null,
            "_view_module": "@jupyter-widgets/base",
            "_view_module_version": "1.2.0",
            "_view_name": "LayoutView",
            "align_content": null,
            "align_items": null,
            "align_self": null,
            "border": null,
            "bottom": null,
            "display": null,
            "flex": null,
            "flex_flow": null,
            "grid_area": null,
            "grid_auto_columns": null,
            "grid_auto_flow": null,
            "grid_auto_rows": null,
            "grid_column": null,
            "grid_gap": null,
            "grid_row": null,
            "grid_template_areas": null,
            "grid_template_columns": null,
            "grid_template_rows": null,
            "height": "53px",
            "justify_content": null,
            "justify_items": null,
            "left": null,
            "margin": null,
            "max_height": null,
            "max_width": null,
            "min_height": null,
            "min_width": null,
            "object_fit": null,
            "object_position": null,
            "order": null,
            "overflow": null,
            "overflow_x": null,
            "overflow_y": null,
            "padding": null,
            "right": null,
            "top": null,
            "visibility": null,
            "width": "200px"
          }
        },
        "8f89e27a02ba43538ca4335bcfda687f": {
          "model_module": "@jupyter-widgets/controls",
          "model_name": "ButtonStyleModel",
          "model_module_version": "1.5.0",
          "state": {
            "_model_module": "@jupyter-widgets/controls",
            "_model_module_version": "1.5.0",
            "_model_name": "ButtonStyleModel",
            "_view_count": null,
            "_view_module": "@jupyter-widgets/base",
            "_view_module_version": "1.2.0",
            "_view_name": "StyleView",
            "button_color": null,
            "font_weight": ""
          }
        },
        "b414f3c1cc044efebe0e1f21838382e0": {
          "model_module": "@jupyter-widgets/base",
          "model_name": "LayoutModel",
          "model_module_version": "1.2.0",
          "state": {
            "_model_module": "@jupyter-widgets/base",
            "_model_module_version": "1.2.0",
            "_model_name": "LayoutModel",
            "_view_count": null,
            "_view_module": "@jupyter-widgets/base",
            "_view_module_version": "1.2.0",
            "_view_name": "LayoutView",
            "align_content": null,
            "align_items": null,
            "align_self": null,
            "border": null,
            "bottom": null,
            "display": null,
            "flex": null,
            "flex_flow": null,
            "grid_area": null,
            "grid_auto_columns": null,
            "grid_auto_flow": null,
            "grid_auto_rows": null,
            "grid_column": null,
            "grid_gap": null,
            "grid_row": null,
            "grid_template_areas": null,
            "grid_template_columns": null,
            "grid_template_rows": null,
            "height": "25px",
            "justify_content": null,
            "justify_items": null,
            "left": null,
            "margin": null,
            "max_height": null,
            "max_width": null,
            "min_height": null,
            "min_width": null,
            "object_fit": null,
            "object_position": null,
            "order": null,
            "overflow": null,
            "overflow_x": null,
            "overflow_y": null,
            "padding": null,
            "right": null,
            "top": null,
            "visibility": null,
            "width": "300px"
          }
        },
        "4fe268217c58493089dd399cc0476d41": {
          "model_module": "@jupyter-widgets/controls",
          "model_name": "DescriptionStyleModel",
          "model_module_version": "1.5.0",
          "state": {
            "_model_module": "@jupyter-widgets/controls",
            "_model_module_version": "1.5.0",
            "_model_name": "DescriptionStyleModel",
            "_view_count": null,
            "_view_module": "@jupyter-widgets/base",
            "_view_module_version": "1.2.0",
            "_view_name": "StyleView",
            "description_width": ""
          }
        },
        "b5300c4437554717b3b01c97a33bc7ac": {
          "model_module": "@jupyter-widgets/base",
          "model_name": "LayoutModel",
          "model_module_version": "1.2.0",
          "state": {
            "_model_module": "@jupyter-widgets/base",
            "_model_module_version": "1.2.0",
            "_model_name": "LayoutModel",
            "_view_count": null,
            "_view_module": "@jupyter-widgets/base",
            "_view_module_version": "1.2.0",
            "_view_name": "LayoutView",
            "align_content": null,
            "align_items": null,
            "align_self": null,
            "border": null,
            "bottom": null,
            "display": null,
            "flex": null,
            "flex_flow": null,
            "grid_area": null,
            "grid_auto_columns": null,
            "grid_auto_flow": null,
            "grid_auto_rows": null,
            "grid_column": null,
            "grid_gap": null,
            "grid_row": null,
            "grid_template_areas": null,
            "grid_template_columns": null,
            "grid_template_rows": null,
            "height": "24px",
            "justify_content": null,
            "justify_items": null,
            "left": null,
            "margin": null,
            "max_height": null,
            "max_width": null,
            "min_height": null,
            "min_width": null,
            "object_fit": null,
            "object_position": null,
            "order": null,
            "overflow": null,
            "overflow_x": null,
            "overflow_y": null,
            "padding": null,
            "right": null,
            "top": null,
            "visibility": null,
            "width": "300px"
          }
        },
        "02984167eb2c4447a418d07fc11bc8eb": {
          "model_module": "@jupyter-widgets/controls",
          "model_name": "DescriptionStyleModel",
          "model_module_version": "1.5.0",
          "state": {
            "_model_module": "@jupyter-widgets/controls",
            "_model_module_version": "1.5.0",
            "_model_name": "DescriptionStyleModel",
            "_view_count": null,
            "_view_module": "@jupyter-widgets/base",
            "_view_module_version": "1.2.0",
            "_view_name": "StyleView",
            "description_width": ""
          }
        }
      }
    }
  },
  "nbformat": 4,
  "nbformat_minor": 0
}
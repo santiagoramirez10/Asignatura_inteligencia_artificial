{
 "cells": [
  {
   "cell_type": "markdown",
   "metadata": {},
   "source": [
    "# LAB 02.02 - Numpy"
   ]
  },
  {
   "cell_type": "code",
   "execution_count": 3,
   "metadata": {},
   "outputs": [],
   "source": [
    "!wget --no-cache -O init.py -q https://raw.githubusercontent.com/rramosp/ai4eng.v1/main/content/init.py\n",
    "import init; init.init(force_download=False); init.get_weblink()\n"
   ]
  },
  {
   "cell_type": "code",
   "execution_count": 4,
   "metadata": {},
   "outputs": [],
   "source": [
    "from local.lib.rlxmoocapi import submit, session\n",
    "session.LoginSequence(endpoint=init.endpoint, course_id=init.course_id, lab_id=\"L02.02\", varname=\"student\");"
   ]
  },
  {
   "cell_type": "code",
   "execution_count": 6,
   "metadata": {},
   "outputs": [],
   "source": [
    "import numpy as np"
   ]
  },
  {
   "cell_type": "markdown",
   "metadata": {},
   "source": [
    "## Task 1: Cauchy Matrix\n",
    "\n",
    "\n",
    "Given two vectors (1D `numpy` arrays), $x$ and $y$, build the Cauchy Matrix:\n",
    "\n",
    "\n",
    "$$C_{ij}=\\:\\: \\frac{1}{x_i-y_j}$$\n",
    "\n",
    "See https://en.wikipedia.org/wiki/Cauchy_matrix, the elements of the matrix are the results of substracting the correpsonding positions in the $x$ and $y$ vectors where the rows correspond to $x$ and the columns to $y$.\n",
    "\n",
    "**NOTE**: if there is any division by zero, you must raise a `ValueError` exception.\n",
    "\n",
    "**HINT**: create a matrix with zeros with the desired output shape, use broadcasting of $x$ as row vector, and then broadcasting of $y$ as column vector with `reshape(-1,1)`\n",
    "\n",
    "**CHALLENGE**: build a function with maximum four lines of code, including checking for zeros and raising the exception.\n",
    "\n",
    "**Execution example**\n",
    "\n",
    "```python\n",
    ">> x = np.array([45, 31, 67, 75, 54])\n",
    ">> y = np.array([17,  7, 15, 15, 18])\n",
    ">> cauchy(c,y)\n",
    "array([[0.03571429, 0.02631579, 0.03333333, 0.03333333, 0.03703704],\n",
    "       [0.07142857, 0.04166667, 0.0625    , 0.0625    , 0.07692308],\n",
    "       [0.02      , 0.01666667, 0.01923077, 0.01923077, 0.02040816],\n",
    "       [0.01724138, 0.01470588, 0.01666667, 0.01666667, 0.01754386],\n",
    "       [0.02702703, 0.0212766 , 0.02564103, 0.02564103, 0.02777778]])\n",
    "```"
   ]
  },
  {
   "cell_type": "code",
   "execution_count": 1,
   "metadata": {},
   "outputs": [
    {
     "ename": "ModuleNotFoundError",
     "evalue": "No module named 'numpy'",
     "output_type": "error",
     "traceback": [
      "\u001b[1;31m---------------------------------------------------------------------------\u001b[0m",
      "\u001b[1;31mModuleNotFoundError\u001b[0m                       Traceback (most recent call last)",
      "\u001b[1;32mc:\\Users\\ASUS\\Documents\\GitHub\\Asignatura_inteligencia_artificial\\LAB 02.02 - NUMPY.ipynb Celda 6\u001b[0m in \u001b[0;36m<cell line: 1>\u001b[1;34m()\u001b[0m\n\u001b[1;32m----> <a href='vscode-notebook-cell:/c%3A/Users/ASUS/Documents/GitHub/Asignatura_inteligencia_artificial/LAB%2002.02%20-%20NUMPY.ipynb#W5sZmlsZQ%3D%3D?line=0'>1</a>\u001b[0m \u001b[39mimport\u001b[39;00m \u001b[39mnumpy\u001b[39;00m \u001b[39mas\u001b[39;00m \u001b[39mnp\u001b[39;00m\n\u001b[0;32m      <a href='vscode-notebook-cell:/c%3A/Users/ASUS/Documents/GitHub/Asignatura_inteligencia_artificial/LAB%2002.02%20-%20NUMPY.ipynb#W5sZmlsZQ%3D%3D?line=1'>2</a>\u001b[0m \u001b[39mdef\u001b[39;00m \u001b[39mcauchy\u001b[39m(vector_1,vector_2):\n\u001b[0;32m      <a href='vscode-notebook-cell:/c%3A/Users/ASUS/Documents/GitHub/Asignatura_inteligencia_artificial/LAB%2002.02%20-%20NUMPY.ipynb#W5sZmlsZQ%3D%3D?line=2'>3</a>\u001b[0m   matriz_cauchy\u001b[39m=\u001b[39m\u001b[39m1\u001b[39m\u001b[39m/\u001b[39m(vector_1\u001b[39m.\u001b[39mreshape((\u001b[39m-\u001b[39m\u001b[39m1\u001b[39m,\u001b[39m1\u001b[39m))\u001b[39m-\u001b[39mvector_2)\n",
      "\u001b[1;31mModuleNotFoundError\u001b[0m: No module named 'numpy'"
     ]
    }
   ],
   "source": [
    "def cauchy(vector_1,vector_2):\n",
    "  matriz_cauchy=1/(vector_1.reshape((-1,1))-vector_2)\n",
    "  if np.any(np.isinf(matriz_cauchy))==False:return(matriz_cauchy)\n",
    "  else: raise(ValueError)\n",
    "  return (matriz_cauchy)"
   ]
  },
  {
   "cell_type": "markdown",
   "metadata": {},
   "source": [
    "**check your code manually**"
   ]
  },
  {
   "cell_type": "code",
   "execution_count": 7,
   "metadata": {},
   "outputs": [],
   "source": [
    "x = np.array([45, 31, 67, 75, 54])\n",
    "y = np.array([17,  7, 15, 15, 18])\n",
    "cauchy(x,y)"
   ]
  },
  {
   "cell_type": "markdown",
   "metadata": {},
   "source": [
    "this execution should raise a `ValueError` exception"
   ]
  },
  {
   "cell_type": "code",
   "execution_count": 8,
   "metadata": {},
   "outputs": [],
   "source": [
    "x = np.array([45, 31, 67, 75, 54])\n",
    "y = np.array([17,  7, 15, 75, 18])"
   ]
  },
  {
   "cell_type": "markdown",
   "metadata": {},
   "source": [
    "**submit your code**"
   ]
  },
  {
   "cell_type": "code",
   "execution_count": 17,
   "metadata": {
    "scrolled": true
   },
   "outputs": [],
   "source": [
    "student.submit_task(globals(), task_id=\"task_01\");"
   ]
  },
  {
   "cell_type": "markdown",
   "metadata": {},
   "source": [
    "## Task 2: Position of closest scalar\n",
    "\n",
    "Given a 1D vector $x$, find the position of the closest element to $v$\n",
    "\n",
    "\n",
    "**Execution example**:\n",
    "\n",
    "```python\n",
    ">> x=np.arange(25,55,3)\n",
    ">> minimo(x,34)\n",
    "3\n",
    "```\n",
    "\n",
    "**HINT**: use [`np.argmin`](https://docs.scipy.org/doc/numpy/reference/generated/numpy.argmin.html)\n",
    "\n",
    "**CHALLENGE**: solve it with one line of code"
   ]
  },
  {
   "cell_type": "code",
   "execution_count": 76,
   "metadata": {},
   "outputs": [],
   "source": [
    "def minimo(vector,valor):\n",
    "  array=np.asarray(vector)\n",
    "  posicion=(np.abs(array-valor)).argmin() \n",
    "  return(posicion)"
   ]
  },
  {
   "cell_type": "markdown",
   "metadata": {},
   "source": [
    "**check manually your code**"
   ]
  },
  {
   "cell_type": "code",
   "execution_count": 20,
   "metadata": {},
   "outputs": [],
   "source": [
    "x = np.arange(25,55,3)\n",
    "v = 34\n",
    "minimo(x,v)"
   ]
  },
  {
   "cell_type": "markdown",
   "metadata": {},
   "source": [
    "**submit your code**"
   ]
  },
  {
   "cell_type": "code",
   "execution_count": 27,
   "metadata": {
    "scrolled": true
   },
   "outputs": [],
   "source": [
    "student.submit_task(globals(), task_id=\"task_02\");"
   ]
  },
  {
   "cell_type": "markdown",
   "metadata": {},
   "source": [
    "## Task 3: Substracting row mean\n",
    "\n",
    "Given a matrix, your function must return a new one with the same dimensions in which each component is substracted the mean of its own row.\n",
    "\n",
    "\n",
    "**Execution example**\n",
    "```python\n",
    ">> X = np.array([[1, 2, 3], [4, 5, 6],[7,8,9]])\n",
    ">> media(X)\n",
    "array([[-1.,  0.,  1.],\n",
    "       [-1.,  0.,  1.],\n",
    "       [-1.,  0.,  1.]])\n",
    "```\n",
    "\n",
    "**HINT**: use broadcasting\n",
    "\n",
    "**CHALLENGE**: solve it with one line of code"
   ]
  },
  {
   "cell_type": "code",
   "execution_count": null,
   "metadata": {},
   "outputs": [],
   "source": [
    "import numpy as np\n",
    "def media(matriz):\n",
    "  matriz=np.array((matriz),dtype=float)\n",
    "  for filas in range(len(matriz)):\n",
    "    media=sum(matriz[filas])/len(matriz[filas])\n",
    "    for columnas in range(len(matriz[filas])):\n",
    "      matriz[filas][columnas]=(matriz[filas][columnas])-media\n",
    "  return(matriz)"
   ]
  },
  {
   "cell_type": "markdown",
   "metadata": {},
   "source": [
    "**check your code manually**"
   ]
  },
  {
   "cell_type": "code",
   "execution_count": null,
   "metadata": {},
   "outputs": [],
   "source": [
    "X = np.array([[1, 2, 3], [4, 5, 6],[7,8,9]])\n",
    "media(X)"
   ]
  },
  {
   "cell_type": "markdown",
   "metadata": {},
   "source": [
    "**submit your code**"
   ]
  },
  {
   "cell_type": "code",
   "execution_count": 32,
   "metadata": {
    "scrolled": false
   },
   "outputs": [],
   "source": [
    "student.submit_task(globals(), task_id=\"task_03\");"
   ]
  },
  {
   "cell_type": "markdown",
   "metadata": {},
   "source": [
    "## Task 4: Double the diagonal\n",
    "\n",
    "Complete the following function such that it returns the same matrix received in $X$ but with its diagonal multiplied by 2. Assume $X$ is a square matrix (with the same number of rows and columns).\n",
    "\n",
    "**Execution example**\n",
    "\n",
    "```python\n",
    ">> X = np.array([[79, 45, 67,  8, 37],\n",
    ">>               [47, 40,  5, 79, 86],\n",
    ">>               [72, 25, 44, 45, 22],\n",
    ">>               [12, 85,  8, 53, 28],\n",
    ">>               [ 4, 37, 36, 40, 16]])\n",
    ">> \n",
    ">> doublediag(X)\n",
    "\n",
    "array([[158.,  45.,  67.,   8.,  37.],\n",
    "       [ 47.,  80.,   5.,  79.,  86.],\n",
    "       [ 72.,  25.,  88.,  45.,  22.],\n",
    "       [ 12.,  85.,   8., 106.,  28.],\n",
    "       [  4.,  37.,  36.,  40.,  32.]])\n",
    "```\n",
    "\n",
    "**HINT**: use [`np.eye`](https://docs.scipy.org/doc/numpy/reference/generated/numpy.eye.html)\n",
    "\n",
    "**CHALLENGE**: solve with one line of code"
   ]
  },
  {
   "cell_type": "code",
   "execution_count": 157,
   "metadata": {},
   "outputs": [],
   "source": [
    "import numpy as np\n",
    "def doublediag(matriz):\n",
    "  matriz=np.array((matriz),dtype=float)\n",
    "  for i in range(len(matriz)):\n",
    "    matriz[i][i]=2*(matriz[i][i])\n",
    "  return(matriz)"
   ]
  },
  {
   "cell_type": "markdown",
   "metadata": {},
   "source": [
    "**check manually your code**"
   ]
  },
  {
   "cell_type": "code",
   "execution_count": 160,
   "metadata": {},
   "outputs": [],
   "source": [
    "X = np.array([[79, 45, 67,  8, 37],\n",
    "              [47, 40,  5, 79, 86],\n",
    "              [72, 25, 44, 45, 22],\n",
    "              [12, 85,  8, 53, 28],\n",
    "              [ 4, 37, 36, 40, 16]])\n",
    "doublediag(X)"
   ]
  },
  {
   "cell_type": "markdown",
   "metadata": {},
   "source": [
    "**submit your code**"
   ]
  },
  {
   "cell_type": "code",
   "execution_count": 37,
   "metadata": {
    "scrolled": true
   },
   "outputs": [],
   "source": [
    "student.submit_task(globals(), task_id=\"task_04\");"
   ]
  }
 ],
 "metadata": {
  "kernelspec": {
   "display_name": "Python 3",
   "language": "python",
   "name": "python3"
  },
  "language_info": {
   "codemirror_mode": {
    "name": "ipython",
    "version": 3
   },
   "file_extension": ".py",
   "mimetype": "text/x-python",
   "name": "python",
   "nbconvert_exporter": "python",
   "pygments_lexer": "ipython3",
   "version": "3.10.10"
  },
  "vscode": {
   "interpreter": {
    "hash": "65a440aeac0c89e2af7569e0aa53b64434c4b69eb6285e2b0d174d9bca190d54"
   }
  }
 },
 "nbformat": 4,
 "nbformat_minor": 2
}

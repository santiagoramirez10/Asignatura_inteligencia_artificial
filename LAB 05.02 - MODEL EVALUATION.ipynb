{
  "cells": [
    {
      "cell_type": "markdown",
      "metadata": {
        "id": "sBeuXKPePrSX"
      },
      "source": [
        "# LAB 05.02 - Model evaluation"
      ]
    },
    {
      "cell_type": "code",
      "execution_count": 1,
      "metadata": {
        "colab": {
          "base_uri": "https://localhost:8080/",
          "height": 75
        },
        "id": "fJjTGtOLPrSZ",
        "outputId": "9474c024-299e-43d6-8e91-35472aa2623a"
      },
      "outputs": [
        {
          "output_type": "display_data",
          "data": {
            "text/plain": [
              "<IPython.core.display.HTML object>"
            ],
            "text/html": [
              "\n",
              "<meta name=\"google-signin-client_id\"\n",
              "      content=\"461673936472-kdjosv61up3ac1ajeuq6qqu72upilmls.apps.googleusercontent.com\"/>\n",
              "<script src=\"https://apis.google.com/js/client:platform.js?onload=google_button_start\"></script>\n",
              "    "
            ]
          },
          "metadata": {}
        },
        {
          "output_type": "stream",
          "name": "stdout",
          "text": [
            "replicating local resources\n"
          ]
        },
        {
          "output_type": "execute_result",
          "data": {
            "text/plain": [
              "<IPython.core.display.HTML object>"
            ],
            "text/html": [
              "<h3>See <a href='https://m5knaekxo6.execute-api.us-west-2.amazonaws.com/dev-v0001/rlxmooc/web/login' target='_blank'>my courses and progress</a></h2>"
            ]
          },
          "metadata": {},
          "execution_count": 1
        }
      ],
      "source": [
        "!wget --no-cache -O init.py -q https://raw.githubusercontent.com/rramosp/ai4eng.v1/main/content/init.py\n",
        "import init; init.init(force_download=False); init.get_weblink()"
      ]
    },
    {
      "cell_type": "code",
      "execution_count": 2,
      "metadata": {
        "colab": {
          "base_uri": "https://localhost:8080/",
          "height": 135,
          "referenced_widgets": [
            "83be2da45cce4d348f595b1783250427",
            "c04a2e8d6e434f428b8d2a14edd10618",
            "e5dd85fbd0e6436cb21a340a317ec609",
            "ba148127b64643fa8bf5548d96ca9006",
            "c221b075131d49c6badc7f248a11499d",
            "a0e7b6daaed3483eb1e33056fc57b315",
            "765f085fda114279ba683e9d4f33b925",
            "3bead65003464f9db797abc40cd2d813",
            "024f8dd62b7442f6912414165b172d20",
            "11983ac5cee64c4ebd2449cbaaa4038b",
            "a938a0660d60462cb766fc4e488878cb",
            "dcca90595f744b649fc14d4af47302fb",
            "d7a562334513463383c3955da6b3f6cd",
            "cc65b8eeb1f34db69594a4a5d2765042",
            "169f566fe81b4871b6c9d4997c41b8af",
            "a63a0d0dd8eb4ab082d12f0d48f8712f",
            "8682529f0f694f1cbd6f9b9ef5781b1f",
            "9cf7b5a576454b9fbce3b1723f53a5f4",
            "757aac76e36a4144bcad0ac60a2bc317"
          ]
        },
        "id": "AdMSUezNPrSa",
        "outputId": "437a4886-ae3b-4be9-d086-5913531be816"
      },
      "outputs": [
        {
          "output_type": "stream",
          "name": "stdout",
          "text": [
            "logging in as santiago.ramirez10@udea.edu.co... please wait\n",
            "using course session ai4eng.v1.udea.r2::2023.1\n",
            "success!! you are logged in\n"
          ]
        }
      ],
      "source": [
        "from local.lib.rlxmoocapi import submit, session\n",
        "session.LoginSequence(endpoint=init.endpoint, course_id=init.course_id, lab_id=\"L05.02\", varname=\"student\");"
      ]
    },
    {
      "cell_type": "markdown",
      "metadata": {
        "id": "8nY2IfHRPrSb"
      },
      "source": [
        "## Task 1: Partition randomly `numpy` arrays\n",
        "\n",
        "observe we can select specific rows and/or columns on a numpy array"
      ]
    },
    {
      "cell_type": "code",
      "execution_count": 3,
      "metadata": {
        "colab": {
          "base_uri": "https://localhost:8080/"
        },
        "id": "S3DUFNDJPrSd",
        "outputId": "e6e9c94d-0907-4147-d1c0-3f7111f09ec5"
      },
      "outputs": [
        {
          "output_type": "execute_result",
          "data": {
            "text/plain": [
              "array([[ 0,  1,  2,  3,  4],\n",
              "       [ 1, 50, 51, 19, 27],\n",
              "       [ 2, 38, 81, 25, 77],\n",
              "       [ 3, 40, 55, 31, 54],\n",
              "       [ 4, 13, 78, 86, 74],\n",
              "       [ 5, 72, 86, 94, 11],\n",
              "       [ 6, 12, 96, 71, 18],\n",
              "       [ 7, 48, 70, 31, 77],\n",
              "       [ 8, 81, 83, 57, 75],\n",
              "       [ 9,  2, 12, 91, 84],\n",
              "       [10, 27, 17, 38, 89],\n",
              "       [11, 22, 79, 18, 73],\n",
              "       [12, 34, 13, 55, 60],\n",
              "       [13, 62, 88, 35, 81],\n",
              "       [14, 39, 87, 64, 47],\n",
              "       [15, 41, 48, 43, 23],\n",
              "       [16, 51, 81,  3, 91],\n",
              "       [17, 77, 55, 42, 30],\n",
              "       [18, 24, 25, 38, 13],\n",
              "       [19, 86,  8, 43, 24]])"
            ]
          },
          "metadata": {},
          "execution_count": 3
        }
      ],
      "source": [
        "import numpy as np\n",
        "x = np.random.randint(100, size=(20,5))\n",
        "x[:,0] = range(len(x))\n",
        "x[0,:] = range(x.shape[1])\n",
        "x"
      ]
    },
    {
      "cell_type": "code",
      "execution_count": 4,
      "metadata": {
        "colab": {
          "base_uri": "https://localhost:8080/"
        },
        "id": "0bti21aLPrSe",
        "outputId": "cedd3e0e-cb11-4a18-e50a-a8372cba8609"
      },
      "outputs": [
        {
          "output_type": "execute_result",
          "data": {
            "text/plain": [
              "array([[ 2, 38, 81, 25, 77],\n",
              "       [ 4, 13, 78, 86, 74],\n",
              "       [ 5, 72, 86, 94, 11]])"
            ]
          },
          "metadata": {},
          "execution_count": 4
        }
      ],
      "source": [
        "ridxs = np.r_[2,4,5]\n",
        "x[ridxs]"
      ]
    },
    {
      "cell_type": "code",
      "execution_count": 5,
      "metadata": {
        "colab": {
          "base_uri": "https://localhost:8080/"
        },
        "id": "-C7IvSXrPrSf",
        "outputId": "8d71262f-3f8e-49e1-9c88-05c956ee23e1"
      },
      "outputs": [
        {
          "output_type": "execute_result",
          "data": {
            "text/plain": [
              "array([[ 1,  3],\n",
              "       [50, 19],\n",
              "       [38, 25],\n",
              "       [40, 31],\n",
              "       [13, 86],\n",
              "       [72, 94],\n",
              "       [12, 71],\n",
              "       [48, 31],\n",
              "       [81, 57],\n",
              "       [ 2, 91],\n",
              "       [27, 38],\n",
              "       [22, 18],\n",
              "       [34, 55],\n",
              "       [62, 35],\n",
              "       [39, 64],\n",
              "       [41, 43],\n",
              "       [51,  3],\n",
              "       [77, 42],\n",
              "       [24, 38],\n",
              "       [86, 43]])"
            ]
          },
          "metadata": {},
          "execution_count": 5
        }
      ],
      "source": [
        "cidxs = np.r_[1,3]\n",
        "x[:,cidxs]"
      ]
    },
    {
      "cell_type": "code",
      "execution_count": 6,
      "metadata": {
        "colab": {
          "base_uri": "https://localhost:8080/"
        },
        "id": "oc2EZi5aPrSg",
        "outputId": "8d6ee1e5-1212-4a3d-b192-062288761d5d"
      },
      "outputs": [
        {
          "output_type": "execute_result",
          "data": {
            "text/plain": [
              "array([[38, 25],\n",
              "       [13, 86],\n",
              "       [72, 94]])"
            ]
          },
          "metadata": {},
          "execution_count": 6
        }
      ],
      "source": [
        "x[ridxs][:, cidxs]"
      ]
    },
    {
      "cell_type": "markdown",
      "metadata": {
        "id": "ArOiDavnPrSh"
      },
      "source": [
        "and the dimensions of the array are accessible through `len` and `shape`"
      ]
    },
    {
      "cell_type": "code",
      "execution_count": 7,
      "metadata": {
        "colab": {
          "base_uri": "https://localhost:8080/"
        },
        "id": "SN8NHN_4PrSh",
        "outputId": "68676c9b-0112-45bb-a0fc-837e766899ba"
      },
      "outputs": [
        {
          "output_type": "execute_result",
          "data": {
            "text/plain": [
              "(20, (20, 5))"
            ]
          },
          "metadata": {},
          "execution_count": 7
        }
      ],
      "source": [
        "len(x), x.shape"
      ]
    },
    {
      "cell_type": "markdown",
      "metadata": {
        "id": "-BIC6wZvPrSi"
      },
      "source": [
        "observe also how we can partition it"
      ]
    },
    {
      "cell_type": "code",
      "execution_count": 8,
      "metadata": {
        "colab": {
          "base_uri": "https://localhost:8080/"
        },
        "id": "usxBpyXRPrSi",
        "outputId": "cb6c949a-5ec8-422f-f8eb-b98967fcb80d"
      },
      "outputs": [
        {
          "output_type": "execute_result",
          "data": {
            "text/plain": [
              "array([[ 0,  1,  2,  3,  4],\n",
              "       [ 1, 50, 51, 19, 27],\n",
              "       [ 2, 38, 81, 25, 77]])"
            ]
          },
          "metadata": {},
          "execution_count": 8
        }
      ],
      "source": [
        "x[:3]"
      ]
    },
    {
      "cell_type": "code",
      "execution_count": 9,
      "metadata": {
        "colab": {
          "base_uri": "https://localhost:8080/"
        },
        "id": "5weqRTLBPrSj",
        "outputId": "20fc6fb5-8bd5-4200-af5a-d4c17a98a526"
      },
      "outputs": [
        {
          "output_type": "execute_result",
          "data": {
            "text/plain": [
              "array([[ 3, 40, 55, 31, 54],\n",
              "       [ 4, 13, 78, 86, 74],\n",
              "       [ 5, 72, 86, 94, 11],\n",
              "       [ 6, 12, 96, 71, 18],\n",
              "       [ 7, 48, 70, 31, 77],\n",
              "       [ 8, 81, 83, 57, 75],\n",
              "       [ 9,  2, 12, 91, 84],\n",
              "       [10, 27, 17, 38, 89],\n",
              "       [11, 22, 79, 18, 73],\n",
              "       [12, 34, 13, 55, 60],\n",
              "       [13, 62, 88, 35, 81],\n",
              "       [14, 39, 87, 64, 47],\n",
              "       [15, 41, 48, 43, 23],\n",
              "       [16, 51, 81,  3, 91],\n",
              "       [17, 77, 55, 42, 30],\n",
              "       [18, 24, 25, 38, 13],\n",
              "       [19, 86,  8, 43, 24]])"
            ]
          },
          "metadata": {},
          "execution_count": 9
        }
      ],
      "source": [
        "x[3:]"
      ]
    },
    {
      "cell_type": "markdown",
      "metadata": {
        "id": "sL7Q7CkBPrSj"
      },
      "source": [
        "we can do the same thing with vectors"
      ]
    },
    {
      "cell_type": "code",
      "execution_count": 10,
      "metadata": {
        "colab": {
          "base_uri": "https://localhost:8080/"
        },
        "id": "Lk8taV-PPrSk",
        "outputId": "13909103-a46b-418c-9c00-064750d3dc65"
      },
      "outputs": [
        {
          "output_type": "execute_result",
          "data": {
            "text/plain": [
              "array([100, 101, 102, 103, 104, 105, 106, 107, 108, 109, 110, 111, 112,\n",
              "       113, 114, 115, 116, 117, 118, 119])"
            ]
          },
          "metadata": {},
          "execution_count": 10
        }
      ],
      "source": [
        "v = np.arange(100,120)\n",
        "v"
      ]
    },
    {
      "cell_type": "code",
      "execution_count": 11,
      "metadata": {
        "colab": {
          "base_uri": "https://localhost:8080/"
        },
        "id": "FeizSCLAPrSk",
        "outputId": "42ab9d63-cdab-4423-982e-419e5ad59535"
      },
      "outputs": [
        {
          "output_type": "execute_result",
          "data": {
            "text/plain": [
              "(array([100, 101, 102, 103, 104]),\n",
              " array([105, 106, 107, 108, 109, 110, 111, 112, 113, 114, 115, 116, 117,\n",
              "        118, 119]))"
            ]
          },
          "metadata": {},
          "execution_count": 11
        }
      ],
      "source": [
        "v[:5], v[5:]"
      ]
    },
    {
      "cell_type": "markdown",
      "metadata": {
        "id": "xEVjpXVAPrSl"
      },
      "source": [
        "finally, observe how we can create a random permutation of a specific vector"
      ]
    },
    {
      "cell_type": "code",
      "execution_count": 12,
      "metadata": {
        "colab": {
          "base_uri": "https://localhost:8080/"
        },
        "id": "-TnOxsTFPrSl",
        "outputId": "e1b35887-5402-44fb-dcb7-781a6c8e1332"
      },
      "outputs": [
        {
          "output_type": "execute_result",
          "data": {
            "text/plain": [
              "array([113, 117, 116, 102, 110, 101, 119, 112, 107, 104, 114, 108, 111,\n",
              "       109, 115, 118, 100, 105, 103, 106])"
            ]
          },
          "metadata": {},
          "execution_count": 12
        }
      ],
      "source": [
        "np.random.permutation(v)"
      ]
    },
    {
      "cell_type": "markdown",
      "metadata": {
        "id": "J-CkX0KiPrSl"
      },
      "source": [
        "or the first natural numbers"
      ]
    },
    {
      "cell_type": "code",
      "execution_count": 13,
      "metadata": {
        "colab": {
          "base_uri": "https://localhost:8080/"
        },
        "id": "-SJkc4w-PrSl",
        "outputId": "ef8913a1-aac9-4bfe-e9a7-56eb5859acd7"
      },
      "outputs": [
        {
          "output_type": "execute_result",
          "data": {
            "text/plain": [
              "array([11,  2,  0,  4,  5, 12, 15, 17,  6, 16, 13, 14, 19, 18, 10,  3,  8,\n",
              "        7,  1,  9])"
            ]
          },
          "metadata": {},
          "execution_count": 13
        }
      ],
      "source": [
        "p = np.random.permutation(20)\n",
        "p"
      ]
    },
    {
      "cell_type": "markdown",
      "metadata": {
        "id": "FtHzBSgMPrSl"
      },
      "source": [
        "how do you interpret this?"
      ]
    },
    {
      "cell_type": "code",
      "execution_count": 14,
      "metadata": {
        "colab": {
          "base_uri": "https://localhost:8080/"
        },
        "id": "K2YND3qNPrSm",
        "outputId": "5576ee3d-9ef0-4a02-f571-6650bce1fb7f"
      },
      "outputs": [
        {
          "output_type": "execute_result",
          "data": {
            "text/plain": [
              "array([112, 115, 117, 106, 116, 113, 114, 119, 118, 110, 103, 108, 107,\n",
              "       101, 109])"
            ]
          },
          "metadata": {},
          "execution_count": 14
        }
      ],
      "source": [
        "v[p[5:]]"
      ]
    },
    {
      "cell_type": "code",
      "execution_count": 15,
      "metadata": {
        "colab": {
          "base_uri": "https://localhost:8080/"
        },
        "id": "_ze9z_7PPrSm",
        "outputId": "ad5afcde-1f41-4e25-f324-19b61cef8abc"
      },
      "outputs": [
        {
          "output_type": "execute_result",
          "data": {
            "text/plain": [
              "array([[11, 22, 79, 18, 73],\n",
              "       [ 2, 38, 81, 25, 77],\n",
              "       [ 0,  1,  2,  3,  4],\n",
              "       [ 4, 13, 78, 86, 74],\n",
              "       [ 5, 72, 86, 94, 11]])"
            ]
          },
          "metadata": {},
          "execution_count": 15
        }
      ],
      "source": [
        "x[p[:5]]"
      ]
    },
    {
      "cell_type": "markdown",
      "metadata": {
        "id": "8ZS_vuNGPrSn"
      },
      "source": [
        "### assignment\n",
        "\n",
        "in this task you will have to complete the function  `split_data` below so that:\n",
        "\n",
        "- it accepts two arguments `X` and `y`, either of which can be any numpy array (1D, 2D, etc.) of the **same** size $n$ (observe the  `assert` statement), and a `pct` \n",
        "- creates a random permutation of the natural number from $0$ to $n-1$\n",
        "- partitions the permutations so that the first partition contains the first `n1_elements` $=$ `int(n * pct)` numbers, and the second partition the rest\n",
        "- interpret the permutation partitions components as indexes to `X` and `y` so that they are partitioned into `X1`, `X2` and `y1`, `y2` respectively\n",
        "\n",
        "note that **indexes to array** must be of type `int`. do the following to convert a float to int"
      ]
    },
    {
      "cell_type": "code",
      "execution_count": null,
      "metadata": {
        "colab": {
          "base_uri": "https://localhost:8080/"
        },
        "id": "Szpru-hCPrSn",
        "outputId": "f0586d70-4f85-42ff-cb28-2700715f3421"
      },
      "outputs": [
        {
          "output_type": "stream",
          "name": "stdout",
          "text": [
            "3.0\n",
            "3\n"
          ]
        }
      ],
      "source": [
        "a,b = 10,.3\n",
        "c = a*b\n",
        "print (c)\n",
        "c = int(c)\n",
        "print(c)"
      ]
    },
    {
      "cell_type": "code",
      "execution_count": null,
      "metadata": {
        "id": "PEHWB2otPrSo"
      },
      "outputs": [],
      "source": [
        "def split_data(X, y, pct):\n",
        "    assert len(X)==len(y), \"X and y must have the same length\"\n",
        "    assert pct>0 and pct<1, \"pct must be in the (0,1) iterval\"\n",
        "    n=len(X)\n",
        "    permutation = np.random.randint(0,n-1)\n",
        "    n1_elements = int(n*pct)\n",
        "    permutation_partition_1 =n1_elements\n",
        "    X1 = X[:permutation_partition_1]\n",
        "    X2 = X[permutation_partition_1:]\n",
        "    y1 = y[:permutation_partition_1]\n",
        "    y2 = y[permutation_partition_1:]\n",
        "    return X1, X2, y1, y2"
      ]
    },
    {
      "cell_type": "markdown",
      "metadata": {
        "id": "8lxZpPruPrSr"
      },
      "source": [
        "check your solution manually with the following code"
      ]
    },
    {
      "cell_type": "code",
      "execution_count": null,
      "metadata": {
        "colab": {
          "base_uri": "https://localhost:8080/"
        },
        "id": "BgkSoyqtPrSs",
        "outputId": "af7f03c8-62cc-4803-af89-715bbe45c0d7"
      },
      "outputs": [
        {
          "output_type": "stream",
          "name": "stdout",
          "text": [
            "[[ 0  1  2  3  4  5  6  7]\n",
            " [ 1 14 93 92 62 64  0 12]\n",
            " [ 2 40 77 50 84 38 31 12]\n",
            " [ 3  0 64 88 20 20 65 39]\n",
            " [ 4 42 22  7 13 30 65 30]\n",
            " [ 5 20 15 87 22 33  8 67]\n",
            " [ 6 51 57 46 49 88 24 21]\n",
            " [ 7  5 26 46 50  2 94  8]\n",
            " [ 8  7 90 11 58 36  9 53]\n",
            " [ 9  5 18 24 21 42 27 83]\n",
            " [10 73 85 56 41 35 32 38]\n",
            " [11 45 50 29 42 40  8 10]\n",
            " [12 96 82 43 95 35  2 24]\n",
            " [13 44 77 53  6 92 41 42]\n",
            " [14 24 19 14  4 53 66 47]\n",
            " [15 15 56 75 73 82 50 89]\n",
            " [16 62 87 43 80 53  0 89]\n",
            " [17 27 17 71  6 96 14  7]\n",
            " [18 47 47 17 18 46 20 46]\n",
            " [19  3 32 22 18  9  2 15]]\n",
            "[100 101 102 103 104 105 106 107 108 109 110 111 112 113 114 115 116 117\n",
            " 118 119]\n"
          ]
        }
      ],
      "source": [
        "XX = np.random.randint(100, size=(20,8))\n",
        "yy = np.arange(100,100+len(XX))\n",
        "XX[:,0] = range(len(XX))\n",
        "XX[0,:] = range(XX.shape[1])\n",
        "print (XX)\n",
        "print (yy)"
      ]
    },
    {
      "cell_type": "code",
      "execution_count": null,
      "metadata": {
        "id": "kEBWmqCXPrSs"
      },
      "outputs": [],
      "source": [
        "Xtr, Xts, ytr, yts = split_data(XX, yy, pct=.7)"
      ]
    },
    {
      "cell_type": "code",
      "execution_count": null,
      "metadata": {
        "colab": {
          "base_uri": "https://localhost:8080/"
        },
        "id": "ej108KJgPrSt",
        "outputId": "3fae06be-54ed-4d56-f801-6b2ce5c89231"
      },
      "outputs": [
        {
          "output_type": "execute_result",
          "data": {
            "text/plain": [
              "(7370, 7370, 2190, 2190)"
            ]
          },
          "metadata": {},
          "execution_count": 43
        }
      ],
      "source": [
        "# check partition ok\n",
        "np.sum(XX), np.sum(Xtr) + np.sum(Xts), np.sum(yy), np.sum(ytr)+np.sum(yts)"
      ]
    },
    {
      "cell_type": "code",
      "execution_count": null,
      "metadata": {
        "colab": {
          "base_uri": "https://localhost:8080/"
        },
        "id": "gTgN6v3TPrSt",
        "outputId": "665e9957-80e6-4f7c-9a84-3fab03d1d071"
      },
      "outputs": [
        {
          "output_type": "stream",
          "name": "stdout",
          "text": [
            "[[ 0  1  2  3  4  5  6  7]\n",
            " [ 1 58 82 47 37 91 54 46]\n",
            " [ 2 92 44 54 65 18 85 21]\n",
            " [ 3 42 44 24 80  0  3 80]\n",
            " [ 4 20 56 87 45 35 92 50]\n",
            " [ 5 82 77 24 97 97  9 56]\n",
            " [ 6 49 97 28 64 78 70 48]\n",
            " [ 7 56 67 72 96 84 51  3]\n",
            " [ 8 88 98 99  7 30 60 89]\n",
            " [ 9 47 88 29 91 80 62 56]\n",
            " [10 36 75 15 41 28 94 89]\n",
            " [11 41 33 12 54 61 15 10]\n",
            " [12 70 32 94  2 63 29 65]\n",
            " [13 75 81 48 26  4 29 76]] \n",
            "--\n",
            "[[15 32 37 36 48 85  1 61]\n",
            " [16 96 72 59  0 81 75 26]\n",
            " [17 96 98 89  1 69 66  3]\n",
            " [18 91 46 23 80 18 23 40]\n",
            " [19 62 81  5 92 24 20 87]] \n",
            "--\n",
            "[100 101 102 103 104 105 106 107 108 109 110 111 112 113] \n",
            "--\n",
            "[115 116 117 118 119] \n",
            "--\n"
          ]
        }
      ],
      "source": [
        "print (Xtr, \"\\n--\")\n",
        "print (Xts, \"\\n--\")\n",
        "print (ytr, \"\\n--\")\n",
        "print (yts, \"\\n--\")"
      ]
    },
    {
      "cell_type": "code",
      "execution_count": null,
      "metadata": {
        "colab": {
          "base_uri": "https://localhost:8080/"
        },
        "id": "H0DBCIWfPrSu",
        "outputId": "41fbf963-22a2-4005-f744-303d6214035e"
      },
      "outputs": [
        {
          "output_type": "execute_result",
          "data": {
            "text/plain": [
              "array([[15, 32, 37, 36, 48, 85,  1, 61],\n",
              "       [16, 96, 72, 59,  0, 81, 75, 26],\n",
              "       [17, 96, 98, 89,  1, 69, 66,  3],\n",
              "       [18, 91, 46, 23, 80, 18, 23, 40],\n",
              "       [19, 62, 81,  5, 92, 24, 20, 87]])"
            ]
          },
          "metadata": {},
          "execution_count": 40
        }
      ],
      "source": [
        "Xts"
      ]
    },
    {
      "cell_type": "markdown",
      "metadata": {
        "id": "GgcB_f15PrSv"
      },
      "source": [
        "**submit your code**"
      ]
    },
    {
      "cell_type": "code",
      "execution_count": null,
      "metadata": {
        "scrolled": true,
        "colab": {
          "base_uri": "https://localhost:8080/",
          "height": 128
        },
        "id": "iL2lFYkoPrSv",
        "outputId": "c3551999-242e-4b27-9d2c-d0420283ab95"
      },
      "outputs": [
        {
          "output_type": "display_data",
          "data": {
            "text/plain": [
              "<IPython.core.display.HTML object>"
            ],
            "text/html": [
              "\n",
              "                    <b>task_01 submitted.</b> <b><font color=\"blue\">your grade is 5</font></b> \n",
              "                    <p/><pre>----- grader message -------</pre>testing with 100 random calls<br/><b>correct</b><pre>----------------------------</pre>\n",
              "                    <p/><p/>\n",
              "                    <div style=\"font-size:10px\"><b>SUBMISSION CODE</b> TuSMeZr14X2sWyhuKPOiWFhSda+DfNcM7hGLyDVa0PuCFg9yyF37EyiSdkP5USd6mvQwtt5p3/bU47yD8KGgUOHbyPyK1cQOUgz4HIJHMY8eDYUzPG3xMkHbbOWoehgY7Ry6eQPATAKNMYi4WajSCMWJdvbp1KtoalhUIY7YW9U=</div>\n",
              "                    "
            ]
          },
          "metadata": {}
        }
      ],
      "source": [
        "student.submit_task(globals(), task_id=\"task_01\");\n"
      ]
    },
    {
      "cell_type": "markdown",
      "metadata": {
        "id": "Y-yqchiAPrSw"
      },
      "source": [
        "## Task 2: Fit a model and make predictions"
      ]
    },
    {
      "cell_type": "markdown",
      "metadata": {
        "id": "wREKgCgNPrSw"
      },
      "source": [
        "observe how we create new data from synthetic datasets available in `sklearn`"
      ]
    },
    {
      "cell_type": "code",
      "execution_count": 44,
      "metadata": {
        "id": "JbISIArWPrSx"
      },
      "outputs": [],
      "source": [
        "from sklearn.datasets import make_moons\n",
        "import matplotlib.pyplot as plt\n",
        "from local.lib import mlutils\n",
        "%matplotlib inline"
      ]
    },
    {
      "cell_type": "code",
      "execution_count": 45,
      "metadata": {
        "colab": {
          "base_uri": "https://localhost:8080/"
        },
        "id": "CgkeTA7qPrSy",
        "outputId": "8a1a8508-200e-45b5-8b63-6617c841135b"
      },
      "outputs": [
        {
          "output_type": "execute_result",
          "data": {
            "text/plain": [
              "((200, 2), (200,))"
            ]
          },
          "metadata": {},
          "execution_count": 45
        }
      ],
      "source": [
        "X, y = make_moons(200, noise=0.2)\n",
        "X.shape, y.shape"
      ]
    },
    {
      "cell_type": "code",
      "execution_count": null,
      "metadata": {
        "colab": {
          "base_uri": "https://localhost:8080/",
          "height": 430
        },
        "id": "6OzMOaeWPrSy",
        "outputId": "19c2f9b4-f872-42bf-fe56-9b11d2504269"
      },
      "outputs": [
        {
          "output_type": "display_data",
          "data": {
            "text/plain": [
              "<Figure size 640x480 with 1 Axes>"
            ],
            "image/png": "[encoded data removed]"
          },
          "metadata": {}
        }
      ],
      "source": [
        "mlutils.plot_2Ddata(X,y); plt.grid();"
      ]
    },
    {
      "cell_type": "markdown",
      "metadata": {
        "id": "O-iBcs3JPrSy"
      },
      "source": [
        "observe also how we create an algorithm instance and fit a model"
      ]
    },
    {
      "cell_type": "code",
      "execution_count": null,
      "metadata": {
        "colab": {
          "base_uri": "https://localhost:8080/",
          "height": 447
        },
        "id": "fqPmE-nsPrSz",
        "outputId": "3decfbfa-802a-4915-9de1-16a91a65ba86"
      },
      "outputs": [
        {
          "output_type": "execute_result",
          "data": {
            "text/plain": [
              "(0.487025, 0.512975)"
            ]
          },
          "metadata": {},
          "execution_count": 66
        },
        {
          "output_type": "display_data",
          "data": {
            "text/plain": [
              "<Figure size 640x480 with 1 Axes>"
            ],
            "image/png": "[encoded data removed]"
          },
          "metadata": {}
        }
      ],
      "source": [
        "from sklearn.svm import SVC\n",
        "estimator = SVC(gamma=1)\n",
        "estimator.fit(X,y)\n",
        "mlutils.plot_2Ddata_with_boundary(estimator.predict, X, y)"
      ]
    },
    {
      "cell_type": "markdown",
      "metadata": {
        "id": "scHh4mvnPrSz"
      },
      "source": [
        "and how we make predictions"
      ]
    },
    {
      "cell_type": "code",
      "execution_count": null,
      "metadata": {
        "colab": {
          "base_uri": "https://localhost:8080/"
        },
        "id": "B_FV38OdPrSz",
        "outputId": "ba73d222-ae11-4d98-9b55-574809e1cf94"
      },
      "outputs": [
        {
          "output_type": "stream",
          "name": "stdout",
          "text": [
            "(200,)\n"
          ]
        },
        {
          "output_type": "execute_result",
          "data": {
            "text/plain": [
              "array([1, 0, 1, 0, 0, 0, 0, 1, 0, 1, 0, 0, 1, 0, 0, 1, 0, 0, 1, 0, 1, 0,\n",
              "       0, 0, 0, 0, 0, 1, 0, 1, 1, 0, 1, 0, 1, 1, 0, 0, 0, 1, 1, 0, 0, 1,\n",
              "       0, 0, 0, 0, 1, 0, 1, 1, 1, 0, 0, 0, 0, 1, 1, 0, 0, 0, 0, 1, 1, 0,\n",
              "       0, 0, 1, 1, 1, 0, 1, 0, 1, 1, 0, 1, 0, 1, 1, 1, 1, 1, 1, 0, 1, 1,\n",
              "       0, 0, 1, 0, 0, 1, 1, 0, 0, 0, 1, 0, 0, 1, 1, 1, 0, 1, 1, 1, 0, 0,\n",
              "       0, 0, 1, 1, 1, 1, 0, 0, 1, 1, 0, 0, 1, 1, 0, 0, 0, 0, 1, 0, 1, 0,\n",
              "       1, 1, 0, 1, 1, 0, 1, 1, 1, 1, 0, 0, 1, 1, 1, 0, 1, 1, 1, 1, 1, 1,\n",
              "       1, 0, 1, 1, 1, 0, 1, 0, 1, 1, 0, 0, 0, 0, 0, 1, 0, 1, 1, 0, 0, 1,\n",
              "       1, 1, 1, 0, 1, 1, 1, 0, 1, 0, 0, 1, 0, 0, 0, 1, 0, 1, 1, 0, 1, 0,\n",
              "       0, 0])"
            ]
          },
          "metadata": {},
          "execution_count": 50
        }
      ],
      "source": [
        "preds = estimator.predict(X)\n",
        "print (preds.shape)\n",
        "preds"
      ]
    },
    {
      "cell_type": "markdown",
      "metadata": {
        "id": "V1x4UsIvPrSz"
      },
      "source": [
        "in this task you have to complete the following function so that:\n",
        "\n",
        "- it makes two non-random partitions of `X` and `y`. One containing the first half of the data and one containing the second part. If the number of elements of `X` is odd, then the second half will contain one more element than the first half.\n",
        "- it fits the model with the first part of the data\n",
        "- it makes predictions on the second half of the data\n",
        "- returns the estimator fitted, and the predictions on the second half of the data."
      ]
    },
    {
      "cell_type": "code",
      "execution_count": 35,
      "metadata": {
        "id": "iC5NLBY4PrS0"
      },
      "outputs": [],
      "source": [
        "def fit_and_predict(estimator, X, y):\n",
        "    assert len(X)==len(y), \"X and y must have the same length\"\n",
        "    n_samples = len(X)\n",
        "    X_first_half, X_second_half = X[:n_samples//2], X[n_samples//2:]\n",
        "    y_first_half, y_second_half = y[:n_samples//2], y[n_samples//2:]\n",
        "    estimator.fit(X_first_half, y_first_half)\n",
        "    y_pred = estimator.predict(X_second_half)\n",
        "    return estimator, y_pred"
      ]
    },
    {
      "cell_type": "markdown",
      "metadata": {
        "id": "EqNKqmUKPrS0"
      },
      "source": [
        "check your code. your predictions should be similar to\n",
        "\n",
        "    preds\n",
        "    >> array([0, 0, 0, 0, 1, 0, 1, 1, 1, 0])"
      ]
    },
    {
      "cell_type": "code",
      "execution_count": 19,
      "metadata": {
        "colab": {
          "base_uri": "https://localhost:8080/"
        },
        "id": "5mFwqlazPrS0",
        "outputId": "dc3d7a38-2684-4b1f-fe4b-8587080252b2"
      },
      "outputs": [
        {
          "output_type": "execute_result",
          "data": {
            "text/plain": [
              "((20, 2), (20,))"
            ]
          },
          "metadata": {},
          "execution_count": 19
        }
      ],
      "source": [
        "X = np.array([[ 0.74799424, -0.5867667 ],\n",
        "       [-0.64457753,  1.25127894],\n",
        "       [ 0.53682593,  0.10931563],\n",
        "       [-0.88825294, -0.06987509],\n",
        "       [ 0.99612638, -0.52295157],\n",
        "       [ 1.20586692,  0.01930477],\n",
        "       [-0.19368482,  0.65121567],\n",
        "       [ 0.1973759 ,  0.82250723],\n",
        "       [ 0.94859234, -0.5457241 ],\n",
        "       [ 1.87967948, -0.22740261],\n",
        "       [ 0.58766146,  0.3982837 ],\n",
        "       [ 0.27731571,  1.14369568],\n",
        "       [-0.67421956,  0.12785382],\n",
        "       [ 0.56957459,  1.05330376],\n",
        "       [ 1.52435938, -0.29864338],\n",
        "       [-0.15973608,  0.21790711],\n",
        "       [ 1.59037406, -0.56875485],\n",
        "       [ 0.43257507, -0.48900315],\n",
        "       [ 1.09440413, -0.73789029],\n",
        "       [-0.32940869,  0.74671384]])\n",
        "y = np.array([1, 0, 1, 0, 1, 0, 0, 0, 1, 1, 0, 0, 0, 0, 1, 1, 1, 1, 1, 0])\n",
        "X.shape, y.shape"
      ]
    },
    {
      "cell_type": "code",
      "execution_count": 20,
      "metadata": {
        "colab": {
          "base_uri": "https://localhost:8080/"
        },
        "id": "-9UCPQlQPrS0",
        "outputId": "5d4b5c99-aa45-49dd-ebe6-41798a5e4d10"
      },
      "outputs": [
        {
          "output_type": "execute_result",
          "data": {
            "text/plain": [
              "array([0, 0, 0, 0, 1, 0, 1, 1, 1, 0])"
            ]
          },
          "metadata": {},
          "execution_count": 20
        }
      ],
      "source": [
        "from sklearn.linear_model import LogisticRegression\n",
        "estimator = LogisticRegression()\n",
        "estimator, preds = fit_and_predict(estimator, X, y)\n",
        "preds"
      ]
    },
    {
      "cell_type": "markdown",
      "metadata": {
        "id": "mBIIJGDuPrS1"
      },
      "source": [
        "**submit your code**"
      ]
    },
    {
      "cell_type": "code",
      "execution_count": 21,
      "metadata": {
        "id": "8jLh2MTgPrS1",
        "colab": {
          "base_uri": "https://localhost:8080/",
          "height": 128
        },
        "outputId": "3d4a9a8b-e9f8-460c-a06e-4121470dd18f"
      },
      "outputs": [
        {
          "output_type": "display_data",
          "data": {
            "text/plain": [
              "<IPython.core.display.HTML object>"
            ],
            "text/html": [
              "\n",
              "                    <b>task_02 submitted.</b> <b><font color=\"blue\">your grade is 5</font></b> \n",
              "                    <p/><pre>----- grader message -------</pre>testing with 100 random calls<br/><b>correct</b><pre>----------------------------</pre>\n",
              "                    <p/><p/>\n",
              "                    <div style=\"font-size:10px\"><b>SUBMISSION CODE</b> LtRh3N/j9fjsuA25yNpVqU2yNRjbpy/qN5DdHXH0I2sJ6tXEqYBhGt1uZNmT9R67Bma+/p1tANS9p9DiOvU1HXfvYeph7acyFJTNF/xNnQ2CrirYnc+6zBG8mQIHUoUtVoMBUhq8DIZPyD1kWohpRghZw7zgOSWpkIwxl3bBuMc=</div>\n",
              "                    "
            ]
          },
          "metadata": {}
        }
      ],
      "source": [
        "student.submit_task(globals(), task_id=\"task_02\");"
      ]
    },
    {
      "cell_type": "markdown",
      "metadata": {
        "id": "vO2twXbIPrS2"
      },
      "source": [
        "## Task 3: Select data with indices\n",
        "\n",
        "Observe how we can create a vector or matrix of `True/False` (boolean) by applying a condition to any matrix or vector"
      ]
    },
    {
      "cell_type": "code",
      "execution_count": 22,
      "metadata": {
        "colab": {
          "base_uri": "https://localhost:8080/"
        },
        "id": "caeg9s5tPrS2",
        "outputId": "da13a191-3fe4-4714-b601-677934dbbb9d"
      },
      "outputs": [
        {
          "output_type": "stream",
          "name": "stdout",
          "text": [
            "[7 8 3 8 2 5 9 8 4 9 9 6 3 2 3]\n"
          ]
        }
      ],
      "source": [
        "import numpy as np\n",
        "y = np.random.randint(10, size=15)\n",
        "print (y)"
      ]
    },
    {
      "cell_type": "code",
      "execution_count": 23,
      "metadata": {
        "colab": {
          "base_uri": "https://localhost:8080/"
        },
        "id": "P4b0DGdsPrS2",
        "outputId": "628f61b0-202e-470c-c82a-6d596331d132"
      },
      "outputs": [
        {
          "output_type": "stream",
          "name": "stdout",
          "text": [
            "[False False  True False  True False False False  True False False False\n",
            "  True  True  True]\n"
          ]
        }
      ],
      "source": [
        "y_less_than_5 = y<5\n",
        "print (y_less_than_5)"
      ]
    },
    {
      "cell_type": "markdown",
      "metadata": {
        "id": "fzwocMCMPrS2"
      },
      "source": [
        "and how we can select elements of a vector using a boolean vector of the same length"
      ]
    },
    {
      "cell_type": "code",
      "execution_count": 24,
      "metadata": {
        "colab": {
          "base_uri": "https://localhost:8080/"
        },
        "id": "_YjM2vQCPrS3",
        "outputId": "0ced3708-a56c-4851-d32f-0775e3ca357d"
      },
      "outputs": [
        {
          "output_type": "execute_result",
          "data": {
            "text/plain": [
              "array([3, 2, 4, 3, 2, 3])"
            ]
          },
          "metadata": {},
          "execution_count": 24
        }
      ],
      "source": [
        "y[y_less_than_5]"
      ]
    },
    {
      "cell_type": "code",
      "execution_count": 25,
      "metadata": {
        "colab": {
          "base_uri": "https://localhost:8080/"
        },
        "id": "fMo8LWcEPrS3",
        "outputId": "a058a3ce-6b0f-4d65-8dc5-7ba2e062f18e"
      },
      "outputs": [
        {
          "output_type": "execute_result",
          "data": {
            "text/plain": [
              "array([3, 2, 4, 3, 2, 3])"
            ]
          },
          "metadata": {},
          "execution_count": 25
        }
      ],
      "source": [
        "y[y<5]"
      ]
    },
    {
      "cell_type": "markdown",
      "metadata": {
        "id": "k_hM9-YVPrS3"
      },
      "source": [
        "python doesn't really care how you construct the vector of booleans to index any other vector or array"
      ]
    },
    {
      "cell_type": "code",
      "execution_count": 26,
      "metadata": {
        "colab": {
          "base_uri": "https://localhost:8080/"
        },
        "id": "UmEhwKDzPrS3",
        "outputId": "30cb7a43-1ca6-4874-b9a0-45df60a30926"
      },
      "outputs": [
        {
          "output_type": "execute_result",
          "data": {
            "text/plain": [
              "array([13,  8, 17, 18, 12,  8, 15,  6, 19, 17, 16,  3,  5,  2,  9])"
            ]
          },
          "metadata": {},
          "execution_count": 26
        }
      ],
      "source": [
        "v = np.random.randint(20, size=15)\n",
        "v"
      ]
    },
    {
      "cell_type": "code",
      "execution_count": 27,
      "metadata": {
        "colab": {
          "base_uri": "https://localhost:8080/"
        },
        "id": "G5IviixWPrS3",
        "outputId": "64f2e0bb-d1b4-4fee-f339-008f321ba0bf"
      },
      "outputs": [
        {
          "output_type": "execute_result",
          "data": {
            "text/plain": [
              "array([17, 12, 19,  5,  2,  9])"
            ]
          },
          "metadata": {},
          "execution_count": 27
        }
      ],
      "source": [
        "v[y<5]"
      ]
    },
    {
      "cell_type": "markdown",
      "metadata": {
        "id": "s9TbN6mlPrS3"
      },
      "source": [
        "in this task you will complete the function `select_per_class` such that:\n",
        "\n",
        "- receives an array of data `X` and a vector of labels `y`, of the same length\n",
        "- the labels `y` are binary, they can only have values `0` or `1`\n",
        "- makes two partitions of `X`, one corresponding to the places where y is 0, and another where y is 1\n",
        "- returns the two partitions\n",
        "\n",
        "For instance, for the following X and y\n",
        "\n",
        "    X = np.array([[8, 8, 5, 2, 0, 0],\n",
        "                  [4, 4, 8, 1, 3, 7],\n",
        "                  [4, 5, 3, 6, 9, 6],\n",
        "                  [0, 3, 5, 3, 5, 3],\n",
        "                  [0, 7, 2, 7, 1, 7],\n",
        "                  [5, 7, 7, 1, 8, 5],\n",
        "                  [2, 5, 7, 3, 8, 0],\n",
        "                  [7, 2, 5, 9, 8, 7],\n",
        "                  [1, 6, 6, 1, 6, 0],\n",
        "                  [0, 7, 6, 5, 3, 4]])\n",
        "\n",
        "    y = np.array([0, 0, 0, 0, 1, 1, 0, 0, 1, 1])\n",
        "\n",
        "your function must return the following two matrices:\n",
        "\n",
        "    [[8 8 5 2 0 0]\n",
        "     [4 4 8 1 3 7]\n",
        "     [4 5 3 6 9 6]\n",
        "     [0 3 5 3 5 3]\n",
        "     [2 5 7 3 8 0]\n",
        "     [7 2 5 9 8 7]]\n",
        "     \n",
        "    [[0 7 2 7 1 7]\n",
        "     [5 7 7 1 8 5]\n",
        "     [1 6 6 1 6 0]\n",
        "     [0 7 6 5 3 4]]\n"
      ]
    },
    {
      "cell_type": "code",
      "execution_count": 36,
      "metadata": {
        "id": "q7N7cwkAPrS4"
      },
      "outputs": [],
      "source": [
        "def select_per_class(X, y):\n",
        "    X1 = []\n",
        "    X2 = []\n",
        "    for i in range(len(y)):\n",
        "      if y[i]==0:\n",
        "        X1.append(X[i])\n",
        "      else:\n",
        "        X2.append(X[i])\n",
        "    return np.array(X1), np.array(X2)"
      ]
    },
    {
      "cell_type": "markdown",
      "metadata": {
        "id": "dwDucR9iPrS4"
      },
      "source": [
        "check manually your code"
      ]
    },
    {
      "cell_type": "code",
      "execution_count": 37,
      "metadata": {
        "colab": {
          "base_uri": "https://localhost:8080/"
        },
        "id": "Vouf8FkWPrS4",
        "outputId": "4d489216-d8f6-4d67-b4a6-71906cd0405f"
      },
      "outputs": [
        {
          "output_type": "execute_result",
          "data": {
            "text/plain": [
              "(array([[8, 8, 5, 2, 0, 0],\n",
              "        [4, 4, 8, 1, 3, 7],\n",
              "        [4, 5, 3, 6, 9, 6],\n",
              "        [0, 3, 5, 3, 5, 3],\n",
              "        [2, 5, 7, 3, 8, 0],\n",
              "        [7, 2, 5, 9, 8, 7]]),\n",
              " array([[0, 7, 2, 7, 1, 7],\n",
              "        [5, 7, 7, 1, 8, 5],\n",
              "        [1, 6, 6, 1, 6, 0],\n",
              "        [0, 7, 6, 5, 3, 4]]))"
            ]
          },
          "metadata": {},
          "execution_count": 37
        }
      ],
      "source": [
        "X = np.array([[8, 8, 5, 2, 0, 0],\n",
        "              [4, 4, 8, 1, 3, 7],\n",
        "              [4, 5, 3, 6, 9, 6],\n",
        "              [0, 3, 5, 3, 5, 3],\n",
        "              [0, 7, 2, 7, 1, 7],\n",
        "              [5, 7, 7, 1, 8, 5],\n",
        "              [2, 5, 7, 3, 8, 0],\n",
        "              [7, 2, 5, 9, 8, 7],\n",
        "              [1, 6, 6, 1, 6, 0],\n",
        "              [0, 7, 6, 5, 3, 4]])\n",
        "y = np.array([0, 0, 0, 0, 1, 1, 0, 0, 1, 1])\n",
        "select_per_class(X, y)"
      ]
    },
    {
      "cell_type": "code",
      "execution_count": 38,
      "metadata": {
        "colab": {
          "base_uri": "https://localhost:8080/"
        },
        "id": "0NGXhPOpPrS4",
        "outputId": "dc692986-1e35-4a8b-8776-ca669ad229ab"
      },
      "outputs": [
        {
          "output_type": "stream",
          "name": "stdout",
          "text": [
            "[[8 8 5 2 0 0]\n",
            " [4 4 8 1 3 7]\n",
            " [4 5 3 6 9 6]\n",
            " [0 3 5 3 5 3]\n",
            " [2 5 7 3 8 0]\n",
            " [7 2 5 9 8 7]]\n",
            "[[0 7 2 7 1 7]\n",
            " [5 7 7 1 8 5]\n",
            " [1 6 6 1 6 0]\n",
            " [0 7 6 5 3 4]]\n"
          ]
        }
      ],
      "source": [
        "a,b = select_per_class(X, y)\n",
        "print (a)\n",
        "print (b)"
      ]
    },
    {
      "cell_type": "markdown",
      "metadata": {
        "id": "A-PPyT2CPrS5"
      },
      "source": [
        "**submit your code**"
      ]
    },
    {
      "cell_type": "code",
      "execution_count": 31,
      "metadata": {
        "scrolled": true,
        "colab": {
          "base_uri": "https://localhost:8080/",
          "height": 128
        },
        "id": "rqEdC2YMPrS5",
        "outputId": "16099aea-2b0b-44e6-d42a-df460fea28aa"
      },
      "outputs": [
        {
          "output_type": "display_data",
          "data": {
            "text/plain": [
              "<IPython.core.display.HTML object>"
            ],
            "text/html": [
              "\n",
              "                    <b>task_03 submitted.</b> <b><font color=\"blue\">your grade is 5</font></b> \n",
              "                    <p/><pre>----- grader message -------</pre>testing with 100 random calls<br/><b>correct</b><pre>----------------------------</pre>\n",
              "                    <p/><p/>\n",
              "                    <div style=\"font-size:10px\"><b>SUBMISSION CODE</b> NZ4wNHdYPlP6YVrk27v3x07vGOoXsIS3YID6jhlPsCqSYbRx8fSGnOIcS2dxRTSPQvX9I7XkN55pr6zGSrxI1Rgh7syyDyEO/71jqzuiTUWynRBv7Q3VXJIeUR/EuSyRGA2LI6wYNhIaVjGRN52QhXMx83rubH75T7rpF9TkTQs=</div>\n",
              "                    "
            ]
          },
          "metadata": {}
        }
      ],
      "source": [
        "student.submit_task(globals(), task_id=\"task_03\");"
      ]
    },
    {
      "cell_type": "markdown",
      "metadata": {
        "id": "vR50PXa_PrS5"
      },
      "source": [
        "## Task 4: Measure accuracy\n",
        "\n",
        "complete the following function such that:\n",
        "\n",
        "- it receives to binary vectors (composed of 0's and 1's) of the same length\n",
        "- returns the percentage of elements that are the same in both vectors\n",
        "\n",
        "recall that\n",
        "\n",
        "- if `a` and `b` are vectors of the same length a==b   returns a vector of booleans in which positions in True signal that elements in those position are the same\n",
        "- if `k` is a vector of booleans, `sum(k)` returns the number of `True` elements.\n",
        "\n",
        "\n",
        "for the following two vectors you should get 0.375\n",
        "\n",
        "    a = np.array([1,0,0,0,1,1,0,0])\n",
        "    b = np.array([1,1,1,1,0,1,0,1])\n",
        "    accuracy(a, b)\n",
        "    >>> 0.375\n"
      ]
    },
    {
      "cell_type": "code",
      "execution_count": 39,
      "metadata": {
        "id": "xVjPY9vdPrS6"
      },
      "outputs": [],
      "source": [
        "def accuracy(y_true, y_pred):\n",
        "  result=sum(y_true==y_pred)/len(y_true)\n",
        "  return result"
      ]
    },
    {
      "cell_type": "code",
      "execution_count": 33,
      "metadata": {
        "colab": {
          "base_uri": "https://localhost:8080/"
        },
        "id": "MZpIszUKPrS6",
        "outputId": "1ea635d6-4ed4-4f36-cbbc-2bc3b96c94b9"
      },
      "outputs": [
        {
          "output_type": "execute_result",
          "data": {
            "text/plain": [
              "0.375"
            ]
          },
          "metadata": {},
          "execution_count": 33
        }
      ],
      "source": [
        "a = np.array([1,0,0,0,1,1,0,0])\n",
        "b = np.array([1,1,1,1,0,1,0,1])\n",
        "accuracy(a,b)"
      ]
    },
    {
      "cell_type": "markdown",
      "metadata": {
        "id": "5-0n8V7rPrS7"
      },
      "source": [
        "**submit your code**"
      ]
    },
    {
      "cell_type": "code",
      "execution_count": 34,
      "metadata": {
        "scrolled": false,
        "colab": {
          "base_uri": "https://localhost:8080/",
          "height": 128
        },
        "id": "g-3_tihkPrS7",
        "outputId": "174e33a1-cb45-4df6-d8b5-e97bbd85c829"
      },
      "outputs": [
        {
          "output_type": "display_data",
          "data": {
            "text/plain": [
              "<IPython.core.display.HTML object>"
            ],
            "text/html": [
              "\n",
              "                    <b>task_04 submitted.</b> <b><font color=\"blue\">your grade is 5</font></b> \n",
              "                    <p/><pre>----- grader message -------</pre>testing with 100 random calls<br/><b>correct</b><pre>----------------------------</pre>\n",
              "                    <p/><p/>\n",
              "                    <div style=\"font-size:10px\"><b>SUBMISSION CODE</b> 7bjIFLwTCnuHu8XjiTe3uo9eSB4bE8tChQgeKJV0eA4fO3VzYoO2EMJz8UUig4KuDAfI73WrpgD/hQjPYE2J3CjSA/STPwm9mIhP+3KTRGaEm01ID2i5ZY47mXdKmV7GR7cLwyhCNQL/yz7IUFE2Nm3avey7Ld7Nwr1hlWa8mAs=</div>\n",
              "                    "
            ]
          },
          "metadata": {}
        }
      ],
      "source": [
        "student.submit_task(globals(), task_id=\"task_04\");\n"
      ]
    },
    {
      "cell_type": "markdown",
      "metadata": {
        "id": "ZZeQoFazPrS7"
      },
      "source": [
        "## Task 5: Random split, fit and predict\n",
        "\n",
        "complete the following function so that:\n",
        "\n",
        "- fits the estimator with a random sample of size `train_pct` of the data `X` and binary labels `y`. You can use the `split_data` function developed previously\n",
        "- makes predictions on the test part of the data\n",
        "- measures accuracy of those predictions. you may use the function created previously\n",
        "- returns the estimator fitted, the test part of `X` and `y`, and the accuracy measured\n",
        "\n",
        "\n",
        "the execution below should return something with the following structure (the actual numbers will change)\n",
        "\n",
        "\n",
        "    (LogisticRegression(C=1.0, class_weight=None, dual=False, fit_intercept=True,\n",
        "                        intercept_scaling=1, l1_ratio=None, max_iter=100,\n",
        "                        multi_class='warn', n_jobs=None, penalty='l2',\n",
        "                        random_state=None, solver='lbfgs', tol=0.0001, verbose=0,\n",
        "                        warm_start=False), array([[-0.76329684,  0.2572069 ],\n",
        "            [ 1.02356829,  0.37629873],\n",
        "            [ 0.32099415,  0.82244488],\n",
        "            [ 1.08858315, -0.61299904],\n",
        "            [ 0.58470767,  0.58510559],\n",
        "            [ 1.60827644, -0.15477173],\n",
        "            [ 1.53121784,  0.78121504],\n",
        "            [-0.42734156,  0.87585237],\n",
        "            [-0.36368682,  0.72152586],\n",
        "            [ 1.05312619,  0.19835526]]), array([0, 0, 1, 1, 0, 1, 1, 0, 0, 0]), 0.6)"
      ]
    },
    {
      "cell_type": "code",
      "execution_count": 60,
      "metadata": {
        "id": "qu8eVqAoPrS7"
      },
      "outputs": [],
      "source": [
        "def split_fit_predict(estimator, X, y,train_pct):\n",
        "    def split_data(X, y, pct):\n",
        "      assert len(X)==len(y), \"X and y must have the same length\"\n",
        "      assert pct>0 and pct<1, \"pct must be in the (0,1) iterval\"\n",
        "      n=len(X)\n",
        "      permutation = np.random.randint(0,n-1)\n",
        "      n1_elements = int(n*pct)\n",
        "      permutation_partition_1 =n1_elements\n",
        "      X1 = X[:permutation_partition_1]\n",
        "      X2 = X[permutation_partition_1:]\n",
        "      y1 = y[:permutation_partition_1]\n",
        "      y2 = y[permutation_partition_1:]\n",
        "      return X1, X2, y1, y2\n",
        "    def accuracy(y_true, y_pred):\n",
        "      result=sum(y_true==y_pred)/len(y_true)\n",
        "      return result\n",
        "    X_train, X_test, y_train, y_test = split_data(X, y, train_pct)\n",
        "    estimator.fit(X_train, y_train)\n",
        "    y_pred = estimator.predict(X_test)\n",
        "    accuracy = accuracy(y_test, y_pred)\n",
        "    return estimator, X_test, y_test, accuracy"
      ]
    },
    {
      "cell_type": "code",
      "execution_count": 58,
      "metadata": {
        "id": "h1Iz3O5hPrS7",
        "colab": {
          "base_uri": "https://localhost:8080/"
        },
        "outputId": "69e37778-431e-4b44-d711-edce0c2c1e07"
      },
      "outputs": [
        {
          "output_type": "execute_result",
          "data": {
            "text/plain": [
              "(LogisticRegression(),\n",
              " array([[ 1.0832706 ,  0.03105463],\n",
              "        [-0.64273616,  0.64785416],\n",
              "        [ 0.69361299,  0.50353867],\n",
              "        [-0.83108149,  0.35709096],\n",
              "        [ 2.04650844,  0.67823989],\n",
              "        [ 0.80792349, -0.64599858],\n",
              "        [ 1.11498175, -0.12478141],\n",
              "        [ 0.97746201,  0.32233094],\n",
              "        [ 0.82377085,  0.2773469 ],\n",
              "        [ 1.10556201,  0.0790537 ]]),\n",
              " array([0, 0, 0, 0, 1, 1, 1, 0, 0, 0]),\n",
              " 0.6)"
            ]
          },
          "metadata": {},
          "execution_count": 58
        }
      ],
      "source": [
        "from sklearn.linear_model import LogisticRegression\n",
        "X, y = make_moons(100, noise=0.2)\n",
        "estimator = LogisticRegression(solver=\"lbfgs\")\n",
        "split_fit_predict(estimator, X, y, train_pct=0.9)"
      ]
    },
    {
      "cell_type": "markdown",
      "metadata": {
        "id": "UpObZBGqPrS8"
      },
      "source": [
        "**submit your code**"
      ]
    },
    {
      "cell_type": "code",
      "execution_count": 59,
      "metadata": {
        "scrolled": false,
        "id": "TPDMo7vzPrS8",
        "colab": {
          "base_uri": "https://localhost:8080/",
          "height": 128
        },
        "outputId": "fbf4a4f5-d84c-4cf4-8e3d-e2a71f7c0da8"
      },
      "outputs": [
        {
          "output_type": "display_data",
          "data": {
            "text/plain": [
              "<IPython.core.display.HTML object>"
            ],
            "text/html": [
              "\n",
              "                    <b>task_05 submitted.</b> <b><font color=\"blue\">your grade is 5</font></b> \n",
              "                    <p/><pre>----- grader message -------</pre>testing with 100 random calls<br/><b>correct</b><pre>----------------------------</pre>\n",
              "                    <p/><p/>\n",
              "                    <div style=\"font-size:10px\"><b>SUBMISSION CODE</b> dlGlLV0kz1aoRPoqU2NKOV/nqC2cXw+F9Huvf7rGvg3yz3Br3qA4VFBkCB6Boq2/Sx68ELYP6cio1UD5TSLgPe0yo3NXxK9dajjl0YKiLELZbU4LSxHDKXFhZ6MlGfTdnMCuXoeAOgcUPTCv2iEf0wls0MzwqWBgzyuOPagI308=</div>\n",
              "                    "
            ]
          },
          "metadata": {}
        }
      ],
      "source": [
        "student.submit_task(globals(), task_id=\"task_05\");"
      ]
    }
  ],
  "metadata": {
    "kernelspec": {
      "display_name": "Python 3",
      "language": "python",
      "name": "python3"
    },
    "language_info": {
      "codemirror_mode": {
        "name": "ipython",
        "version": 3
      },
      "file_extension": ".py",
      "mimetype": "text/x-python",
      "name": "python",
      "nbconvert_exporter": "python",
      "pygments_lexer": "ipython3",
      "version": "3.7.3"
    },
    "colab": {
      "provenance": []
    },
    "widgets": {
      "application/vnd.jupyter.widget-state+json": {
        "83be2da45cce4d348f595b1783250427": {
          "model_module": "@jupyter-widgets/controls",
          "model_name": "HBoxModel",
          "model_module_version": "1.5.0",
          "state": {
            "_dom_classes": [],
            "_model_module": "@jupyter-widgets/controls",
            "_model_module_version": "1.5.0",
            "_model_name": "HBoxModel",
            "_view_count": null,
            "_view_module": "@jupyter-widgets/controls",
            "_view_module_version": "1.5.0",
            "_view_name": "HBoxView",
            "box_style": "",
            "children": [
              "IPY_MODEL_c04a2e8d6e434f428b8d2a14edd10618",
              "IPY_MODEL_e5dd85fbd0e6436cb21a340a317ec609",
              "IPY_MODEL_ba148127b64643fa8bf5548d96ca9006",
              "IPY_MODEL_c221b075131d49c6badc7f248a11499d"
            ],
            "layout": "IPY_MODEL_a0e7b6daaed3483eb1e33056fc57b315"
          }
        },
        "c04a2e8d6e434f428b8d2a14edd10618": {
          "model_module": "@jupyter-widgets/controls",
          "model_name": "VBoxModel",
          "model_module_version": "1.5.0",
          "state": {
            "_dom_classes": [],
            "_model_module": "@jupyter-widgets/controls",
            "_model_module_version": "1.5.0",
            "_model_name": "VBoxModel",
            "_view_count": null,
            "_view_module": "@jupyter-widgets/controls",
            "_view_module_version": "1.5.0",
            "_view_name": "VBoxView",
            "box_style": "",
            "children": [
              "IPY_MODEL_765f085fda114279ba683e9d4f33b925",
              "IPY_MODEL_3bead65003464f9db797abc40cd2d813"
            ],
            "layout": "IPY_MODEL_024f8dd62b7442f6912414165b172d20"
          }
        },
        "e5dd85fbd0e6436cb21a340a317ec609": {
          "model_module": "@jupyter-widgets/controls",
          "model_name": "ButtonModel",
          "model_module_version": "1.5.0",
          "state": {
            "_dom_classes": [
              "login_button"
            ],
            "_model_module": "@jupyter-widgets/controls",
            "_model_module_version": "1.5.0",
            "_model_name": "ButtonModel",
            "_view_count": null,
            "_view_module": "@jupyter-widgets/controls",
            "_view_module_version": "1.5.0",
            "_view_name": "ButtonView",
            "button_style": "",
            "description": "Login with email",
            "disabled": false,
            "icon": "",
            "layout": "IPY_MODEL_11983ac5cee64c4ebd2449cbaaa4038b",
            "style": "IPY_MODEL_a938a0660d60462cb766fc4e488878cb",
            "tooltip": ""
          }
        },
        "ba148127b64643fa8bf5548d96ca9006": {
          "model_module": "@jupyter-widgets/controls",
          "model_name": "HTMLModel",
          "model_module_version": "1.5.0",
          "state": {
            "_dom_classes": [],
            "_model_module": "@jupyter-widgets/controls",
            "_model_module_version": "1.5.0",
            "_model_name": "HTMLModel",
            "_view_count": null,
            "_view_module": "@jupyter-widgets/controls",
            "_view_module_version": "1.5.0",
            "_view_name": "HTMLView",
            "description": "",
            "description_tooltip": null,
            "layout": "IPY_MODEL_dcca90595f744b649fc14d4af47302fb",
            "placeholder": "​",
            "style": "IPY_MODEL_d7a562334513463383c3955da6b3f6cd",
            "value": "<center><big>or</big></center>"
          }
        },
        "c221b075131d49c6badc7f248a11499d": {
          "model_module": "@jupyter-widgets/controls",
          "model_name": "ButtonModel",
          "model_module_version": "1.5.0",
          "state": {
            "_dom_classes": [
              "google_button"
            ],
            "_model_module": "@jupyter-widgets/controls",
            "_model_module_version": "1.5.0",
            "_model_name": "ButtonModel",
            "_view_count": null,
            "_view_module": "@jupyter-widgets/controls",
            "_view_module_version": "1.5.0",
            "_view_name": "ButtonView",
            "button_style": "",
            "description": "Login with Google",
            "disabled": false,
            "icon": "",
            "layout": "IPY_MODEL_cc65b8eeb1f34db69594a4a5d2765042",
            "style": "IPY_MODEL_169f566fe81b4871b6c9d4997c41b8af",
            "tooltip": ""
          }
        },
        "a0e7b6daaed3483eb1e33056fc57b315": {
          "model_module": "@jupyter-widgets/base",
          "model_name": "LayoutModel",
          "model_module_version": "1.2.0",
          "state": {
            "_model_module": "@jupyter-widgets/base",
            "_model_module_version": "1.2.0",
            "_model_name": "LayoutModel",
            "_view_count": null,
            "_view_module": "@jupyter-widgets/base",
            "_view_module_version": "1.2.0",
            "_view_name": "LayoutView",
            "align_content": null,
            "align_items": null,
            "align_self": null,
            "border": null,
            "bottom": null,
            "display": null,
            "flex": null,
            "flex_flow": null,
            "grid_area": null,
            "grid_auto_columns": null,
            "grid_auto_flow": null,
            "grid_auto_rows": null,
            "grid_column": null,
            "grid_gap": null,
            "grid_row": null,
            "grid_template_areas": null,
            "grid_template_columns": null,
            "grid_template_rows": null,
            "height": null,
            "justify_content": null,
            "justify_items": null,
            "left": null,
            "margin": null,
            "max_height": null,
            "max_width": null,
            "min_height": null,
            "min_width": null,
            "object_fit": null,
            "object_position": null,
            "order": null,
            "overflow": null,
            "overflow_x": null,
            "overflow_y": null,
            "padding": null,
            "right": null,
            "top": null,
            "visibility": null,
            "width": null
          }
        },
        "765f085fda114279ba683e9d4f33b925": {
          "model_module": "@jupyter-widgets/controls",
          "model_name": "TextModel",
          "model_module_version": "1.5.0",
          "state": {
            "_dom_classes": [],
            "_model_module": "@jupyter-widgets/controls",
            "_model_module_version": "1.5.0",
            "_model_name": "TextModel",
            "_view_count": null,
            "_view_module": "@jupyter-widgets/controls",
            "_view_module_version": "1.5.0",
            "_view_name": "TextView",
            "continuous_update": true,
            "description": "email",
            "description_tooltip": null,
            "disabled": false,
            "layout": "IPY_MODEL_a63a0d0dd8eb4ab082d12f0d48f8712f",
            "placeholder": "​",
            "style": "IPY_MODEL_8682529f0f694f1cbd6f9b9ef5781b1f",
            "value": ""
          }
        },
        "3bead65003464f9db797abc40cd2d813": {
          "model_module": "@jupyter-widgets/controls",
          "model_name": "PasswordModel",
          "model_module_version": "1.5.0",
          "state": {
            "_dom_classes": [],
            "_model_module": "@jupyter-widgets/controls",
            "_model_module_version": "1.5.0",
            "_model_name": "PasswordModel",
            "_view_count": null,
            "_view_module": "@jupyter-widgets/controls",
            "_view_module_version": "1.5.0",
            "_view_name": "PasswordView",
            "continuous_update": true,
            "description": "password",
            "description_tooltip": null,
            "disabled": false,
            "layout": "IPY_MODEL_9cf7b5a576454b9fbce3b1723f53a5f4",
            "placeholder": "​",
            "style": "IPY_MODEL_757aac76e36a4144bcad0ac60a2bc317",
            "value": ""
          }
        },
        "024f8dd62b7442f6912414165b172d20": {
          "model_module": "@jupyter-widgets/base",
          "model_name": "LayoutModel",
          "model_module_version": "1.2.0",
          "state": {
            "_model_module": "@jupyter-widgets/base",
            "_model_module_version": "1.2.0",
            "_model_name": "LayoutModel",
            "_view_count": null,
            "_view_module": "@jupyter-widgets/base",
            "_view_module_version": "1.2.0",
            "_view_name": "LayoutView",
            "align_content": null,
            "align_items": null,
            "align_self": null,
            "border": null,
            "bottom": null,
            "display": null,
            "flex": null,
            "flex_flow": null,
            "grid_area": null,
            "grid_auto_columns": null,
            "grid_auto_flow": null,
            "grid_auto_rows": null,
            "grid_column": null,
            "grid_gap": null,
            "grid_row": null,
            "grid_template_areas": null,
            "grid_template_columns": null,
            "grid_template_rows": null,
            "height": null,
            "justify_content": null,
            "justify_items": null,
            "left": null,
            "margin": null,
            "max_height": null,
            "max_width": null,
            "min_height": null,
            "min_width": null,
            "object_fit": null,
            "object_position": null,
            "order": null,
            "overflow": null,
            "overflow_x": null,
            "overflow_y": null,
            "padding": null,
            "right": null,
            "top": null,
            "visibility": null,
            "width": null
          }
        },
        "11983ac5cee64c4ebd2449cbaaa4038b": {
          "model_module": "@jupyter-widgets/base",
          "model_name": "LayoutModel",
          "model_module_version": "1.2.0",
          "state": {
            "_model_module": "@jupyter-widgets/base",
            "_model_module_version": "1.2.0",
            "_model_name": "LayoutModel",
            "_view_count": null,
            "_view_module": "@jupyter-widgets/base",
            "_view_module_version": "1.2.0",
            "_view_name": "LayoutView",
            "align_content": null,
            "align_items": null,
            "align_self": null,
            "border": null,
            "bottom": null,
            "display": null,
            "flex": null,
            "flex_flow": null,
            "grid_area": null,
            "grid_auto_columns": null,
            "grid_auto_flow": null,
            "grid_auto_rows": null,
            "grid_column": null,
            "grid_gap": null,
            "grid_row": null,
            "grid_template_areas": null,
            "grid_template_columns": null,
            "grid_template_rows": null,
            "height": "53px",
            "justify_content": null,
            "justify_items": null,
            "left": null,
            "margin": null,
            "max_height": null,
            "max_width": null,
            "min_height": null,
            "min_width": null,
            "object_fit": null,
            "object_position": null,
            "order": null,
            "overflow": null,
            "overflow_x": null,
            "overflow_y": null,
            "padding": null,
            "right": null,
            "top": null,
            "visibility": null,
            "width": "150px"
          }
        },
        "a938a0660d60462cb766fc4e488878cb": {
          "model_module": "@jupyter-widgets/controls",
          "model_name": "ButtonStyleModel",
          "model_module_version": "1.5.0",
          "state": {
            "_model_module": "@jupyter-widgets/controls",
            "_model_module_version": "1.5.0",
            "_model_name": "ButtonStyleModel",
            "_view_count": null,
            "_view_module": "@jupyter-widgets/base",
            "_view_module_version": "1.2.0",
            "_view_name": "StyleView",
            "button_color": null,
            "font_weight": ""
          }
        },
        "dcca90595f744b649fc14d4af47302fb": {
          "model_module": "@jupyter-widgets/base",
          "model_name": "LayoutModel",
          "model_module_version": "1.2.0",
          "state": {
            "_model_module": "@jupyter-widgets/base",
            "_model_module_version": "1.2.0",
            "_model_name": "LayoutModel",
            "_view_count": null,
            "_view_module": "@jupyter-widgets/base",
            "_view_module_version": "1.2.0",
            "_view_name": "LayoutView",
            "align_content": null,
            "align_items": null,
            "align_self": null,
            "border": null,
            "bottom": null,
            "display": null,
            "flex": null,
            "flex_flow": null,
            "grid_area": null,
            "grid_auto_columns": null,
            "grid_auto_flow": null,
            "grid_auto_rows": null,
            "grid_column": null,
            "grid_gap": null,
            "grid_row": null,
            "grid_template_areas": null,
            "grid_template_columns": null,
            "grid_template_rows": null,
            "height": null,
            "justify_content": null,
            "justify_items": null,
            "left": null,
            "margin": null,
            "max_height": null,
            "max_width": null,
            "min_height": null,
            "min_width": null,
            "object_fit": null,
            "object_position": null,
            "order": null,
            "overflow": null,
            "overflow_x": null,
            "overflow_y": null,
            "padding": null,
            "right": null,
            "top": null,
            "visibility": null,
            "width": "100px"
          }
        },
        "d7a562334513463383c3955da6b3f6cd": {
          "model_module": "@jupyter-widgets/controls",
          "model_name": "DescriptionStyleModel",
          "model_module_version": "1.5.0",
          "state": {
            "_model_module": "@jupyter-widgets/controls",
            "_model_module_version": "1.5.0",
            "_model_name": "DescriptionStyleModel",
            "_view_count": null,
            "_view_module": "@jupyter-widgets/base",
            "_view_module_version": "1.2.0",
            "_view_name": "StyleView",
            "description_width": ""
          }
        },
        "cc65b8eeb1f34db69594a4a5d2765042": {
          "model_module": "@jupyter-widgets/base",
          "model_name": "LayoutModel",
          "model_module_version": "1.2.0",
          "state": {
            "_model_module": "@jupyter-widgets/base",
            "_model_module_version": "1.2.0",
            "_model_name": "LayoutModel",
            "_view_count": null,
            "_view_module": "@jupyter-widgets/base",
            "_view_module_version": "1.2.0",
            "_view_name": "LayoutView",
            "align_content": null,
            "align_items": null,
            "align_self": null,
            "border": null,
            "bottom": null,
            "display": null,
            "flex": null,
            "flex_flow": null,
            "grid_area": null,
            "grid_auto_columns": null,
            "grid_auto_flow": null,
            "grid_auto_rows": null,
            "grid_column": null,
            "grid_gap": null,
            "grid_row": null,
            "grid_template_areas": null,
            "grid_template_columns": null,
            "grid_template_rows": null,
            "height": "53px",
            "justify_content": null,
            "justify_items": null,
            "left": null,
            "margin": null,
            "max_height": null,
            "max_width": null,
            "min_height": null,
            "min_width": null,
            "object_fit": null,
            "object_position": null,
            "order": null,
            "overflow": null,
            "overflow_x": null,
            "overflow_y": null,
            "padding": null,
            "right": null,
            "top": null,
            "visibility": null,
            "width": "200px"
          }
        },
        "169f566fe81b4871b6c9d4997c41b8af": {
          "model_module": "@jupyter-widgets/controls",
          "model_name": "ButtonStyleModel",
          "model_module_version": "1.5.0",
          "state": {
            "_model_module": "@jupyter-widgets/controls",
            "_model_module_version": "1.5.0",
            "_model_name": "ButtonStyleModel",
            "_view_count": null,
            "_view_module": "@jupyter-widgets/base",
            "_view_module_version": "1.2.0",
            "_view_name": "StyleView",
            "button_color": null,
            "font_weight": ""
          }
        },
        "a63a0d0dd8eb4ab082d12f0d48f8712f": {
          "model_module": "@jupyter-widgets/base",
          "model_name": "LayoutModel",
          "model_module_version": "1.2.0",
          "state": {
            "_model_module": "@jupyter-widgets/base",
            "_model_module_version": "1.2.0",
            "_model_name": "LayoutModel",
            "_view_count": null,
            "_view_module": "@jupyter-widgets/base",
            "_view_module_version": "1.2.0",
            "_view_name": "LayoutView",
            "align_content": null,
            "align_items": null,
            "align_self": null,
            "border": null,
            "bottom": null,
            "display": null,
            "flex": null,
            "flex_flow": null,
            "grid_area": null,
            "grid_auto_columns": null,
            "grid_auto_flow": null,
            "grid_auto_rows": null,
            "grid_column": null,
            "grid_gap": null,
            "grid_row": null,
            "grid_template_areas": null,
            "grid_template_columns": null,
            "grid_template_rows": null,
            "height": "25px",
            "justify_content": null,
            "justify_items": null,
            "left": null,
            "margin": null,
            "max_height": null,
            "max_width": null,
            "min_height": null,
            "min_width": null,
            "object_fit": null,
            "object_position": null,
            "order": null,
            "overflow": null,
            "overflow_x": null,
            "overflow_y": null,
            "padding": null,
            "right": null,
            "top": null,
            "visibility": null,
            "width": "300px"
          }
        },
        "8682529f0f694f1cbd6f9b9ef5781b1f": {
          "model_module": "@jupyter-widgets/controls",
          "model_name": "DescriptionStyleModel",
          "model_module_version": "1.5.0",
          "state": {
            "_model_module": "@jupyter-widgets/controls",
            "_model_module_version": "1.5.0",
            "_model_name": "DescriptionStyleModel",
            "_view_count": null,
            "_view_module": "@jupyter-widgets/base",
            "_view_module_version": "1.2.0",
            "_view_name": "StyleView",
            "description_width": ""
          }
        },
        "9cf7b5a576454b9fbce3b1723f53a5f4": {
          "model_module": "@jupyter-widgets/base",
          "model_name": "LayoutModel",
          "model_module_version": "1.2.0",
          "state": {
            "_model_module": "@jupyter-widgets/base",
            "_model_module_version": "1.2.0",
            "_model_name": "LayoutModel",
            "_view_count": null,
            "_view_module": "@jupyter-widgets/base",
            "_view_module_version": "1.2.0",
            "_view_name": "LayoutView",
            "align_content": null,
            "align_items": null,
            "align_self": null,
            "border": null,
            "bottom": null,
            "display": null,
            "flex": null,
            "flex_flow": null,
            "grid_area": null,
            "grid_auto_columns": null,
            "grid_auto_flow": null,
            "grid_auto_rows": null,
            "grid_column": null,
            "grid_gap": null,
            "grid_row": null,
            "grid_template_areas": null,
            "grid_template_columns": null,
            "grid_template_rows": null,
            "height": "24px",
            "justify_content": null,
            "justify_items": null,
            "left": null,
            "margin": null,
            "max_height": null,
            "max_width": null,
            "min_height": null,
            "min_width": null,
            "object_fit": null,
            "object_position": null,
            "order": null,
            "overflow": null,
            "overflow_x": null,
            "overflow_y": null,
            "padding": null,
            "right": null,
            "top": null,
            "visibility": null,
            "width": "300px"
          }
        },
        "757aac76e36a4144bcad0ac60a2bc317": {
          "model_module": "@jupyter-widgets/controls",
          "model_name": "DescriptionStyleModel",
          "model_module_version": "1.5.0",
          "state": {
            "_model_module": "@jupyter-widgets/controls",
            "_model_module_version": "1.5.0",
            "_model_name": "DescriptionStyleModel",
            "_view_count": null,
            "_view_module": "@jupyter-widgets/base",
            "_view_module_version": "1.2.0",
            "_view_name": "StyleView",
            "description_width": ""
          }
        }
      }
    }
  },
  "nbformat": 4,
  "nbformat_minor": 0
}